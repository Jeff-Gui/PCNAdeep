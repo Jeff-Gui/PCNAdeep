{
 "cells": [
  {
   "cell_type": "code",
   "execution_count": 1,
   "id": "royal-interest",
   "metadata": {},
   "outputs": [],
   "source": [
    "import skimage.io as io\n",
    "import pandas as pd\n",
    "import os\n",
    "import warnings\n",
    "import numpy as np\n",
    "import matplotlib.pyplot as plt\n",
    "warnings.filterwarnings(\"ignore\")  # skimage warns when saving uint16 with not covering full range of 0-65535\n",
    "example_root = os.path.join(os.path.dirname(os.path.dirname(os.path.abspath('__file__'))), 'examples')"
   ]
  },
  {
   "cell_type": "markdown",
   "id": "genuine-chinese",
   "metadata": {},
   "source": [
    "## Train an SVM classifier to associate mitotic tracks\n",
    "### Author: Yifan Gui @ KuanYoow Chan group"
   ]
  },
  {
   "cell_type": "markdown",
   "id": "incorporated-blind",
   "metadata": {},
   "source": [
    "After nuclear envelope breakdown, PCNA protein flees out into the cytoplasm, leading to dim signal intensity during mitosis. Additionally, the rounding cell are usually hard to be captured by the microscopy within focus limit. To reconstruct mitosis event from tracking results, pcnaDeep offers two algorithms: __spatial/temporal threshold-based assocation__ and __SVM-based classifier__. The first requires no training and totally depends on thresholding setting (see [Getting_started](Getting_started.ipynb)), while the second __SVM classifier__ requires a small training set and may perform better with large heterogenity of the cell."
   ]
  },
  {
   "cell_type": "markdown",
   "id": "original-matthew",
   "metadata": {},
   "source": [
    "__SVM feature extractor__ in pcnaDeep is implemented as a class method `pcnaDeep.refiner.Refiner.get_SVM_train( )` that is able to extract SVM feature map under either `TRAIN_GT` or `TRAIN` mode. You can select based on what kind of input is available."
   ]
  },
  {
   "cell_type": "markdown",
   "id": "inside-exclusive",
   "metadata": {},
   "source": [
    "___Inputs to generate SVM training data___ &emsp;&emsp; (_we discuss outputs of `get_SVM_train()` in Section 2_)\n",
    "\n",
    "1. Tracked object table (GT including mitosis relationship). 👈 __`TRAIN_GT`__ mode. Section 1a\n",
    "\n",
    "\n",
    "2. Tracked object table (either GT or not) + mitosis lookup `txt`. 👈 __`TRAIN`__ mode. Section 1b\n",
    "\n",
    "---"
   ]
  },
  {
   "cell_type": "markdown",
   "id": "loose-second",
   "metadata": {},
   "source": [
    "### 1a. Extract mitosis ground truth `array` directly from GT tracked object table -- `TRAIN_GT` mode\n",
    "\n",
    "If your tracked object table includes ground truth of mitosis relationship, you can directly call __`Refiner.get_SVM_train( )`__. The method will check `parentTrackId` column in the table to recognize mitosis relationships. Doing such on non-GT table is dangerous since potential positive instances will be regarded as negative."
   ]
  },
  {
   "cell_type": "code",
   "execution_count": 3,
   "id": "addressed-catch",
   "metadata": {},
   "outputs": [],
   "source": [
    "from pcnaDeep.refiner import Refiner\n",
    "dt = pd.read_csv(os.path.join(example_root, 'MCF10A', '10A_cpd_tracks_GT_full.csv'))\n",
    "r = Refiner(dt.copy(), mode='TRAIN_GT', minM=1)"
   ]
  },
  {
   "cell_type": "code",
   "execution_count": 4,
   "id": "preceding-fourth",
   "metadata": {},
   "outputs": [
    {
     "name": "stderr",
     "output_type": "stream",
     "text": [
      "Mitosis exit not found for daughter: 124\n",
      "Mitosis exit not found for daughter: 126\n",
      "Mitosis exit not found for daughter: 132\n",
      "Mitosis exit not found for daughter: 160\n",
      "Mitosis exit not found for daughter: 184\n"
     ]
    }
   ],
   "source": [
    "X, y, samples = r.doTrackRefine()"
   ]
  },
  {
   "cell_type": "markdown",
   "id": "addressed-pontiac",
   "metadata": {},
   "source": [
    "---"
   ]
  },
  {
   "cell_type": "markdown",
   "id": "partial-duplicate",
   "metadata": {},
   "source": [
    "### 1b. Generate _mitosis lookup_ `.txt` from model output -- `TRAIN` mode\n",
    "All features fed into pcnaDeep SVM classifier is extracted from the __tracked object table__, i.e., one of the standard outputs of the model ends with __`_tracks.csv`__.  Therefore, it is convinent to start with this file. In this tutorial, we will play with the file `example/MCF10A/10A_cpd_tracks_GT_noM.csv`. The file names tells this tracked object table does not contain mitosis relationships.\n",
    "\n",
    "_Note:_ __Do not__ start with refined table (ends with `_refined.csv`) where mitosis information has already been predicted."
   ]
  },
  {
   "cell_type": "code",
   "execution_count": 2,
   "id": "floating-queue",
   "metadata": {},
   "outputs": [
    {
     "data": {
      "text/html": [
       "<div>\n",
       "<style scoped>\n",
       "    .dataframe tbody tr th:only-of-type {\n",
       "        vertical-align: middle;\n",
       "    }\n",
       "\n",
       "    .dataframe tbody tr th {\n",
       "        vertical-align: top;\n",
       "    }\n",
       "\n",
       "    .dataframe thead th {\n",
       "        text-align: right;\n",
       "    }\n",
       "</style>\n",
       "<table border=\"1\" class=\"dataframe\">\n",
       "  <thead>\n",
       "    <tr style=\"text-align: right;\">\n",
       "      <th></th>\n",
       "      <th>Unnamed: 0</th>\n",
       "      <th>frame</th>\n",
       "      <th>trackId</th>\n",
       "      <th>lineageId</th>\n",
       "      <th>parentTrackId</th>\n",
       "      <th>Center_of_the_object_1</th>\n",
       "      <th>Center_of_the_object_0</th>\n",
       "      <th>predicted_class</th>\n",
       "      <th>Probability of G1/G2</th>\n",
       "      <th>Probability of S</th>\n",
       "      <th>Probability of M</th>\n",
       "      <th>continuous_label</th>\n",
       "      <th>major_axis</th>\n",
       "      <th>minor_axis</th>\n",
       "      <th>mean_intensity</th>\n",
       "      <th>emerging</th>\n",
       "      <th>background_mean</th>\n",
       "      <th>BF_mean</th>\n",
       "      <th>BF_std</th>\n",
       "    </tr>\n",
       "  </thead>\n",
       "  <tbody>\n",
       "    <tr>\n",
       "      <th>0</th>\n",
       "      <td>0</td>\n",
       "      <td>0</td>\n",
       "      <td>1</td>\n",
       "      <td>1</td>\n",
       "      <td>0</td>\n",
       "      <td>14.870822</td>\n",
       "      <td>425.774164</td>\n",
       "      <td>S</td>\n",
       "      <td>0</td>\n",
       "      <td>1</td>\n",
       "      <td>0</td>\n",
       "      <td>1</td>\n",
       "      <td>82.920799</td>\n",
       "      <td>36.572696</td>\n",
       "      <td>148.540650</td>\n",
       "      <td>0</td>\n",
       "      <td>26.360563</td>\n",
       "      <td>126.138663</td>\n",
       "      <td>37.481392</td>\n",
       "    </tr>\n",
       "    <tr>\n",
       "      <th>1</th>\n",
       "      <td>76</td>\n",
       "      <td>1</td>\n",
       "      <td>1</td>\n",
       "      <td>1</td>\n",
       "      <td>0</td>\n",
       "      <td>19.041292</td>\n",
       "      <td>439.863137</td>\n",
       "      <td>S</td>\n",
       "      <td>0</td>\n",
       "      <td>1</td>\n",
       "      <td>0</td>\n",
       "      <td>4</td>\n",
       "      <td>92.452418</td>\n",
       "      <td>44.550738</td>\n",
       "      <td>131.646687</td>\n",
       "      <td>0</td>\n",
       "      <td>24.297872</td>\n",
       "      <td>129.554113</td>\n",
       "      <td>34.466815</td>\n",
       "    </tr>\n",
       "    <tr>\n",
       "      <th>2</th>\n",
       "      <td>150</td>\n",
       "      <td>2</td>\n",
       "      <td>1</td>\n",
       "      <td>1</td>\n",
       "      <td>0</td>\n",
       "      <td>24.161390</td>\n",
       "      <td>444.094025</td>\n",
       "      <td>S</td>\n",
       "      <td>0</td>\n",
       "      <td>1</td>\n",
       "      <td>0</td>\n",
       "      <td>4</td>\n",
       "      <td>100.336281</td>\n",
       "      <td>56.368319</td>\n",
       "      <td>125.949060</td>\n",
       "      <td>0</td>\n",
       "      <td>24.348948</td>\n",
       "      <td>121.808379</td>\n",
       "      <td>34.208668</td>\n",
       "    </tr>\n",
       "    <tr>\n",
       "      <th>3</th>\n",
       "      <td>225</td>\n",
       "      <td>3</td>\n",
       "      <td>1</td>\n",
       "      <td>1</td>\n",
       "      <td>0</td>\n",
       "      <td>27.079906</td>\n",
       "      <td>432.878329</td>\n",
       "      <td>S</td>\n",
       "      <td>0</td>\n",
       "      <td>1</td>\n",
       "      <td>0</td>\n",
       "      <td>2</td>\n",
       "      <td>97.287518</td>\n",
       "      <td>63.382501</td>\n",
       "      <td>130.443213</td>\n",
       "      <td>0</td>\n",
       "      <td>30.539299</td>\n",
       "      <td>118.404645</td>\n",
       "      <td>33.323533</td>\n",
       "    </tr>\n",
       "    <tr>\n",
       "      <th>4</th>\n",
       "      <td>305</td>\n",
       "      <td>4</td>\n",
       "      <td>1</td>\n",
       "      <td>1</td>\n",
       "      <td>0</td>\n",
       "      <td>24.326324</td>\n",
       "      <td>428.842665</td>\n",
       "      <td>S</td>\n",
       "      <td>0</td>\n",
       "      <td>1</td>\n",
       "      <td>0</td>\n",
       "      <td>1</td>\n",
       "      <td>90.938206</td>\n",
       "      <td>57.145022</td>\n",
       "      <td>124.473017</td>\n",
       "      <td>0</td>\n",
       "      <td>37.383513</td>\n",
       "      <td>128.902711</td>\n",
       "      <td>31.516612</td>\n",
       "    </tr>\n",
       "    <tr>\n",
       "      <th>...</th>\n",
       "      <td>...</td>\n",
       "      <td>...</td>\n",
       "      <td>...</td>\n",
       "      <td>...</td>\n",
       "      <td>...</td>\n",
       "      <td>...</td>\n",
       "      <td>...</td>\n",
       "      <td>...</td>\n",
       "      <td>...</td>\n",
       "      <td>...</td>\n",
       "      <td>...</td>\n",
       "      <td>...</td>\n",
       "      <td>...</td>\n",
       "      <td>...</td>\n",
       "      <td>...</td>\n",
       "      <td>...</td>\n",
       "      <td>...</td>\n",
       "      <td>...</td>\n",
       "      <td>...</td>\n",
       "    </tr>\n",
       "    <tr>\n",
       "      <th>5356</th>\n",
       "      <td>5144</td>\n",
       "      <td>63</td>\n",
       "      <td>162</td>\n",
       "      <td>162</td>\n",
       "      <td>0</td>\n",
       "      <td>437.873684</td>\n",
       "      <td>610.110526</td>\n",
       "      <td>G1/G2</td>\n",
       "      <td>1</td>\n",
       "      <td>0</td>\n",
       "      <td>0</td>\n",
       "      <td>27</td>\n",
       "      <td>57.980703</td>\n",
       "      <td>38.159348</td>\n",
       "      <td>206.819883</td>\n",
       "      <td>0</td>\n",
       "      <td>32.299578</td>\n",
       "      <td>157.157310</td>\n",
       "      <td>48.911226</td>\n",
       "    </tr>\n",
       "    <tr>\n",
       "      <th>5357</th>\n",
       "      <td>5225</td>\n",
       "      <td>64</td>\n",
       "      <td>162</td>\n",
       "      <td>162</td>\n",
       "      <td>0</td>\n",
       "      <td>438.639163</td>\n",
       "      <td>611.216153</td>\n",
       "      <td>G1/G2</td>\n",
       "      <td>1</td>\n",
       "      <td>0</td>\n",
       "      <td>0</td>\n",
       "      <td>27</td>\n",
       "      <td>57.037676</td>\n",
       "      <td>39.052081</td>\n",
       "      <td>210.405578</td>\n",
       "      <td>0</td>\n",
       "      <td>38.607516</td>\n",
       "      <td>159.740848</td>\n",
       "      <td>53.146386</td>\n",
       "    </tr>\n",
       "    <tr>\n",
       "      <th>5358</th>\n",
       "      <td>5151</td>\n",
       "      <td>63</td>\n",
       "      <td>163</td>\n",
       "      <td>163</td>\n",
       "      <td>0</td>\n",
       "      <td>513.168726</td>\n",
       "      <td>1033.574776</td>\n",
       "      <td>M</td>\n",
       "      <td>0</td>\n",
       "      <td>0</td>\n",
       "      <td>1</td>\n",
       "      <td>34</td>\n",
       "      <td>58.523991</td>\n",
       "      <td>51.364389</td>\n",
       "      <td>67.253941</td>\n",
       "      <td>0</td>\n",
       "      <td>37.347162</td>\n",
       "      <td>211.226246</td>\n",
       "      <td>54.948653</td>\n",
       "    </tr>\n",
       "    <tr>\n",
       "      <th>5359</th>\n",
       "      <td>5230</td>\n",
       "      <td>64</td>\n",
       "      <td>163</td>\n",
       "      <td>163</td>\n",
       "      <td>0</td>\n",
       "      <td>518.664538</td>\n",
       "      <td>1048.206157</td>\n",
       "      <td>M</td>\n",
       "      <td>0</td>\n",
       "      <td>0</td>\n",
       "      <td>1</td>\n",
       "      <td>32</td>\n",
       "      <td>81.624698</td>\n",
       "      <td>68.777094</td>\n",
       "      <td>74.019384</td>\n",
       "      <td>0</td>\n",
       "      <td>57.581454</td>\n",
       "      <td>132.044698</td>\n",
       "      <td>61.648130</td>\n",
       "    </tr>\n",
       "    <tr>\n",
       "      <th>5360</th>\n",
       "      <td>5311</td>\n",
       "      <td>65</td>\n",
       "      <td>163</td>\n",
       "      <td>163</td>\n",
       "      <td>0</td>\n",
       "      <td>522.878760</td>\n",
       "      <td>1063.534558</td>\n",
       "      <td>G1/G2</td>\n",
       "      <td>1</td>\n",
       "      <td>0</td>\n",
       "      <td>0</td>\n",
       "      <td>32</td>\n",
       "      <td>79.505781</td>\n",
       "      <td>70.126414</td>\n",
       "      <td>81.636051</td>\n",
       "      <td>1</td>\n",
       "      <td>58.523985</td>\n",
       "      <td>118.967623</td>\n",
       "      <td>45.590108</td>\n",
       "    </tr>\n",
       "  </tbody>\n",
       "</table>\n",
       "<p>5361 rows × 19 columns</p>\n",
       "</div>"
      ],
      "text/plain": [
       "      Unnamed: 0  frame  trackId  lineageId  parentTrackId  \\\n",
       "0              0      0        1          1              0   \n",
       "1             76      1        1          1              0   \n",
       "2            150      2        1          1              0   \n",
       "3            225      3        1          1              0   \n",
       "4            305      4        1          1              0   \n",
       "...          ...    ...      ...        ...            ...   \n",
       "5356        5144     63      162        162              0   \n",
       "5357        5225     64      162        162              0   \n",
       "5358        5151     63      163        163              0   \n",
       "5359        5230     64      163        163              0   \n",
       "5360        5311     65      163        163              0   \n",
       "\n",
       "      Center_of_the_object_1  Center_of_the_object_0 predicted_class  \\\n",
       "0                  14.870822              425.774164               S   \n",
       "1                  19.041292              439.863137               S   \n",
       "2                  24.161390              444.094025               S   \n",
       "3                  27.079906              432.878329               S   \n",
       "4                  24.326324              428.842665               S   \n",
       "...                      ...                     ...             ...   \n",
       "5356              437.873684              610.110526           G1/G2   \n",
       "5357              438.639163              611.216153           G1/G2   \n",
       "5358              513.168726             1033.574776               M   \n",
       "5359              518.664538             1048.206157               M   \n",
       "5360              522.878760             1063.534558           G1/G2   \n",
       "\n",
       "      Probability of G1/G2  Probability of S  Probability of M  \\\n",
       "0                        0                 1                 0   \n",
       "1                        0                 1                 0   \n",
       "2                        0                 1                 0   \n",
       "3                        0                 1                 0   \n",
       "4                        0                 1                 0   \n",
       "...                    ...               ...               ...   \n",
       "5356                     1                 0                 0   \n",
       "5357                     1                 0                 0   \n",
       "5358                     0                 0                 1   \n",
       "5359                     0                 0                 1   \n",
       "5360                     1                 0                 0   \n",
       "\n",
       "      continuous_label  major_axis  minor_axis  mean_intensity  emerging  \\\n",
       "0                    1   82.920799   36.572696      148.540650         0   \n",
       "1                    4   92.452418   44.550738      131.646687         0   \n",
       "2                    4  100.336281   56.368319      125.949060         0   \n",
       "3                    2   97.287518   63.382501      130.443213         0   \n",
       "4                    1   90.938206   57.145022      124.473017         0   \n",
       "...                ...         ...         ...             ...       ...   \n",
       "5356                27   57.980703   38.159348      206.819883         0   \n",
       "5357                27   57.037676   39.052081      210.405578         0   \n",
       "5358                34   58.523991   51.364389       67.253941         0   \n",
       "5359                32   81.624698   68.777094       74.019384         0   \n",
       "5360                32   79.505781   70.126414       81.636051         1   \n",
       "\n",
       "      background_mean     BF_mean     BF_std  \n",
       "0           26.360563  126.138663  37.481392  \n",
       "1           24.297872  129.554113  34.466815  \n",
       "2           24.348948  121.808379  34.208668  \n",
       "3           30.539299  118.404645  33.323533  \n",
       "4           37.383513  128.902711  31.516612  \n",
       "...               ...         ...        ...  \n",
       "5356        32.299578  157.157310  48.911226  \n",
       "5357        38.607516  159.740848  53.146386  \n",
       "5358        37.347162  211.226246  54.948653  \n",
       "5359        57.581454  132.044698  61.648130  \n",
       "5360        58.523985  118.967623  45.590108  \n",
       "\n",
       "[5361 rows x 19 columns]"
      ]
     },
     "execution_count": 2,
     "metadata": {},
     "output_type": "execute_result"
    }
   ],
   "source": [
    "dt = pd.read_csv(os.path.join(example_root, 'MCF10A', '10A_cpd_tracks_GT_noM.csv'))\n",
    "dt"
   ]
  },
  {
   "cell_type": "markdown",
   "id": "willing-state",
   "metadata": {},
   "source": [
    "### &emsp;1b.1 Generate mitosis-broken table\n",
    "pcnaDeep SVM takes in inputs extracted from __track A__ and __track B__ and outputs __the confidence that track A is the parent of track B__. This requires each track does not includes any entire mitosis events, which is accomplished in the first step of normal track refinement by a class method of `pcnaDeep.refiner.Refiner` named __`break_mitosis( )`__, which implements a greedy search throughout the track. Such operation should be recursively performed to break any possible mitosis events.\n",
    "\n",
    "The above process can be automatically completed through calling `pcnaDeep.refiner.Refiner.doTrackRefine( )` in a `Refiner` object initialized with `TRAIN` mode. The method returns the tracked object table with all mitosis broken, as well as the standard mitosis relationship dictionary `{parent ID: {'div': int, 'daug':{daughter ID: {'mitosis exit':int, 'dist':float}}}}`."
   ]
  },
  {
   "cell_type": "code",
   "execution_count": 3,
   "id": "virtual-engagement",
   "metadata": {},
   "outputs": [],
   "source": [
    "from pcnaDeep.refiner import Refiner\n",
    "r = Refiner(dt.copy(), mode='TRAIN', minM=1)\n",
    "mitosis_broken, mt_dic = r.doTrackRefine()"
   ]
  },
  {
   "cell_type": "code",
   "execution_count": 4,
   "id": "purple-moses",
   "metadata": {},
   "outputs": [
    {
     "data": {
      "text/plain": [
       "{5: {'div': 40, 'daug': {164: {'m_exit': 44, 'dist': 38.16}}},\n",
       " 7: {'div': 30, 'daug': {165: {'m_exit': 34, 'dist': 14.95}}},\n",
       " 8: {'div': 41, 'daug': {166: {'m_exit': 43, 'dist': 42.22}}},\n",
       " 10: {'div': 17, 'daug': {167: {'m_exit': 19, 'dist': 50.62}}},\n",
       " 11: {'div': 57, 'daug': {168: {'m_exit': 59, 'dist': 28.04}}},\n",
       " 14: {'div': 33, 'daug': {169: {'m_exit': 35, 'dist': 27.48}}},\n",
       " 29: {'div': 47, 'daug': {170: {'m_exit': 52, 'dist': 42.34}}},\n",
       " 49: {'div': 36, 'daug': {171: {'m_exit': 39, 'dist': 23.05}}},\n",
       " 50: {'div': 36, 'daug': {172: {'m_exit': 40, 'dist': 22.78}}},\n",
       " 55: {'div': 39, 'daug': {173: {'m_exit': 44, 'dist': 66.0}}},\n",
       " 57: {'div': 58, 'daug': {174: {'m_exit': 64, 'dist': 24.59}}},\n",
       " 60: {'div': 3, 'daug': {175: {'m_exit': 8, 'dist': 25.0}}},\n",
       " 69: {'div': 46, 'daug': {176: {'m_exit': 51, 'dist': 45.86}}},\n",
       " 72: {'div': 3, 'daug': {177: {'m_exit': 14, 'dist': 21.11}}},\n",
       " 74: {'div': 46, 'daug': {178: {'m_exit': 49, 'dist': 42.3}}},\n",
       " 78: {'div': 29, 'daug': {179: {'m_exit': 34, 'dist': 51.82}}},\n",
       " 97: {'div': 36, 'daug': {180: {'m_exit': 39, 'dist': 37.1}}},\n",
       " 100: {'div': 32, 'daug': {181: {'m_exit': 35, 'dist': 56.11}}}}"
      ]
     },
     "execution_count": 4,
     "metadata": {},
     "output_type": "execute_result"
    }
   ],
   "source": [
    "mt_dic  # here, 'dist' field refers to location distance, will be replaced with 1 - SVM confidence in processing"
   ]
  },
  {
   "cell_type": "markdown",
   "id": "square-controversy",
   "metadata": {},
   "source": [
    "We must __save the output object table__ for visualization in the next step."
   ]
  },
  {
   "cell_type": "code",
   "execution_count": 5,
   "id": "greenhouse-kinase",
   "metadata": {},
   "outputs": [],
   "source": [
    "mitosis_broken.to_csv(os.path.join(example_root, 'MCF10A', '10A_cpd_tracks_GT_noM_mt_broken.csv'), index=None)"
   ]
  },
  {
   "cell_type": "markdown",
   "id": "saved-contract",
   "metadata": {},
   "source": [
    "### &emsp;1b.2 Visualize in Fiji (ImageJ) to inspect mitosis events and record _mitosis lookup_ `.txt`\n",
    "\n",
    "_Note:_ Make sure you have already installed [__TrackMate CSV Importer__](https://github.com/tinevez/TrackMate-CSVImporter) Fiji plugin."
   ]
  },
  {
   "cell_type": "markdown",
   "id": "through-theme",
   "metadata": {},
   "source": [
    "\n",
    "\n",
    "1. Load `exmaple/MCF10A/10A_cpd.tif` to Fiji through dragging it to the tool bar or __File > Open__.\n",
    "\n",
    "\n",
    "2. Invert t and z axis of the image if necessary, through __Image > Properties__. In this example, set _frame (t)_ to 66 and _slice (z)_ to 1.\n",
    "\n",
    "\n",
    "3. Open TrackMate CSV Importer through __Plugin > Tracking > TrackMate CSV Importer__.\n",
    "\n",
    "\n",
    "4. Config parameters as the following (see screenshot 👉 ):\n",
    "    <img src=\"../assets/trackMate_guide_1.png\"  alt=\"config trackmate csv importer\" width=450 align=\"right\"/>\n",
    "    \n",
    "    - Compute all features? = unchecked; Import tracks? = tracked\n",
    "    - Radius: choose one comfortable to the cell size, in this case is 50 pixels\n",
    "    - X/Y column: Center_of_the_object_0/1\n",
    "    - Z column: \"Don't use\"\n",
    "    - Frame column: frame\n",
    "    - Track column: trackId\n",
    "    - Name column: trackId\n",
    "    - Quality column & ID column: \"Don't use\"\n",
    "    \n",
    "    \n",
    "5. Click 'Import', and then adjust GUI\n",
    "    - check \"Display spot names\"\n",
    "    - under \"Track display mode\", choose \"Show local tracks\"\n",
    "    \n",
    "    \n",
    "6. Identify mitosis events, record __parent and daughter tracks__ in a `.txt` file.   \n",
    "  __Do not__ record negative instances, it will be automatically generated later.\n",
    "   \n",
    "    Format (header not required, from example view below 👇):\n",
    "    | parent | daughter|\n",
    "    | :---: | :---: |\n",
    "    | 140 | 169 |\n",
    "    | 140 | 121 |\n",
    "    | 140 | 122 |\n",
    "    \n",
    "    ---\n",
    "    \n",
    "    <img src=\"../assets/trackMate_guide_2.png\"  alt=\"mitosis example\" width=900/>\n",
    "    \n",
    "    ---\n",
    "    \n",
    "     __Some rules to follow__:\n",
    "    - If a mitosis track is not broken (e.g. in the above picture, 141 and its daughter 122), this is a prediction error from the function call `break_mitosis( )`. This can be overcome by adjusting threshold of the adaptive phase searching. However, when generating the SVM ground truth, there is no need to consider these cases, because training instances will only be extracted from broken tracks; i.e., do not put (141, 122) in the table.\n",
    "    \n",
    "    \n",
    "  7. __Save your `.txt` file__, an example file is shown in `/examples/MCF10A/0001.txt`. This will be the ___mitosis lookup___ `.txt`"
   ]
  },
  {
   "cell_type": "markdown",
   "id": "vertical-spiritual",
   "metadata": {},
   "source": [
    "### &emsp;1a.3 Extract _mitosis ground truth_ `array` from _mitosis lookup_ `.txt` as SVM training data\n",
    "We can draw SVM training data from a `Refiner` object in `TRAIN` mode, by supplying an `numpy.array` mitosis lookup table to the method __`Refiner.get_SVM_train( )`__.\n",
    "\n",
    "Note: If you choose the __option 1__ above, i.e., use manual labeled `.txt` file for mitosis ground truth, you should __NOT__ initialize the Refiner object again.\n",
    "\n",
    "On the contrary, if you choose __option 2__, i.e., generate a ground truth tracked object table, you must run `Refiner.doTrackRefine()` at first to check all mitosis tracks are broken.  If no, you should again, manually break these tracks.\n",
    "\n",
    "In brief, __MAKE SURE that the `Refiner` object has been called with `doTrackRefine(mode='TRAIN')` yet and your mitosis ground truth matches table after breaking the mitotic tracks.__"
   ]
  },
  {
   "cell_type": "code",
   "execution_count": 6,
   "id": "flush-democracy",
   "metadata": {},
   "outputs": [],
   "source": [
    "## Read in lookup table\n",
    "# skip header if essential (header in file)\n",
    "mt_lookup_array = np.array(pd.read_csv(os.path.join(example_root, 'MCF10A', '10A_cpd_mitosis_lookup.txt'), header=0))"
   ]
  },
  {
   "cell_type": "markdown",
   "id": "biblical-cradle",
   "metadata": {},
   "source": [
    "`Refiner.get_SVM_train( )` takes the parameter `remove_outlier=[int]` and `normalize=False` for manipulating the feature. For outlier removal, the list should include indecies of columns you wish to inspect. If you are going to generate multiple training sets, it will be better to save raw feature and normalize then together manually (see section 4). "
   ]
  },
  {
   "cell_type": "code",
   "execution_count": 7,
   "id": "designed-circulation",
   "metadata": {},
   "outputs": [],
   "source": [
    "X, y, samples = r.get_SVM_train(mt_lookup_array)\n",
    "# returns:\n",
    "# X: input vector\n",
    "# y: labels\n",
    "# samples: track ID of each parent-daughter input."
   ]
  },
  {
   "cell_type": "markdown",
   "id": "necessary-merchant",
   "metadata": {},
   "source": [
    "---"
   ]
  },
  {
   "cell_type": "markdown",
   "id": "occasional-intranet",
   "metadata": {},
   "source": [
    "### __2. Raw training feature map__ is saved and used to fit an SVM model at run-time (SVM mode).\n",
    "\n",
    "When fitting an SVM model to inference on a testing set, the training feature map will be used __in combination with another feature map derived from the testing set itself__. Because pcnaDeep automatically breaks tracks involving a mitosis event (one-daughter) before associating two-daughter relationships, these mitosis events are regarded as an __internal training set__."
   ]
  },
  {
   "cell_type": "markdown",
   "id": "faced-steel",
   "metadata": {},
   "source": [
    "__Feature map__ of the SVM model used in pcnaDeep:\n",
    "1. Distance difference between parent (when it disappears) and daughter (when it appears),   \n",
    "    normalized with average displace of the entire dataset.\n",
    "2. Frame difference between parent (when it disappears) and daughter (when it apppears),   \n",
    "    normalized with absolute time of mitosis (`sample_freq * mt_len`)\n",
    "3. Minimum average intensity of parent and daughter. Note mitosis cells should have very low intensity.\n",
    "4. Mitosis score of parent + daughter\n",
    "\n",
    "    mitosis score = sum_i(Indicator_{predicted_class = 'M'} * 0.9 ^ abs((t_i - t_mitosis_entry/exit)))\n",
    "    \n",
    "5. Minimum of parent track frame length and daughter track frame length normalized by `sample_freq`"
   ]
  },
  {
   "cell_type": "code",
   "execution_count": 9,
   "id": "becoming-playback",
   "metadata": {},
   "outputs": [],
   "source": [
    "train = pd.DataFrame(X)\n",
    "train['y'] = y\n",
    "train.to_csv(os.path.join(example_root, 'MCF10A', 'SVM_train.txt'), header=0, index=0)"
   ]
  },
  {
   "cell_type": "code",
   "execution_count": 10,
   "id": "undefined-tanzania",
   "metadata": {},
   "outputs": [],
   "source": [
    "# Label training set with mother and daughter track ID.\n",
    "train['par'] = samples[:,0]\n",
    "train['daug'] = samples[:,1]\n",
    "train.to_csv(os.path.join(example_root, 'MCF10A', 'SVM_train_lbd.txt'), header=0, index=0)  # record meta for inspection"
   ]
  },
  {
   "cell_type": "markdown",
   "id": "viral-screening",
   "metadata": {},
   "source": [
    "---"
   ]
  },
  {
   "cell_type": "markdown",
   "id": "crude-purse",
   "metadata": {},
   "source": [
    "### 3. (optional) Initialize, Fit, Save the SVM model\n",
    "\n",
    "SVM model in pcnaDeep is fitted during runtime. There is no need to use a pretrained SVM model.\n",
    "\n",
    "During runtime, `pcnaDeep.refiner.Refiner` is initialized by the parameter `model_train` specifying the file path to the\n",
    "training set (like `SVM_train.txt` saved above). When preparing the model, the `Refiner` do following things:\n",
    "\n",
    "1. Append positive instances from mitosis breaking to the training set;\n",
    "2. Oversample training set with `imblearn.over_sampling.BorderlineSMOTE`;\n",
    "3. Normalize training input with `sklearn.preprocessing RobustScaler`.\n",
    "4. Fit SVM model with parameters `C=100`, `gamma=1`.\n",
    "\n",
    "Codes below illustrate the process except for step 1."
   ]
  },
  {
   "cell_type": "code",
   "execution_count": 5,
   "id": "listed-yorkshire",
   "metadata": {},
   "outputs": [],
   "source": [
    "dt = pd.read_csv(os.path.join(example_root, 'MCF10A', 'SVM_train_lbd.txt'), header=None)\n",
    "X_train = dt.iloc[:,0:4].to_numpy()\n",
    "y_train = dt.iloc[:,5].to_numpy()"
   ]
  },
  {
   "cell_type": "code",
   "execution_count": 4,
   "id": "ignored-strand",
   "metadata": {},
   "outputs": [],
   "source": [
    "# Oversampling\n",
    "from imblearn.over_sampling import BorderlineSMOTE\n",
    "smote = BorderlineSMOTE(random_state=1, kind='borderline-1')\n",
    "X_train, y_train = smote.fit_resample(X_train, y_train)"
   ]
  },
  {
   "cell_type": "markdown",
   "id": "specific-feedback",
   "metadata": {},
   "source": [
    "__Visualize oversampled feature map__"
   ]
  },
  {
   "cell_type": "code",
   "execution_count": 13,
   "id": "annual-pizza",
   "metadata": {},
   "outputs": [
    {
     "data": {
      "text/plain": [
       "<matplotlib.collections.PathCollection at 0x7fb3f2bb3290>"
      ]
     },
     "execution_count": 13,
     "metadata": {},
     "output_type": "execute_result"
    },
    {
     "data": {
      "image/png": "[encoded data removed]",
      "text/plain": [
       "<Figure size 432x288 with 1 Axes>"
      ]
     },
     "metadata": {
      "needs_background": "light"
     },
     "output_type": "display_data"
    }
   ],
   "source": [
    "import matplotlib.pyplot as plt\n",
    "sub = X_train[:,[0,1,2]]  # spatial and temporal distance and max mitosis score, the first three features\n",
    "plt.scatter(sub[:,0], sub[:,1], c=y_train, s=(- min(sub[:,2]) + sub[:,2])*1, alpha=0.8, cmap='coolwarm')"
   ]
  },
  {
   "cell_type": "markdown",
   "id": "electronic-reset",
   "metadata": {},
   "source": [
    "From the plot, we see that _spatial and temporal correlations_ are strong predictors of the mitosis relationship. However, _mitosis score_, a secondary feature derived from cell cycle classification, does not help much to discern mitosis pairs. We believe this is a result from inaccurate mitosis prediction and should be fixed with increasing training set."
   ]
  },
  {
   "cell_type": "markdown",
   "id": "blond-class",
   "metadata": {},
   "source": [
    "__Find optimal parameters__"
   ]
  },
  {
   "cell_type": "code",
   "execution_count": 75,
   "id": "radical-details",
   "metadata": {},
   "outputs": [],
   "source": [
    "C_range = list(map(lambda x:10**x, np.linspace(-1,5,100)))\n",
    "gamma_range = list(map(lambda x:10**x, np.linspace(-5,1,10)))"
   ]
  },
  {
   "cell_type": "markdown",
   "id": "ignored-festival",
   "metadata": {},
   "source": [
    "#### WARNING: The following grid search require high computing power !!!"
   ]
  },
  {
   "cell_type": "code",
   "execution_count": 76,
   "id": "minute-apparel",
   "metadata": {},
   "outputs": [
    {
     "name": "stdout",
     "output_type": "stream",
     "text": [
      "Fitting 5 folds for each of 100 candidates, totalling 500 fits\n",
      "C 0.464158883361278\n",
      "break_ties False\n",
      "cache_size 200\n",
      "class_weight balanced\n",
      "coef0 0.0\n",
      "decision_function_shape ovr\n",
      "degree 3\n",
      "gamma scale\n",
      "kernel linear\n",
      "max_iter -1\n",
      "probability True\n",
      "random_state None\n",
      "shrinking True\n",
      "tol 0.001\n",
      "verbose False\n",
      "[0.89867841 0.99559471 0.99118943 0.98678414 0.99557522]\n"
     ]
    }
   ],
   "source": [
    "# Grid search on best params\n",
    "from sklearn.model_selection import GridSearchCV \n",
    "from sklearn.model_selection import cross_val_score   \n",
    "from sklearn.svm import SVC \n",
    "\n",
    "def svm_cross_validation(train_x, train_y):       \n",
    "    #model = SVC(kernel='rbf', probability=True, class_weight='balanced')\n",
    "    #param_grid = {'C': C_range, 'gamma': gamma_range} \n",
    "    model = SVC(kernel='linear', probability=True, class_weight='balanced')    \n",
    "    param_grid = {'C': C_range}\n",
    "    grid_search = GridSearchCV(model, param_grid, n_jobs = 2, verbose=1, scoring='f1')\n",
    "    grid_search.fit(train_x, train_y)\n",
    "    best_parameters = grid_search.best_estimator_.get_params()\n",
    "    for para, val in list(best_parameters.items()):\n",
    "        print(para, val)\n",
    "    model = SVC(kernel='rbf', C=best_parameters['C'], gamma=best_parameters['gamma'], probability=True, class_weight='balanced')\n",
    "    model.fit(train_x, train_y)\n",
    "    return model, grid_search.cv_results_\n",
    "\n",
    "model, results = svm_cross_validation(X_train, y_train)\n",
    "scores = cross_val_score(model, X_train, y_train, cv=5)\n",
    "print(scores)"
   ]
  },
  {
   "cell_type": "code",
   "execution_count": 77,
   "id": "molecular-tokyo",
   "metadata": {},
   "outputs": [],
   "source": [
    "score = results['mean_test_score']\n",
    "#gamma = results['param_gamma']\n",
    "c = list(results['param_C'])"
   ]
  },
  {
   "cell_type": "code",
   "execution_count": 89,
   "id": "metallic-david",
   "metadata": {},
   "outputs": [
    {
     "data": {
      "text/plain": [
       "<matplotlib.collections.PathCollection at 0x7fb3d620f950>"
      ]
     },
     "execution_count": 89,
     "metadata": {},
     "output_type": "execute_result"
    },
    {
     "data": {
      "image/png": "[encoded data removed]",
      "text/plain": [
       "<Figure size 432x288 with 1 Axes>"
      ]
     },
     "metadata": {
      "needs_background": "light"
     },
     "output_type": "display_data"
    }
   ],
   "source": [
    "import matplotlib.pyplot as plt\n",
    "#plt.yscale(\"log\")\n",
    "plt.xscale(\"log\")\n",
    "#plt.scatter(x=c, y=gamma, c=score, cmap='hot')\n",
    "plt.scatter(x=c, y=[1 for _ in range(len(c))], c=score, s=5)"
   ]
  },
  {
   "cell_type": "markdown",
   "id": "packed-telescope",
   "metadata": {},
   "source": [
    "---\n",
    "\n",
    "### Fit model"
   ]
  },
  {
   "cell_type": "code",
   "execution_count": 18,
   "id": "floral-share",
   "metadata": {},
   "outputs": [],
   "source": [
    "c = 5\n",
    "gamma = 1"
   ]
  },
  {
   "cell_type": "code",
   "execution_count": 7,
   "id": "intensive-creature",
   "metadata": {},
   "outputs": [],
   "source": [
    "# normalize\n",
    "from sklearn.preprocessing import RobustScaler\n",
    "scaler = RobustScaler()\n",
    "X_train = scaler.fit_transform(X_train)"
   ]
  },
  {
   "cell_type": "code",
   "execution_count": 19,
   "id": "mediterranean-cable",
   "metadata": {},
   "outputs": [
    {
     "data": {
      "text/plain": [
       "SVC(C=5, class_weight='balanced', kernel='linear', probability=True)"
      ]
     },
     "execution_count": 19,
     "metadata": {},
     "output_type": "execute_result"
    }
   ],
   "source": [
    "from sklearn.svm import SVC \n",
    "#model = SVC(kernel='rbf', C=100, gamma=0.01, probability=True, class_weight='balanced')    \n",
    "model = SVC(kernel='linear', C=c, probability=True, class_weight='balanced')    \n",
    "model.fit(X_train, y_train)"
   ]
  },
  {
   "cell_type": "markdown",
   "id": "knowing-movement",
   "metadata": {},
   "source": [
    "### ROC of model performance (on training set)"
   ]
  },
  {
   "cell_type": "code",
   "execution_count": 9,
   "id": "sunrise-session",
   "metadata": {},
   "outputs": [],
   "source": [
    "from sklearn.metrics import roc_curve\n",
    "def plot_roc_curve(fpr, tpr, label=None):\n",
    "    plt.plot(fpr, tpr, linewidth=2, label=label)\n",
    "    plt.plot([0,1], [0,1], 'k--')\n",
    "    plt.axis([0,1,0,1])\n",
    "    plt.xlabel('FPR')\n",
    "    plt.ylabel('TPR')"
   ]
  },
  {
   "cell_type": "code",
   "execution_count": 20,
   "id": "ranking-evaluation",
   "metadata": {},
   "outputs": [],
   "source": [
    "y_score_cls = model.predict_proba(X_train)\n",
    "y_score = []\n",
    "for i in range(y_score_cls.shape[0]):\n",
    "    if y_score_cls[i,0] > y_score_cls[i,1]:\n",
    "        y_score.append(y_score_cls[i,1])\n",
    "    else:\n",
    "        y_score.append(y_score_cls[i,0])\n",
    "fpr, tpr, thresholds = roc_curve(y_train, y_score)"
   ]
  },
  {
   "cell_type": "code",
   "execution_count": 21,
   "id": "wrong-syndrome",
   "metadata": {},
   "outputs": [
    {
     "data": {
      "image/png": "[encoded data removed]",
      "text/plain": [
       "<Figure size 432x288 with 1 Axes>"
      ]
     },
     "metadata": {
      "needs_background": "light"
     },
     "output_type": "display_data"
    }
   ],
   "source": [
    "plot_roc_curve(fpr, tpr)\n",
    "plt.show()"
   ]
  },
  {
   "cell_type": "markdown",
   "id": "figured-barbados",
   "metadata": {},
   "source": [
    "### Visualize the decision boundary (linear kernal only, 2D model)\n",
    "\n",
    "[_Code Reference (Chinese)_](https://blog.csdn.net/bingbangx/article/details/107856502)"
   ]
  },
  {
   "cell_type": "code",
   "execution_count": 15,
   "id": "laughing-digit",
   "metadata": {},
   "outputs": [],
   "source": [
    "def plot_svc_decision_function(model,ax=None):\n",
    "    if ax is None:\n",
    "        ax = plt.gca()\n",
    "    xlim = ax.get_xlim()\n",
    "    ylim = ax.get_ylim()\n",
    "\n",
    "    x = np.linspace(xlim[0],xlim[1],30)\n",
    "    y = np.linspace(ylim[0],ylim[1],30)\n",
    "    Y,X = np.meshgrid(y,x) \n",
    "    xy = np.vstack([X.ravel(), Y.ravel()]).T\n",
    "    P = model.decision_function(xy).reshape(X.shape)\n",
    "\n",
    "    ax.contour(X, Y, P,colors=\"k\",levels=[-1,0,1],alpha=0.5,linestyles=[\"--\",\"-\",\"--\"]) \n",
    "    ax.set_xlim(xlim)\n",
    "    ax.set_ylim(ylim)"
   ]
  },
  {
   "cell_type": "code",
   "execution_count": 22,
   "id": "global-receptor",
   "metadata": {},
   "outputs": [
    {
     "data": {
      "text/plain": [
       "SVC(C=5, class_weight='balanced', kernel='linear', probability=True)"
      ]
     },
     "execution_count": 22,
     "metadata": {},
     "output_type": "execute_result"
    }
   ],
   "source": [
    "model = SVC(kernel='linear', C=c, probability=True, class_weight='balanced')    \n",
    "model.fit(X_train[:,0:2], y_train)"
   ]
  },
  {
   "cell_type": "code",
   "execution_count": 23,
   "id": "julian-obligation",
   "metadata": {},
   "outputs": [
    {
     "data": {
      "image/png": "[encoded data removed]",
      "text/plain": [
       "<Figure size 432x288 with 1 Axes>"
      ]
     },
     "metadata": {
      "needs_background": "light"
     },
     "output_type": "display_data"
    }
   ],
   "source": [
    "plt.scatter(X_train[:,0],X_train[:,1],c=y_train,s=10,cmap=\"rainbow\")\n",
    "plot_svc_decision_function(model)"
   ]
  },
  {
   "cell_type": "code",
   "execution_count": 28,
   "id": "changed-monitor",
   "metadata": {},
   "outputs": [
    {
     "data": {
      "application/vnd.jupyter.widget-view+json": {
       "model_id": "1aaf63796dfb4a8ebda821389369f8fc",
       "version_major": 2,
       "version_minor": 0
      },
      "text/plain": [
       "interactive(children=(Dropdown(description='elev', index=3, options=(-60, -30, 0, 30, 60, 90, 120), value=30),…"
      ]
     },
     "metadata": {},
     "output_type": "display_data"
    }
   ],
   "source": [
    "r = np.exp(-(X_train**2).sum(1))\n",
    "rlim = np.linspace(min(r),max(r),100)\n",
    "from mpl_toolkits import mplot3d\n",
    "def plot_3D(elev=30,azim=30,X=X_train,y=y_train):\n",
    "    ax = plt.subplot(projection=\"3d\")\n",
    "    ax.scatter3D(X[:,0],X[:,1],r,c=y,s=50,cmap='rainbow')\n",
    "    ax.view_init(elev=elev,azim=azim)\n",
    "    ax.set_xlabel(\"x\")\n",
    "    ax.set_ylabel(\"y\")\n",
    "    ax.set_zlabel(\"r\")\n",
    "    plt.show()\n",
    "from ipywidgets import interact,fixed\n",
    "interact(plot_3D,elev=[-60,-30,0,30,60,90,120],azip=(-180,180),X=fixed(X_train),y=fixed(y_train))\n",
    "plt.show()"
   ]
  },
  {
   "cell_type": "markdown",
   "id": "accomplished-valley",
   "metadata": {},
   "source": [
    "---\n",
    "\n",
    "__For using SVM model in real tracking environment through `pcnaDeep.refiner.Refiner`__, see [Getting started](getting_started.ipynb)."
   ]
  },
  {
   "cell_type": "code",
   "execution_count": 4,
   "id": "surrounded-anthropology",
   "metadata": {},
   "outputs": [
    {
     "name": "stderr",
     "output_type": "stream",
     "text": [
      "Mitosis exit not found for daughter: 41\n"
     ]
    }
   ],
   "source": [
    "from pcnaDeep.refiner import Refiner\n",
    "dt = pd.read_csv('/Users/jefft/Documents/Images/RPE_20200729_s2/refined_corrected_resolved.csv')\n",
    "r = Refiner(dt.copy(), mode='TRAIN_GT', minM=1)\n",
    "X, y, samples = r.doTrackRefine()\n",
    "train = pd.DataFrame(X)\n",
    "train['y'] = y\n",
    "train.to_csv('/Users/jefft/Documents/Images/RPE_20200729_s2/SVM_train_RPE_cpd.txt', header=0, index=0)\n",
    "train['par'] = samples[:,0]\n",
    "train['daug'] = samples[:,1]\n",
    "train.to_csv('/Users/jefft/Documents/Images/RPE_20200729_s2/SVM_train_lbd_RPE_cpd.txt', header=0, index=0)"
   ]
  }
 ],
 "metadata": {
  "kernelspec": {
   "display_name": "Python 3",
   "language": "python",
   "name": "python3"
  },
  "language_info": {
   "codemirror_mode": {
    "name": "ipython",
    "version": 3
   },
   "file_extension": ".py",
   "mimetype": "text/x-python",
   "name": "python",
   "nbconvert_exporter": "python",
   "pygments_lexer": "ipython3",
   "version": "3.7.9"
  },
  "varInspector": {
   "cols": {
    "lenName": 16,
    "lenType": 16,
    "lenVar": 40
   },
   "kernels_config": {
    "python": {
     "delete_cmd_postfix": "",
     "delete_cmd_prefix": "del ",
     "library": "var_list.py",
     "varRefreshCmd": "print(var_dic_list())"
    },
    "r": {
     "delete_cmd_postfix": ") ",
     "delete_cmd_prefix": "rm(",
     "library": "var_list.r",
     "varRefreshCmd": "cat(var_dic_list()) "
    }
   },
   "position": {
    "height": "144px",
    "left": "1011px",
    "right": "20px",
    "top": "121px",
    "width": "350px"
   },
   "types_to_exclude": [
    "module",
    "function",
    "builtin_function_or_method",
    "instance",
    "_Feature"
   ],
   "window_display": false
  }
 },
 "nbformat": 4,
 "nbformat_minor": 5
}
