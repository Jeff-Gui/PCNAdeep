{
 "cells": [
  {
   "cell_type": "code",
   "execution_count": 1,
   "metadata": {},
   "outputs": [],
   "source": [
    "import skimage.io as io\n",
    "import pandas as pd\n",
    "import os\n",
    "import warnings\n",
    "warnings.filterwarnings(\"ignore\")  # skimage warns when saving uint16 with not covering full range of 0-65535\n",
    "example_root = os.path.join(os.path.dirname(os.path.dirname(os.path.abspath('__file__'))), 'examples')"
   ]
  },
  {
   "cell_type": "markdown",
   "metadata": {},
   "source": [
    "## Evaluation with Cell Tracking Challenge (CTC) Matrices"
   ]
  },
  {
   "cell_type": "markdown",
   "metadata": {},
   "source": [
    "### Author: Yifan Gui @ KuanYoow Chan group\n",
    "#### _WARNING_: Running the entire tutorial will create data size ~1.24 GB under 'pcnaDeep/example'"
   ]
  },
  {
   "cell_type": "markdown",
   "metadata": {},
   "source": [
    "The __Cell Tracking Challenge (CTC)__ matrices objectively evaluate segmentation and tracking performance of an algorithm. Alghtough not designed for scoring cell cycle profiling, we can forget cell cycle phases for the time being, and feed our results to CTC evaluation software."
   ]
  },
  {
   "cell_type": "markdown",
   "metadata": {},
   "source": [
    "File format readable by CTC evaluation software should be in the structure of:\n",
    "\n",
    "|---001  \n",
    "|---001_GT  \n",
    "|---001_RES  \n",
    "\n",
    " where some dataset is labeled with 001. Raw image stored in 001 folder, ground truth in 001_GT, and result in 001_RES.  \n",
    "See CTC official descriptions for image format and detailed naming conventions."
   ]
  },
  {
   "cell_type": "markdown",
   "metadata": {},
   "source": [
    "pcnaDeep package offers the class __pcna_ctcEvaluator__ and a few APIs for transfering __raw image__, __standard output__ (multipage .tif mask and track .csv table), and deepcell_caliban-curated __ground truth__ to CTC-readable format. "
   ]
  },
  {
   "cell_type": "markdown",
   "metadata": {},
   "source": [
    "### Initialize pcnaDeep.pcna_ctcEvaluator"
   ]
  },
  {
   "cell_type": "code",
   "execution_count": 2,
   "metadata": {},
   "outputs": [],
   "source": [
    "from pcnaDeep.evaluate import pcna_ctcEvaluator"
   ]
  },
  {
   "cell_type": "markdown",
   "metadata": {},
   "source": [
    "The class is initialized with these parameters:\n",
    "- root  \n",
    "    &emsp;Directory to the folder where you wish to store all informations in CTC format.\n",
    "- dt_id  \n",
    "    &emsp;ID of dataset\n",
    "- digit_num:  \n",
    "    &emsp;Digit count of id (e.g. 001 should corresponding to digit_num=3)\n",
    "- t_base  \n",
    "    &emsp;Time for naming the first frame, defult is 0.\n",
    "    \n",
    "We will create a new folder under '/examples/CTC' to store this toy dataset named with 0001. The is done when the class is initialized, but you can block this behavior through parameter _init_dir_=False\n",
    "\n",
    "___WARNING___ If you have already initiated the directory before, set `init_dir=False`."
   ]
  },
  {
   "cell_type": "code",
   "execution_count": 3,
   "metadata": {},
   "outputs": [],
   "source": [
    "ev = pcna_ctcEvaluator(root=os.path.join(example_root, 'CTC'), dt_id=1, digit_num=4, t_base=0, init_dir=True)"
   ]
  },
  {
   "cell_type": "markdown",
   "metadata": {},
   "source": [
    "### &emsp;Dataset\n",
    "The example dataset is a 66-frame MCF-10A cell image stack filmed with a confocal microscopy and 60X objective, which has 2 mitosis events and xxx cell tracks."
   ]
  },
  {
   "cell_type": "code",
   "execution_count": null,
   "metadata": {},
   "outputs": [],
   "source": [
    "stack = io.imread(os.path.join(example_root, 'MCF10A', '10A_cpd.tif'))\n",
    "stack.shape"
   ]
  },
  {
   "cell_type": "code",
   "execution_count": null,
   "metadata": {},
   "outputs": [],
   "source": [
    "io.imshow(stack[0,:])"
   ]
  },
  {
   "cell_type": "markdown",
   "metadata": {},
   "source": [
    "### 1. Convert raw .tif stack to CTC format\n",
    "The method __`generate_raw( )`__ takes in a multipage stack (THWC format) and save it to corresponding folder.\n",
    "\n",
    "By convention, let's extract the first channel of the input stack and save images as gray scale (PCNA signal only)."
   ]
  },
  {
   "cell_type": "code",
   "execution_count": 6,
   "metadata": {},
   "outputs": [],
   "source": [
    "ev.generate_raw(stack[:,:,:,0])"
   ]
  },
  {
   "cell_type": "markdown",
   "metadata": {},
   "source": [
    "### 2. Convert pcnaDeep output to CTC RES format\n",
    "\n",
    "The method __`generate_ctcRES( )`__ process the tracked table, relabel the mask with track ID and save the mask together with res_track.txt (required by CTC evaluation) to the corresponding folder.  \n",
    "\n",
    "To be specific, since CTC does not handle gapped track (e.g. a track that appears at frame 1-3, 5-10 but disappears at frame 4. Gapped tracks are particularly common in PCNA tracking data due to unstable fluorescent signal.), the method will first call __`pcnaDeep.data.annotate.relabel_trackID( )`__ to label track ID sequentially, then breaks all gapped tracks through __`pcnaDeep.data.annotate.break_track( )`__. The resulting tracks are assigned with new IDs and used to relabel the mask through __`pcnaDeep.data.annotate.label_by_track( )`__. Finally, a table will be drawn from __`pcnaDeep.data.annotate.get_lineage_txt( )`__ to output as res_track.txt. The table records track and lineage information in CTC conventional format."
   ]
  },
  {
   "cell_type": "code",
   "execution_count": 7,
   "metadata": {},
   "outputs": [],
   "source": [
    "mask = io.imread(os.path.join(example_root, 'MCF10A', '10A_cpd_mask.tif'))\n",
    "track = pd.read_csv(os.path.join(example_root, 'MCF10A', '10A_cpd_refined.csv'))"
   ]
  },
  {
   "cell_type": "code",
   "execution_count": 8,
   "metadata": {},
   "outputs": [],
   "source": [
    "ev.generate_ctcRES(mask, track)"
   ]
  },
  {
   "cell_type": "markdown",
   "metadata": {},
   "source": [
    "---\n",
    "\n",
    "### 3. Evaluate with CTC evaluation software"
   ]
  },
  {
   "cell_type": "markdown",
   "metadata": {},
   "source": [
    "### &emsp; 3.1 Automatic evaluation ( (Unix) Linux and Mac only)\n",
    "\n",
    "`pcna_ctcEvaluator` offers handy interface for calling [CTC evaluation software](http://celltrackingchallenge.net/evaluation-methodology). \n",
    "\n",
    "To set the root directory (containing SEG/TRAMeasure binaries) to the program, use __`set_evSoft( )`__ (or through `path_ctc_software` parameter when initializing the object). \n",
    "\n",
    "To run evaluation, call __`evaluate( )`__ . SEG and TRA scores & logs will appear in \\_RES foler"
   ]
  },
  {
   "cell_type": "code",
   "execution_count": null,
   "metadata": {},
   "outputs": [],
   "source": [
    "ev.set_evSoft('<Your path to software here>')  # !!! Change the path before runing"
   ]
  },
  {
   "cell_type": "code",
   "execution_count": 5,
   "metadata": {},
   "outputs": [],
   "source": [
    "ev.evaluate()"
   ]
  },
  {
   "cell_type": "markdown",
   "metadata": {},
   "source": [
    "### &emsp; 3.2 Commandline evaluation (Windows, Linux or Mac)\n",
    "\n",
    "For running evaluation through commandline, please follow the [guidance of CTC evaluation software](http://celltrackingchallenge.net/evaluation-methodology).\n",
    "\n",
    "All required files have been correctly organized in the steps before."
   ]
  }
 ],
 "metadata": {
  "kernelspec": {
   "display_name": "Python 3",
   "language": "python",
   "name": "python3"
  },
  "language_info": {
   "codemirror_mode": {
    "name": "ipython",
    "version": 3
   },
   "file_extension": ".py",
   "mimetype": "text/x-python",
   "name": "python",
   "nbconvert_exporter": "python",
   "pygments_lexer": "ipython3",
   "version": "3.7.9"
  },
  "varInspector": {
   "cols": {
    "lenName": 16,
    "lenType": 16,
    "lenVar": 40
   },
   "kernels_config": {
    "python": {
     "delete_cmd_postfix": "",
     "delete_cmd_prefix": "del ",
     "library": "var_list.py",
     "varRefreshCmd": "print(var_dic_list())"
    },
    "r": {
     "delete_cmd_postfix": ") ",
     "delete_cmd_prefix": "rm(",
     "library": "var_list.r",
     "varRefreshCmd": "cat(var_dic_list()) "
    }
   },
   "types_to_exclude": [
    "module",
    "function",
    "builtin_function_or_method",
    "instance",
    "_Feature"
   ],
   "window_display": false
  }
 },
 "nbformat": 4,
 "nbformat_minor": 4
}
