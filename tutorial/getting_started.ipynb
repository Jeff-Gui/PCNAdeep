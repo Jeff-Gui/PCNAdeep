{
 "cells": [
  {
   "cell_type": "markdown",
   "metadata": {},
   "source": [
    "## pcnaDeep: Getting Started\n",
    "\n",
    "### Author: Yifan Gui @ KuanYoow Chan group"
   ]
  },
  {
   "cell_type": "markdown",
   "metadata": {},
   "source": [
    "__Welcome!__ pcnaDeep is a four-stage model that profiles the cell cycle, including:\n",
    "\n",
    "- Instance segmentation _(Detectron2's Mask R-CNN)_\n",
    "- Cell tracking _(TrackPy)_\n",
    "- Mitosis association\n",
    "- Cell cycle resolving\n",
    "\n",
    "Check the [Manuscript Supplementary Material]() for detailed descriptions.\n",
    "\n",
    "__Installation guide__ is available on our [GitHub main page]().\n",
    "\n",
    "![Overview](../assets/overview.jpg)\n",
    "\n",
    "---\n",
    "\n",
    "Below we use a demo stack from images of MCF10A to illustrate the pipeline.\n",
    "\n",
    "### __Before moving forward, please download demo data [Here]().__\n",
    "__You should save demo data under `~/examples/`__\n",
    "\n",
    "\n",
    "_Note:_ The video has been down-sampled by four times, i.e., at sampling frequency of 0.05 frame per minute, so as to reduce size.  \n",
    "We do not recommand profiling cell cycle with that low frequency."
   ]
  },
  {
   "cell_type": "markdown",
   "metadata": {},
   "source": [
    "### Input"
   ]
  },
  {
   "cell_type": "markdown",
   "metadata": {},
   "source": [
    "pcnaDeep takes time-lapse image stack inputs from __two channels__: PCNA fluorescent (__FL__) and the bright field (__BF__)."
   ]
  },
  {
   "cell_type": "code",
   "execution_count": null,
   "metadata": {},
   "outputs": [],
   "source": []
  },
  {
   "cell_type": "code",
   "execution_count": null,
   "metadata": {},
   "outputs": [],
   "source": []
  },
  {
   "cell_type": "markdown",
   "metadata": {},
   "source": [
    "---\n",
    "\n",
    "### Adjust Default Configs"
   ]
  },
  {
   "cell_type": "code",
   "execution_count": null,
   "metadata": {},
   "outputs": [],
   "source": []
  },
  {
   "cell_type": "markdown",
   "metadata": {},
   "source": [
    "---\n",
    "\n",
    "### Output"
   ]
  },
  {
   "cell_type": "code",
   "execution_count": null,
   "metadata": {},
   "outputs": [],
   "source": []
  },
  {
   "cell_type": "code",
   "execution_count": null,
   "metadata": {},
   "outputs": [],
   "source": []
  },
  {
   "cell_type": "code",
   "execution_count": null,
   "metadata": {},
   "outputs": [],
   "source": []
  },
  {
   "cell_type": "markdown",
   "metadata": {},
   "source": [
    "---\n",
    "\n",
    "### Run in Batch"
   ]
  },
  {
   "cell_type": "code",
   "execution_count": null,
   "metadata": {},
   "outputs": [],
   "source": []
  },
  {
   "cell_type": "code",
   "execution_count": null,
   "metadata": {},
   "outputs": [],
   "source": []
  },
  {
   "cell_type": "markdown",
   "metadata": {},
   "source": [
    "---\n",
    "\n",
    "### Visualisation"
   ]
  },
  {
   "cell_type": "code",
   "execution_count": null,
   "metadata": {},
   "outputs": [],
   "source": []
  },
  {
   "cell_type": "code",
   "execution_count": null,
   "metadata": {},
   "outputs": [],
   "source": []
  },
  {
   "cell_type": "markdown",
   "metadata": {},
   "source": [
    "---\n",
    "\n",
    "### Manual Correction\n",
    "\n",
    "Manual correction is allowed by operating the object table through a command line interface. We recorded a [video guide]() to illustrate all of its usage."
   ]
  },
  {
   "cell_type": "markdown",
   "metadata": {},
   "source": [
    "---\n",
    "\n",
    "### Specific Tutorials (advanced usage explained)"
   ]
  },
  {
   "cell_type": "markdown",
   "metadata": {},
   "source": [
    "1. [Train Detectron2 Mask R-CNN model](train_pcna_detectron2.ipynb)  \n",
    "\n",
    "2. [Evaluate with Cell Tracking Challenge Matrices](evaluation_with_CTC.ipynb)  \n",
    "\n",
    "3. [Train an SVM classifier for mitosis association (__experimental__)](train_pcna_SVM.ipynb)  \n",
    "\n",
    "\n",
    "__Example data for tutorial 1 & 2 is just the demo data downloaded above__: [download again]().\n",
    "\n",
    "\n",
    "__Example data for tutorial 3 (Size)__: [download](). Save data under `~/examples/`."
   ]
  }
 ],
 "metadata": {
  "kernelspec": {
   "display_name": "Python 3",
   "language": "python",
   "name": "python3"
  },
  "language_info": {
   "codemirror_mode": {
    "name": "ipython",
    "version": 3
   },
   "file_extension": ".py",
   "mimetype": "text/x-python",
   "name": "python",
   "nbconvert_exporter": "python",
   "pygments_lexer": "ipython3",
   "version": "3.7.9"
  },
  "varInspector": {
   "cols": {
    "lenName": 16,
    "lenType": 16,
    "lenVar": 40
   },
   "kernels_config": {
    "python": {
     "delete_cmd_postfix": "",
     "delete_cmd_prefix": "del ",
     "library": "var_list.py",
     "varRefreshCmd": "print(var_dic_list())"
    },
    "r": {
     "delete_cmd_postfix": ") ",
     "delete_cmd_prefix": "rm(",
     "library": "var_list.r",
     "varRefreshCmd": "cat(var_dic_list()) "
    }
   },
   "types_to_exclude": [
    "module",
    "function",
    "builtin_function_or_method",
    "instance",
    "_Feature"
   ],
   "window_display": false
  }
 },
 "nbformat": 4,
 "nbformat_minor": 4
}
