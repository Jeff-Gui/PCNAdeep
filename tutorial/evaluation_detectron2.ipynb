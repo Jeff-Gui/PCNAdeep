{
 "cells": [
  {
   "cell_type": "markdown",
   "id": "84bdb65c",
   "metadata": {},
   "source": [
    "## Evaluate Detectron2 performance with COCO matrix\n",
    "\n",
    "### Author: Yifan Gui @ Chan Group"
   ]
  },
  {
   "cell_type": "code",
   "execution_count": 1,
   "id": "d668c5bd",
   "metadata": {},
   "outputs": [],
   "source": [
    "import os\n",
    "from pcnaDeep.evaluate import pcna_detectronEvaluator"
   ]
  },
  {
   "cell_type": "markdown",
   "id": "4c0c3c87",
   "metadata": {},
   "source": [
    "The class __`pcna_detectronEvaluator`__ is a wrapper of Detectron2's COCO evaluator. To initiate the class, we must supply it with a model path, model config path and class names (same as training)."
   ]
  },
  {
   "cell_type": "code",
   "execution_count": 2,
   "id": "bd738ed4",
   "metadata": {},
   "outputs": [
    {
     "name": "stdout",
     "output_type": "stream",
     "text": [
      "Help on class pcna_detectronEvaluator in module pcnaDeep.evaluate:\n",
      "\n",
      "class pcna_detectronEvaluator(builtins.object)\n",
      " |  pcna_detectronEvaluator(dataset_ann_path, dataset_path, out_dir, class_name=['G1/G2', 'S', 'M', 'E'])\n",
      " |  \n",
      " |  Methods defined here:\n",
      " |  \n",
      " |  __init__(self, dataset_ann_path, dataset_path, out_dir, class_name=['G1/G2', 'S', 'M', 'E'])\n",
      " |      Evaluate Detectron2 performance using COCO matrix\n",
      " |      \n",
      " |      Args:\n",
      " |          dataset_ann_path (str): path to the testing dataset annotation `json` file.\n",
      " |          dataset_path (str): path to testing dataset, must in format of pcnaDeep: separate dic and mcy folders.\n",
      " |          out_dir (str): output directory.\n",
      " |          class_name (list): classification name, should be the same as training config.\n",
      " |  \n",
      " |  run_evaluate(self, model_path, model_config, confidence_threshold)\n",
      " |      Run evaluation\n",
      " |      \n",
      " |      Args:\n",
      " |          model_path (str): path to pre-trained model.\n",
      " |          model_config (str): path to the config file corresponding to the model.\n",
      " |          confidence_threshold (float): confidence threshold, default 0.5.\n",
      " |  \n",
      " |  ----------------------------------------------------------------------\n",
      " |  Data descriptors defined here:\n",
      " |  \n",
      " |  __dict__\n",
      " |      dictionary for instance variables (if defined)\n",
      " |  \n",
      " |  __weakref__\n",
      " |      list of weak references to the object (if defined)\n",
      "\n"
     ]
    }
   ],
   "source": [
    "help(pcna_detectronEvaluator)"
   ]
  },
  {
   "cell_type": "code",
   "execution_count": 3,
   "id": "d8ba2ffc",
   "metadata": {},
   "outputs": [],
   "source": [
    "evl = pcna_detectronEvaluator(dataset_ann_path=['/home/zje/dataset/pcna/testing.json'],\n",
    "                              dataset_path=['/home/zje/dataset/pcna/testing'],\n",
    "                              out_dir='../test/coco_evaluate',\n",
    "                              class_name=['G1/G2', 'S', 'M', 'E'])"
   ]
  },
  {
   "cell_type": "code",
   "execution_count": 4,
   "id": "5ca94ff4",
   "metadata": {},
   "outputs": [],
   "source": [
    "import os\n",
    "os.environ[\"CUDA_VISIBLE_DEVICES\"] = '2'"
   ]
  },
  {
   "cell_type": "code",
   "execution_count": null,
   "id": "799cd70f",
   "metadata": {},
   "outputs": [],
   "source": [
    "evl.run_evaluate(model_path = '../models/mrcnn_sat_rot_aug.pth',\n",
    "                 model_config = '../config/dtrnCfg.yaml',\n",
    "                 confidence_threshold = 0.5)"
   ]
  },
  {
   "cell_type": "code",
   "execution_count": 8,
   "id": "7d3b04f0",
   "metadata": {},
   "outputs": [
    {
     "name": "stdout",
     "output_type": "stream",
     "text": [
      "Sat Jul 31 12:27:49 2021       \n",
      "+-----------------------------------------------------------------------------+\n",
      "| NVIDIA-SMI 460.91.03    Driver Version: 460.91.03    CUDA Version: 11.2     |\n",
      "|-------------------------------+----------------------+----------------------+\n",
      "| GPU  Name        Persistence-M| Bus-Id        Disp.A | Volatile Uncorr. ECC |\n",
      "| Fan  Temp  Perf  Pwr:Usage/Cap|         Memory-Usage | GPU-Util  Compute M. |\n",
      "|                               |                      |               MIG M. |\n",
      "|===============================+======================+======================|\n",
      "|   0  GeForce RTX 3090    Off  | 00000000:18:00.0 Off |                  N/A |\n",
      "| 94%   83C    P2   346W / 350W |  24263MiB / 24268MiB |     88%      Default |\n",
      "|                               |                      |                  N/A |\n",
      "+-------------------------------+----------------------+----------------------+\n",
      "|   1  GeForce RTX 3090    Off  | 00000000:3B:00.0 Off |                  N/A |\n",
      "| 60%   66C    P2   300W / 350W |  13455MiB / 24268MiB |    100%      Default |\n",
      "|                               |                      |                  N/A |\n",
      "+-------------------------------+----------------------+----------------------+\n",
      "|   2  GeForce RTX 3090    Off  | 00000000:86:00.0 Off |                  N/A |\n",
      "| 53%   58C    P2   292W / 350W |  15293MiB / 24268MiB |     98%      Default |\n",
      "|                               |                      |                  N/A |\n",
      "+-------------------------------+----------------------+----------------------+\n",
      "|   3  GeForce RTX 3090    Off  | 00000000:AF:00.0 Off |                  N/A |\n",
      "| 82%   75C    P2   340W / 350W |  19877MiB / 24268MiB |     93%      Default |\n",
      "|                               |                      |                  N/A |\n",
      "+-------------------------------+----------------------+----------------------+\n",
      "                                                                               \n",
      "+-----------------------------------------------------------------------------+\n",
      "| Processes:                                                                  |\n",
      "|  GPU   GI   CI        PID   Type   Process name                  GPU Memory |\n",
      "|        ID   ID                                                   Usage      |\n",
      "|=============================================================================|\n",
      "|    0   N/A  N/A      3184      C   .../envs/pcnaDeep/bin/python      367MiB |\n",
      "|    0   N/A  N/A     48868      C   ...nvs/MoyangSRTP/bin/python     1787MiB |\n",
      "|    0   N/A  N/A     66449      C   ...vs/pytorch_1.7/bin/python    22107MiB |\n",
      "|    1   N/A  N/A     46386      C   python                          13453MiB |\n",
      "|    2   N/A  N/A     46386      C   python                          15291MiB |\n",
      "|    3   N/A  N/A     66450      C   ...vs/pytorch_1.7/bin/python    19875MiB |\n",
      "+-----------------------------------------------------------------------------+\n"
     ]
    }
   ],
   "source": [
    "!nvidia-smi"
   ]
  }
 ],
 "metadata": {
  "kernelspec": {
   "display_name": "Python 3",
   "language": "python",
   "name": "python3"
  },
  "language_info": {
   "codemirror_mode": {
    "name": "ipython",
    "version": 3
   },
   "file_extension": ".py",
   "mimetype": "text/x-python",
   "name": "python",
   "nbconvert_exporter": "python",
   "pygments_lexer": "ipython3",
   "version": "3.7.9"
  }
 },
 "nbformat": 4,
 "nbformat_minor": 5
}
