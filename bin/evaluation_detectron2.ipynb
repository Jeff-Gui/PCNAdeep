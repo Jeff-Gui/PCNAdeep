{
 "cells": [
  {
   "cell_type": "markdown",
   "id": "84bdb65c",
   "metadata": {},
   "source": [
    "## Evaluate Detectron2 performance with COCO matrix\n",
    "\n",
    "### Author: Yifan Gui @ Chan Group"
   ]
  },
  {
   "cell_type": "code",
   "execution_count": 1,
   "id": "d668c5bd",
   "metadata": {},
   "outputs": [],
   "source": [
    "import os\n",
    "from pcnaDeep.evaluate import pcna_detectronEvaluator"
   ]
  },
  {
   "cell_type": "markdown",
   "id": "4c0c3c87",
   "metadata": {},
   "source": [
    "The class __`pcna_detectronEvaluator`__ is a wrapper of Detectron2's COCO evaluator. To initiate the class, we must supply it with a model path, model config path and class names (same as training)."
   ]
  },
  {
   "cell_type": "code",
   "execution_count": 2,
   "id": "bd738ed4",
   "metadata": {},
   "outputs": [
    {
     "name": "stdout",
     "output_type": "stream",
     "text": [
      "Help on class pcna_detectronEvaluator in module pcnaDeep.evaluate:\n",
      "\n",
      "class pcna_detectronEvaluator(builtins.object)\n",
      " |  pcna_detectronEvaluator(cfg_path, dataset_ann_path, dataset_path, out_dir, class_name=['G1/G2', 'S', 'M', 'E'])\n",
      " |  \n",
      " |  Methods defined here:\n",
      " |  \n",
      " |  __init__(self, cfg_path, dataset_ann_path, dataset_path, out_dir, class_name=['G1/G2', 'S', 'M', 'E'])\n",
      " |      Evaluate Detectron2 performance using COCO matrix\n",
      " |      \n",
      " |      Args:\n",
      " |          cfg_path (str): path to config file.\n",
      " |          dataset_ann_path (str): path to the testing dataset annotation `json` file.\n",
      " |          dataset_path (str): path to testing dataset, must in format of pcnaDeep: separate dic and mcy folders.\n",
      " |          out_dir (str): output directory.\n",
      " |          class_name (list): classification name, should be the same as training config.\n",
      " |  \n",
      " |  run_evaluate(self, model_path)\n",
      " |      Run evaluation\n",
      " |      \n",
      " |      Args:\n",
      " |          model_path (str): path to pre-trained model.\n",
      " |  \n",
      " |  ----------------------------------------------------------------------\n",
      " |  Data descriptors defined here:\n",
      " |  \n",
      " |  __dict__\n",
      " |      dictionary for instance variables (if defined)\n",
      " |  \n",
      " |  __weakref__\n",
      " |      list of weak references to the object (if defined)\n",
      "\n"
     ]
    }
   ],
   "source": [
    "help(pcna_detectronEvaluator)"
   ]
  },
  {
   "cell_type": "code",
   "execution_count": 3,
   "id": "d8ba2ffc",
   "metadata": {},
   "outputs": [],
   "source": [
    "evl = pcna_detectronEvaluator(cfg_path='../config/dtrnCfg.yaml',\n",
    "                              dataset_ann_path=['/home/zje/dataset/pcna/testing.json'],\n",
    "                              dataset_path=['/home/zje/dataset/pcna/testing'],\n",
    "                              out_dir='../test',\n",
    "                              class_name=['G1/G2', 'S', 'M', 'E'])"
   ]
  },
  {
   "cell_type": "code",
   "execution_count": 5,
   "id": "799cd70f",
   "metadata": {},
   "outputs": [
    {
     "name": "stderr",
     "output_type": "stream",
     "text": [
      "COCO Evaluator instantiated using config, this is deprecated behavior. Please pass in explicit arguments instead.\n"
     ]
    },
    {
     "name": "stdout",
     "output_type": "stream",
     "text": [
      "Loading dataset from: /home/zje/dataset/pcna/testing\n",
      "Using cross entropy loss\n",
      "Loading and preparing results...\n",
      "DONE (t=0.00s)\n",
      "creating index...\n",
      "index created!\n",
      " Average Precision  (AP) @[ IoU=0.50:0.95 | area=   all | maxDets=100 ] = 0.000\n",
      " Average Precision  (AP) @[ IoU=0.50      | area=   all | maxDets=100 ] = 0.000\n",
      " Average Precision  (AP) @[ IoU=0.75      | area=   all | maxDets=100 ] = 0.000\n",
      " Average Precision  (AP) @[ IoU=0.50:0.95 | area= small | maxDets=100 ] = 0.000\n",
      " Average Precision  (AP) @[ IoU=0.50:0.95 | area=medium | maxDets=100 ] = 0.000\n",
      " Average Precision  (AP) @[ IoU=0.50:0.95 | area= large | maxDets=100 ] = 0.000\n",
      " Average Recall     (AR) @[ IoU=0.50:0.95 | area=   all | maxDets=  1 ] = 0.000\n",
      " Average Recall     (AR) @[ IoU=0.50:0.95 | area=   all | maxDets= 10 ] = 0.000\n",
      " Average Recall     (AR) @[ IoU=0.50:0.95 | area=   all | maxDets=100 ] = 0.000\n",
      " Average Recall     (AR) @[ IoU=0.50:0.95 | area= small | maxDets=100 ] = 0.000\n",
      " Average Recall     (AR) @[ IoU=0.50:0.95 | area=medium | maxDets=100 ] = 0.000\n",
      " Average Recall     (AR) @[ IoU=0.50:0.95 | area= large | maxDets=100 ] = 0.000\n",
      "Loading and preparing results...\n",
      "DONE (t=0.00s)\n",
      "creating index...\n",
      "index created!\n",
      " Average Precision  (AP) @[ IoU=0.50:0.95 | area=   all | maxDets=100 ] = 0.000\n",
      " Average Precision  (AP) @[ IoU=0.50      | area=   all | maxDets=100 ] = 0.000\n",
      " Average Precision  (AP) @[ IoU=0.75      | area=   all | maxDets=100 ] = 0.000\n",
      " Average Precision  (AP) @[ IoU=0.50:0.95 | area= small | maxDets=100 ] = 0.000\n",
      " Average Precision  (AP) @[ IoU=0.50:0.95 | area=medium | maxDets=100 ] = 0.000\n",
      " Average Precision  (AP) @[ IoU=0.50:0.95 | area= large | maxDets=100 ] = 0.000\n",
      " Average Recall     (AR) @[ IoU=0.50:0.95 | area=   all | maxDets=  1 ] = 0.000\n",
      " Average Recall     (AR) @[ IoU=0.50:0.95 | area=   all | maxDets= 10 ] = 0.000\n",
      " Average Recall     (AR) @[ IoU=0.50:0.95 | area=   all | maxDets=100 ] = 0.000\n",
      " Average Recall     (AR) @[ IoU=0.50:0.95 | area= small | maxDets=100 ] = 0.000\n",
      " Average Recall     (AR) @[ IoU=0.50:0.95 | area=medium | maxDets=100 ] = 0.000\n",
      " Average Recall     (AR) @[ IoU=0.50:0.95 | area= large | maxDets=100 ] = 0.000\n"
     ]
    }
   ],
   "source": [
    "evl.run_evaluate(model_path='../models/dtrn_20210705.pth')"
   ]
  }
 ],
 "metadata": {
  "kernelspec": {
   "display_name": "Python 3",
   "language": "python",
   "name": "python3"
  },
  "language_info": {
   "codemirror_mode": {
    "name": "ipython",
    "version": 3
   },
   "file_extension": ".py",
   "mimetype": "text/x-python",
   "name": "python",
   "nbconvert_exporter": "python",
   "pygments_lexer": "ipython3",
   "version": "3.7.9"
  }
 },
 "nbformat": 4,
 "nbformat_minor": 5
}
