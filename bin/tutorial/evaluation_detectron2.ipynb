{
 "cells": [
  {
   "cell_type": "markdown",
   "id": "84bdb65c",
   "metadata": {},
   "source": [
    "## Evaluate Detectron2 performance with COCO matrix\n",
    "\n",
    "### Author: Yifan Gui @ Chan Group"
   ]
  },
  {
   "cell_type": "code",
   "execution_count": 1,
   "id": "d668c5bd",
   "metadata": {},
   "outputs": [],
   "source": [
    "import os\n",
    "from pcnaDeep.evaluate import pcna_detectronEvaluator"
   ]
  },
  {
   "cell_type": "markdown",
   "id": "4c0c3c87",
   "metadata": {},
   "source": [
    "The class __`pcna_detectronEvaluator`__ is a wrapper of Detectron2's COCO evaluator. To initiate the class, we must supply it with a model path, model config path and class names (same as training)."
   ]
  },
  {
   "cell_type": "code",
   "execution_count": 2,
   "id": "bd738ed4",
   "metadata": {},
   "outputs": [
    {
     "name": "stdout",
     "output_type": "stream",
     "text": [
      "Help on class pcna_detectronEvaluator in module pcnaDeep.evaluate:\n",
      "\n",
      "class pcna_detectronEvaluator(builtins.object)\n",
      " |  pcna_detectronEvaluator(cfg_path, dataset_ann_path, dataset_path, out_dir, class_name=['G1/G2', 'S', 'M', 'E'], confidence_threshold=0.5)\n",
      " |  \n",
      " |  Methods defined here:\n",
      " |  \n",
      " |  __init__(self, cfg_path, dataset_ann_path, dataset_path, out_dir, class_name=['G1/G2', 'S', 'M', 'E'], confidence_threshold=0.5)\n",
      " |      Evaluate Detectron2 performance using COCO matrix\n",
      " |      \n",
      " |      Args:\n",
      " |          cfg_path (str): path to config file.\n",
      " |          dataset_ann_path (str): path to the testing dataset annotation `json` file.\n",
      " |          dataset_path (str): path to testing dataset, must in format of pcnaDeep: separate dic and mcy folders.\n",
      " |          out_dir (str): output directory.\n",
      " |          class_name (list): classification name, should be the same as training config.\n",
      " |          confidence_threshold (float): confidence threshold, default 0.5.\n",
      " |  \n",
      " |  run_evaluate(self, model_path)\n",
      " |      Run evaluation\n",
      " |      \n",
      " |      Args:\n",
      " |          model_path (str): path to pre-trained model.\n",
      " |  \n",
      " |  ----------------------------------------------------------------------\n",
      " |  Data descriptors defined here:\n",
      " |  \n",
      " |  __dict__\n",
      " |      dictionary for instance variables (if defined)\n",
      " |  \n",
      " |  __weakref__\n",
      " |      list of weak references to the object (if defined)\n",
      "\n"
     ]
    }
   ],
   "source": [
    "help(pcna_detectronEvaluator)"
   ]
  },
  {
   "cell_type": "code",
   "execution_count": 3,
   "id": "d8ba2ffc",
   "metadata": {},
   "outputs": [],
   "source": [
    "evl = pcna_detectronEvaluator(cfg_path='../config/dtrnCfg.yaml',\n",
    "                              dataset_ann_path=['/home/zje/dataset/pcna/testing.json'],\n",
    "                              dataset_path=['/home/zje/dataset/pcna/testing'],\n",
    "                              out_dir='../test/coco_evaluate',\n",
    "                              class_name=['G1/G2', 'S', 'M', 'E'],\n",
    "                              confidence_threshold=0.5)"
   ]
  },
  {
   "cell_type": "code",
   "execution_count": 4,
   "id": "799cd70f",
   "metadata": {},
   "outputs": [
    {
     "name": "stderr",
     "output_type": "stream",
     "text": [
      "2021-07-20 10:39:29,715 detectron2.evaluation.coco_evaluation INFO 'pcna_test' is not registered by `register_coco_instances`. Therefore trying to convert it to COCO format ...\n",
      "2021-07-20 10:39:29,719 detectron2.data.datasets.coco WARNING Using previously cached COCO format annotations at '../test/coco_evaluate/pcna_test_coco_format.json'. You need to clear the cache file if your dataset has been modified.\n"
     ]
    },
    {
     "name": "stdout",
     "output_type": "stream",
     "text": [
      "Loading dataset from: /home/zje/dataset/pcna/testing\n"
     ]
    },
    {
     "name": "stderr",
     "output_type": "stream",
     "text": [
      "2021-07-20 10:39:30,965 detectron2.data.build INFO Distribution of instances among all 4 categories:\n",
      "\u001b[36m|  category  | #instances   |  category  | #instances   |  category  | #instances   |\n",
      "|:----------:|:-------------|:----------:|:-------------|:----------:|:-------------|\n",
      "|   G1/G2    | 1230         |     S      | 493          |     M      | 45           |\n",
      "|     E      | 23           |            |              |            |              |\n",
      "|   total    | 1791         |            |              |            |              |\u001b[0m\n",
      "2021-07-20 10:39:30,969 detectron2.data.dataset_mapper INFO [DatasetMapper] Augmentations used in inference: [ResizeShortestEdge(short_edge_length=(800, 800), max_size=1333, sample_style='choice')]\n",
      "2021-07-20 10:39:30,971 detectron2.data.common INFO Serializing 53 elements to byte tensors and concatenating them all ...\n",
      "2021-07-20 10:39:31,077 detectron2.data.common INFO Serialized dataset takes 5.72 MiB\n"
     ]
    },
    {
     "name": "stdout",
     "output_type": "stream",
     "text": [
      "Rescale saturation: 0.8, gamma correction: 1\n",
      "Using cross entropy loss\n"
     ]
    },
    {
     "name": "stderr",
     "output_type": "stream",
     "text": [
      "2021-07-20 10:39:37,456 detectron2.evaluation.evaluator INFO Start inference on 53 images\n",
      "/home/zje/anaconda3/envs/pcnaDeep/lib/python3.7/site-packages/detectron2/modeling/roi_heads/fast_rcnn.py:158: UserWarning: This overload of nonzero is deprecated:\n",
      "\tnonzero()\n",
      "Consider using one of the following signatures instead:\n",
      "\tnonzero(*, bool as_tuple) (Triggered internally at  /opt/conda/conda-bld/pytorch_1607370156314/work/torch/csrc/utils/python_arg_parser.cpp:882.)\n",
      "  filter_inds = filter_mask.nonzero()\n",
      "2021-07-20 10:39:41,508 detectron2.evaluation.evaluator INFO Inference done 11/53. 0.0633 s / img. ETA=0:00:03\n",
      "2021-07-20 10:39:45,288 detectron2.evaluation.evaluator INFO Total inference time: 0:00:04.271887 (0.088998 s / img per device, on 1 devices)\n",
      "2021-07-20 10:39:45,295 detectron2.evaluation.evaluator INFO Total inference pure compute time: 0:00:02 (0.055187 s / img per device, on 1 devices)\n",
      "2021-07-20 10:39:45,311 detectron2.evaluation.coco_evaluation INFO Preparing results for COCO format ...\n",
      "2021-07-20 10:39:45,319 detectron2.evaluation.coco_evaluation INFO Saving results to ../test/coco_evaluate/coco_instances_results.json\n",
      "2021-07-20 10:39:45,337 detectron2.evaluation.coco_evaluation INFO Evaluating predictions with unofficial COCO API...\n",
      "2021-07-20 10:39:45,389 detectron2.evaluation.fast_eval_api INFO Evaluate annotation type *segm*\n"
     ]
    },
    {
     "name": "stdout",
     "output_type": "stream",
     "text": [
      "Loading and preparing results...\n",
      "DONE (t=0.04s)\n",
      "creating index...\n",
      "index created!\n"
     ]
    },
    {
     "name": "stderr",
     "output_type": "stream",
     "text": [
      "2021-07-20 10:39:45,859 detectron2.evaluation.fast_eval_api INFO COCOeval_opt.evaluate() finished in 0.47 seconds.\n",
      "2021-07-20 10:39:45,862 detectron2.evaluation.fast_eval_api INFO Accumulating evaluation results...\n",
      "2021-07-20 10:39:45,881 detectron2.evaluation.fast_eval_api INFO COCOeval_opt.accumulate() finished in 0.02 seconds.\n",
      "2021-07-20 10:39:45,888 detectron2.evaluation.coco_evaluation INFO Evaluation results for segm: \n",
      "|  AP   |  AP50  |  AP75  |  APs  |  APm  |  APl  |\n",
      "|:-----:|:------:|:------:|:-----:|:-----:|:-----:|\n",
      "| 0.000 | 0.000  | 0.000  | 0.000 | 0.000 | 0.000 |\n",
      "2021-07-20 10:39:45,891 detectron2.evaluation.coco_evaluation INFO Per-category segm AP: \n",
      "| category   | AP    | category   | AP    | category   | AP    |\n",
      "|:-----------|:------|:-----------|:------|:-----------|:------|\n",
      "| G1/G2      | 0.000 | S          | 0.000 | M          | 0.000 |\n",
      "| E          | 0.000 |            |       |            |       |\n",
      "2021-07-20 10:39:45,895 detectron2.evaluation.testing INFO copypaste: Task: segm\n",
      "2021-07-20 10:39:45,897 detectron2.evaluation.testing INFO copypaste: AP,AP50,AP75,APs,APm,APl\n",
      "2021-07-20 10:39:45,898 detectron2.evaluation.testing INFO copypaste: 0.0000,0.0000,0.0000,0.0000,0.0000,0.0000\n"
     ]
    },
    {
     "name": "stdout",
     "output_type": "stream",
     "text": [
      " Average Precision  (AP) @[ IoU=0.50:0.95 | area=   all | maxDets=100 ] = 0.000\n",
      " Average Precision  (AP) @[ IoU=0.50      | area=   all | maxDets=100 ] = 0.000\n",
      " Average Precision  (AP) @[ IoU=0.75      | area=   all | maxDets=100 ] = 0.000\n",
      " Average Precision  (AP) @[ IoU=0.50:0.95 | area= small | maxDets=100 ] = 0.000\n",
      " Average Precision  (AP) @[ IoU=0.50:0.95 | area=medium | maxDets=100 ] = 0.000\n",
      " Average Precision  (AP) @[ IoU=0.50:0.95 | area= large | maxDets=100 ] = 0.000\n",
      " Average Recall     (AR) @[ IoU=0.50:0.95 | area=   all | maxDets=  1 ] = 0.000\n",
      " Average Recall     (AR) @[ IoU=0.50:0.95 | area=   all | maxDets= 10 ] = 0.000\n",
      " Average Recall     (AR) @[ IoU=0.50:0.95 | area=   all | maxDets=100 ] = 0.000\n",
      " Average Recall     (AR) @[ IoU=0.50:0.95 | area= small | maxDets=100 ] = 0.000\n",
      " Average Recall     (AR) @[ IoU=0.50:0.95 | area=medium | maxDets=100 ] = 0.000\n",
      " Average Recall     (AR) @[ IoU=0.50:0.95 | area= large | maxDets=100 ] = 0.000\n",
      "OrderedDict([('segm', {'AP': 0.0, 'AP50': 0.0, 'AP75': 0.0, 'APs': 0.0, 'APm': 0.0, 'APl': 0.0, 'AP-G1/G2': 0.0, 'AP-S': 0.0, 'AP-M': 0.0, 'AP-E': 0.0})])\n"
     ]
    }
   ],
   "source": [
    "evl.run_evaluate(model_path='../output/ce_sat1gma08_new/model_final.pth')"
   ]
  },
  {
   "cell_type": "code",
   "execution_count": 6,
   "id": "7d3b04f0",
   "metadata": {},
   "outputs": [
    {
     "name": "stdout",
     "output_type": "stream",
     "text": [
      "Tue Jul 20 10:50:30 2021       \n",
      "+-----------------------------------------------------------------------------+\n",
      "| NVIDIA-SMI 460.80       Driver Version: 460.80       CUDA Version: 11.2     |\n",
      "|-------------------------------+----------------------+----------------------+\n",
      "| GPU  Name        Persistence-M| Bus-Id        Disp.A | Volatile Uncorr. ECC |\n",
      "| Fan  Temp  Perf  Pwr:Usage/Cap|         Memory-Usage | GPU-Util  Compute M. |\n",
      "|                               |                      |               MIG M. |\n",
      "|===============================+======================+======================|\n",
      "|   0  GeForce RTX 3090    Off  | 00000000:18:00.0 Off |                  N/A |\n",
      "| 40%   51C    P2   135W / 350W |   7550MiB / 24268MiB |     17%      Default |\n",
      "|                               |                      |                  N/A |\n",
      "+-------------------------------+----------------------+----------------------+\n",
      "|   1  GeForce RTX 3090    Off  | 00000000:3B:00.0 Off |                  N/A |\n",
      "| 30%   37C    P8    20W / 350W |      2MiB / 24268MiB |      0%      Default |\n",
      "|                               |                      |                  N/A |\n",
      "+-------------------------------+----------------------+----------------------+\n",
      "|   2  GeForce RTX 3090    Off  | 00000000:86:00.0 Off |                  N/A |\n",
      "| 30%   35C    P8    21W / 350W |      2MiB / 24268MiB |      0%      Default |\n",
      "|                               |                      |                  N/A |\n",
      "+-------------------------------+----------------------+----------------------+\n",
      "|   3  GeForce RTX 3090    Off  | 00000000:AF:00.0 Off |                  N/A |\n",
      "| 30%   35C    P8    21W / 350W |      2MiB / 24268MiB |      0%      Default |\n",
      "|                               |                      |                  N/A |\n",
      "+-------------------------------+----------------------+----------------------+\n",
      "                                                                               \n",
      "+-----------------------------------------------------------------------------+\n",
      "| Processes:                                                                  |\n",
      "|  GPU   GI   CI        PID   Type   Process name                  GPU Memory |\n",
      "|        ID   ID                                                   Usage      |\n",
      "|=============================================================================|\n",
      "|    0   N/A  N/A     56162      C   .../envs/pcnaDeep/bin/python     1783MiB |\n",
      "|    0   N/A  N/A     56459      C   python                           5765MiB |\n",
      "+-----------------------------------------------------------------------------+\n"
     ]
    }
   ],
   "source": [
    "!nvidia-smi"
   ]
  }
 ],
 "metadata": {
  "kernelspec": {
   "display_name": "Python 3",
   "language": "python",
   "name": "python3"
  },
  "language_info": {
   "codemirror_mode": {
    "name": "ipython",
    "version": 3
   },
   "file_extension": ".py",
   "mimetype": "text/x-python",
   "name": "python",
   "nbconvert_exporter": "python",
   "pygments_lexer": "ipython3",
   "version": "3.7.9"
  }
 },
 "nbformat": 4,
 "nbformat_minor": 5
}
