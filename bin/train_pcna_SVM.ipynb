{
 "cells": [
  {
   "cell_type": "code",
   "execution_count": 1,
   "id": "composite-neighbor",
   "metadata": {},
   "outputs": [],
   "source": [
    "import skimage.io as io\n",
    "import pandas as pd\n",
    "import os\n",
    "import warnings\n",
    "import numpy as np\n",
    "warnings.filterwarnings(\"ignore\")  # skimage warns when saving uint16 with not covering full range of 0-65535\n",
    "example_root = os.path.join(os.path.dirname(os.path.dirname(os.path.abspath('__file__'))), 'examples')"
   ]
  },
  {
   "cell_type": "markdown",
   "id": "opened-enterprise",
   "metadata": {},
   "source": [
    "## Train PCNA mitosis SVM classifier\n",
    "### Author: Yifan Gui @ KuanYoow Chan group"
   ]
  },
  {
   "cell_type": "markdown",
   "id": "norman-destination",
   "metadata": {},
   "source": [
    "After nuclear envelope breakdown, PCNA protein flees out into the cytoplasm, leading to dim signal intensity during mitosis. Additionally, the rounding cell are usually hard to be captured by the microscopy within focus limit. To reconstruct mitosis event from tracking results, pcnaDeep offers two algorithms: __spatial/temporal threshold-based assocation__ and __SVM-based classifier__. The first requires no training and totally depends on thresholding setting (see [Getting_started](Getting_started.ipynb)), while the second __SVM classifier__ requires a small training set and may perform better with large heterogenity of the cell."
   ]
  },
  {
   "cell_type": "markdown",
   "id": "controlled-surprise",
   "metadata": {},
   "source": [
    "__SVM feature extractor__ in pcnaDeep is implemented as a class method of `pcnaDeep.refiner.Refiner.get_SVM_train( )` that takes an array (referred as __mitosis lookup__ below) of shape (sample, 3). The three columns are: parent ID, daughter ID, +/- relation. You can either generate it from manual labeling or from tracking & classification ground truth.\n",
    "\n",
    "---"
   ]
  },
  {
   "cell_type": "markdown",
   "id": "present-handling",
   "metadata": {},
   "source": [
    "### 1. Generate _mitosis lookup_ `.txt` from model output\n",
    "All features fed into pcnaDeep SVM classifier is extracted from the __tracked object table__, i.e., one of the standard outputs of the model ends with __`_tracks.csv`__.  Therefore, it is convinent to start with this file. In this tutorial, we will play with the file `example/MCF10A/10A_cpd_tracks.csv`.\n",
    "\n",
    "_Note:_ __Do not__ start with refined table (ends with `_refined.csv`) where mitosis information has already been predicted."
   ]
  },
  {
   "cell_type": "code",
   "execution_count": 4,
   "id": "french-elite",
   "metadata": {},
   "outputs": [
    {
     "data": {
      "text/html": [
       "<div>\n",
       "<style scoped>\n",
       "    .dataframe tbody tr th:only-of-type {\n",
       "        vertical-align: middle;\n",
       "    }\n",
       "\n",
       "    .dataframe tbody tr th {\n",
       "        vertical-align: top;\n",
       "    }\n",
       "\n",
       "    .dataframe thead th {\n",
       "        text-align: right;\n",
       "    }\n",
       "</style>\n",
       "<table border=\"1\" class=\"dataframe\">\n",
       "  <thead>\n",
       "    <tr style=\"text-align: right;\">\n",
       "      <th></th>\n",
       "      <th>frame</th>\n",
       "      <th>trackId</th>\n",
       "      <th>lineageId</th>\n",
       "      <th>parentTrackId</th>\n",
       "      <th>Center_of_the_object_1</th>\n",
       "      <th>Center_of_the_object_0</th>\n",
       "      <th>predicted_class</th>\n",
       "      <th>Probability of G1/G2</th>\n",
       "      <th>Probability of S</th>\n",
       "      <th>Probability of M</th>\n",
       "      <th>continuous_label</th>\n",
       "      <th>major_axis</th>\n",
       "      <th>minor_axis</th>\n",
       "      <th>mean_intensity</th>\n",
       "    </tr>\n",
       "  </thead>\n",
       "  <tbody>\n",
       "    <tr>\n",
       "      <th>0</th>\n",
       "      <td>0</td>\n",
       "      <td>1</td>\n",
       "      <td>1</td>\n",
       "      <td>0</td>\n",
       "      <td>1051.247827</td>\n",
       "      <td>743.557187</td>\n",
       "      <td>G1/G2</td>\n",
       "      <td>0.999563</td>\n",
       "      <td>0.000219</td>\n",
       "      <td>0.000219</td>\n",
       "      <td>63</td>\n",
       "      <td>121.932617</td>\n",
       "      <td>104.651836</td>\n",
       "      <td>121.397962</td>\n",
       "    </tr>\n",
       "    <tr>\n",
       "      <th>1</th>\n",
       "      <td>1</td>\n",
       "      <td>1</td>\n",
       "      <td>1</td>\n",
       "      <td>0</td>\n",
       "      <td>1062.639710</td>\n",
       "      <td>754.025402</td>\n",
       "      <td>G1/G2</td>\n",
       "      <td>0.999718</td>\n",
       "      <td>0.000141</td>\n",
       "      <td>0.000141</td>\n",
       "      <td>67</td>\n",
       "      <td>123.190021</td>\n",
       "      <td>104.308464</td>\n",
       "      <td>117.046041</td>\n",
       "    </tr>\n",
       "    <tr>\n",
       "      <th>2</th>\n",
       "      <td>2</td>\n",
       "      <td>1</td>\n",
       "      <td>1</td>\n",
       "      <td>0</td>\n",
       "      <td>1067.604006</td>\n",
       "      <td>752.252132</td>\n",
       "      <td>G1/G2</td>\n",
       "      <td>0.999568</td>\n",
       "      <td>0.000216</td>\n",
       "      <td>0.000216</td>\n",
       "      <td>70</td>\n",
       "      <td>123.480678</td>\n",
       "      <td>104.168394</td>\n",
       "      <td>120.547194</td>\n",
       "    </tr>\n",
       "    <tr>\n",
       "      <th>3</th>\n",
       "      <td>3</td>\n",
       "      <td>1</td>\n",
       "      <td>1</td>\n",
       "      <td>0</td>\n",
       "      <td>1073.626605</td>\n",
       "      <td>749.558346</td>\n",
       "      <td>G1/G2</td>\n",
       "      <td>0.998859</td>\n",
       "      <td>0.000571</td>\n",
       "      <td>0.000571</td>\n",
       "      <td>71</td>\n",
       "      <td>117.147045</td>\n",
       "      <td>96.619333</td>\n",
       "      <td>105.931291</td>\n",
       "    </tr>\n",
       "    <tr>\n",
       "      <th>4</th>\n",
       "      <td>4</td>\n",
       "      <td>1</td>\n",
       "      <td>1</td>\n",
       "      <td>0</td>\n",
       "      <td>1071.141247</td>\n",
       "      <td>757.504600</td>\n",
       "      <td>G1/G2</td>\n",
       "      <td>0.995962</td>\n",
       "      <td>0.002019</td>\n",
       "      <td>0.002019</td>\n",
       "      <td>69</td>\n",
       "      <td>114.777681</td>\n",
       "      <td>85.751799</td>\n",
       "      <td>94.643644</td>\n",
       "    </tr>\n",
       "    <tr>\n",
       "      <th>...</th>\n",
       "      <td>...</td>\n",
       "      <td>...</td>\n",
       "      <td>...</td>\n",
       "      <td>...</td>\n",
       "      <td>...</td>\n",
       "      <td>...</td>\n",
       "      <td>...</td>\n",
       "      <td>...</td>\n",
       "      <td>...</td>\n",
       "      <td>...</td>\n",
       "      <td>...</td>\n",
       "      <td>...</td>\n",
       "      <td>...</td>\n",
       "      <td>...</td>\n",
       "    </tr>\n",
       "    <tr>\n",
       "      <th>5044</th>\n",
       "      <td>64</td>\n",
       "      <td>137</td>\n",
       "      <td>137</td>\n",
       "      <td>0</td>\n",
       "      <td>504.549438</td>\n",
       "      <td>14.979837</td>\n",
       "      <td>G1/G2</td>\n",
       "      <td>0.998686</td>\n",
       "      <td>0.000657</td>\n",
       "      <td>0.000657</td>\n",
       "      <td>30</td>\n",
       "      <td>90.525362</td>\n",
       "      <td>38.989439</td>\n",
       "      <td>199.423808</td>\n",
       "    </tr>\n",
       "    <tr>\n",
       "      <th>5045</th>\n",
       "      <td>65</td>\n",
       "      <td>137</td>\n",
       "      <td>137</td>\n",
       "      <td>0</td>\n",
       "      <td>504.329663</td>\n",
       "      <td>17.151151</td>\n",
       "      <td>G1/G2</td>\n",
       "      <td>0.998191</td>\n",
       "      <td>0.000905</td>\n",
       "      <td>0.000905</td>\n",
       "      <td>29</td>\n",
       "      <td>92.580038</td>\n",
       "      <td>43.857111</td>\n",
       "      <td>189.004338</td>\n",
       "    </tr>\n",
       "    <tr>\n",
       "      <th>5046</th>\n",
       "      <td>63</td>\n",
       "      <td>138</td>\n",
       "      <td>138</td>\n",
       "      <td>0</td>\n",
       "      <td>513.379839</td>\n",
       "      <td>1033.807258</td>\n",
       "      <td>G1/G2</td>\n",
       "      <td>0.751172</td>\n",
       "      <td>0.124414</td>\n",
       "      <td>0.124414</td>\n",
       "      <td>33</td>\n",
       "      <td>59.738632</td>\n",
       "      <td>53.146233</td>\n",
       "      <td>66.047984</td>\n",
       "    </tr>\n",
       "    <tr>\n",
       "      <th>5047</th>\n",
       "      <td>64</td>\n",
       "      <td>138</td>\n",
       "      <td>138</td>\n",
       "      <td>0</td>\n",
       "      <td>519.049538</td>\n",
       "      <td>1048.395861</td>\n",
       "      <td>M</td>\n",
       "      <td>0.068280</td>\n",
       "      <td>0.068280</td>\n",
       "      <td>0.863440</td>\n",
       "      <td>31</td>\n",
       "      <td>83.341466</td>\n",
       "      <td>69.747563</td>\n",
       "      <td>73.680097</td>\n",
       "    </tr>\n",
       "    <tr>\n",
       "      <th>5048</th>\n",
       "      <td>65</td>\n",
       "      <td>138</td>\n",
       "      <td>138</td>\n",
       "      <td>0</td>\n",
       "      <td>519.723347</td>\n",
       "      <td>1061.918800</td>\n",
       "      <td>M</td>\n",
       "      <td>0.013480</td>\n",
       "      <td>0.013480</td>\n",
       "      <td>0.973040</td>\n",
       "      <td>30</td>\n",
       "      <td>84.944591</td>\n",
       "      <td>78.784773</td>\n",
       "      <td>78.393580</td>\n",
       "    </tr>\n",
       "  </tbody>\n",
       "</table>\n",
       "<p>5049 rows × 14 columns</p>\n",
       "</div>"
      ],
      "text/plain": [
       "      frame  trackId  lineageId  parentTrackId  Center_of_the_object_1  \\\n",
       "0         0        1          1              0             1051.247827   \n",
       "1         1        1          1              0             1062.639710   \n",
       "2         2        1          1              0             1067.604006   \n",
       "3         3        1          1              0             1073.626605   \n",
       "4         4        1          1              0             1071.141247   \n",
       "...     ...      ...        ...            ...                     ...   \n",
       "5044     64      137        137              0              504.549438   \n",
       "5045     65      137        137              0              504.329663   \n",
       "5046     63      138        138              0              513.379839   \n",
       "5047     64      138        138              0              519.049538   \n",
       "5048     65      138        138              0              519.723347   \n",
       "\n",
       "      Center_of_the_object_0 predicted_class  Probability of G1/G2  \\\n",
       "0                 743.557187           G1/G2              0.999563   \n",
       "1                 754.025402           G1/G2              0.999718   \n",
       "2                 752.252132           G1/G2              0.999568   \n",
       "3                 749.558346           G1/G2              0.998859   \n",
       "4                 757.504600           G1/G2              0.995962   \n",
       "...                      ...             ...                   ...   \n",
       "5044               14.979837           G1/G2              0.998686   \n",
       "5045               17.151151           G1/G2              0.998191   \n",
       "5046             1033.807258           G1/G2              0.751172   \n",
       "5047             1048.395861               M              0.068280   \n",
       "5048             1061.918800               M              0.013480   \n",
       "\n",
       "      Probability of S  Probability of M  continuous_label  major_axis  \\\n",
       "0             0.000219          0.000219                63  121.932617   \n",
       "1             0.000141          0.000141                67  123.190021   \n",
       "2             0.000216          0.000216                70  123.480678   \n",
       "3             0.000571          0.000571                71  117.147045   \n",
       "4             0.002019          0.002019                69  114.777681   \n",
       "...                ...               ...               ...         ...   \n",
       "5044          0.000657          0.000657                30   90.525362   \n",
       "5045          0.000905          0.000905                29   92.580038   \n",
       "5046          0.124414          0.124414                33   59.738632   \n",
       "5047          0.068280          0.863440                31   83.341466   \n",
       "5048          0.013480          0.973040                30   84.944591   \n",
       "\n",
       "      minor_axis  mean_intensity  \n",
       "0     104.651836      121.397962  \n",
       "1     104.308464      117.046041  \n",
       "2     104.168394      120.547194  \n",
       "3      96.619333      105.931291  \n",
       "4      85.751799       94.643644  \n",
       "...          ...             ...  \n",
       "5044   38.989439      199.423808  \n",
       "5045   43.857111      189.004338  \n",
       "5046   53.146233       66.047984  \n",
       "5047   69.747563       73.680097  \n",
       "5048   78.784773       78.393580  \n",
       "\n",
       "[5049 rows x 14 columns]"
      ]
     },
     "execution_count": 4,
     "metadata": {},
     "output_type": "execute_result"
    }
   ],
   "source": [
    "dt = pd.read_csv(os.path.join(example_root, 'MCF10A', '10A_cpd_tracks.csv'))\n",
    "dt"
   ]
  },
  {
   "cell_type": "markdown",
   "id": "later-paris",
   "metadata": {},
   "source": [
    "### &emsp;1.1 Generate mitosis-breaked table\n",
    "pcnaDeep SVM takes in inputs extracted from __track A__ and __track B__ and outputs __the confidence that track A is the parent of track B__. This requires each track does not includes any entire mitosis events, which is accomplished in the first step of normal track refinement by a class method of `pcnaDeep.refiner.Refiner` named __`break_mitosis( )`__, which implements a greedy search throughout the track. Such operation should be recursively performed to break any possible mitosis events.\n",
    "\n",
    "The above process can be automatically completed through calling `pcnaDeep.refiner.Refiner.doTrackRefine( )` in a `Refiner` object initialized with `TRAIN` mode. The method returns the tracked object table with all mitosis broken."
   ]
  },
  {
   "cell_type": "code",
   "execution_count": 7,
   "id": "fifteen-dominican",
   "metadata": {},
   "outputs": [
    {
     "name": "stdout",
     "output_type": "stream",
     "text": [
      "Object classification corrected by smoothing: 169\n",
      "Found mitosis track: 30\n",
      "Found mitosis track: 3\n",
      "Found mitosis track: 0\n",
      "High quality tracks subjected to predict relationship: 129\n"
     ]
    }
   ],
   "source": [
    "from pcnaDeep.refiner import Refiner\n",
    "r = Refiner(dt.copy(), mode='TRAIN')\n",
    "mitosis_broken = r.doTrackRefine()"
   ]
  },
  {
   "cell_type": "markdown",
   "id": "sustained-shade",
   "metadata": {},
   "source": [
    "We must __save the output table__ for visualization in the next step."
   ]
  },
  {
   "cell_type": "code",
   "execution_count": 10,
   "id": "alternative-eagle",
   "metadata": {},
   "outputs": [],
   "source": [
    "mitosis_broken.to_csv(os.path.join(example_root, 'MCF10A', '10A_cpd_tracks_mt_broken.csv'))"
   ]
  },
  {
   "cell_type": "markdown",
   "id": "determined-program",
   "metadata": {},
   "source": [
    "### &emsp;1.2 Visualize in Fiji (ImageJ) to inspect mitosis events and record _mitosis lookup_ `.txt`\n",
    "\n",
    "_Note:_ Make sure you have already installed [__TrackMate CSV Importer__](https://github.com/tinevez/TrackMate-CSVImporter) Fiji plugin."
   ]
  },
  {
   "cell_type": "markdown",
   "id": "confident-period",
   "metadata": {},
   "source": [
    "\n",
    "\n",
    "1. Load `exmaple/MCF10A/10A_cpd.tif` to Fiji through dragging it to the tool bar or __File > Open__.\n",
    "\n",
    "\n",
    "2. Invert t and z axis of the image if necessary, through __Image > Properties__. In this example, set _frame (t)_ to 66 and _slice (z)_ to 1.\n",
    "\n",
    "\n",
    "3. Open TrackMate CSV Importer through __Plugin > Tracking > TrackMate CSV Importer__.\n",
    "\n",
    "\n",
    "4. Config parameters as the following (see screenshot 👉 ):\n",
    "    <img src=\"assets/trackMate_guide_1.png\"  alt=\"config trackmate csv importer\" width=450 align=\"right\"/>\n",
    "    \n",
    "    - Compute all features? = unchecked; Import tracks? = tracked\n",
    "    - Radius: choose one comfortable to the cell size, in this case is 50 pixels\n",
    "    - X/Y column: Center_of_the_object_0/1\n",
    "    - Z column: \"Don't use\"\n",
    "    - Frame column: frame\n",
    "    - Track column: trackId\n",
    "    - Name column: trackId\n",
    "    - Quality column & ID column: \"Don't use\"\n",
    "    \n",
    "    \n",
    "5. Click 'Import', and then adjust GUI\n",
    "    - check \"Display spot names\"\n",
    "    - under \"Track display mode\", choose \"Show local tracks\"\n",
    "    \n",
    "    \n",
    "6. Identify mitosis events, record __parent and daughter tracks__ in a `.txt` file.   \n",
    "   To plus, only positive sample is not enough for model training, therfore, __randomly record some negative pairs__ (i.e., track A and track B are not parent and daughter). The sample should be balanced.  \n",
    "   \n",
    "    Format (header not required, from example view below 👇):\n",
    "    | parent | daughter| 0/1 <br> (positive/negative)|\n",
    "    | :---: | :---: | :---: |\n",
    "    | 140 | 169 | 1 |\n",
    "    | 140 | 121 | 1 |\n",
    "    | 140 | 122 | 0 |\n",
    "    \n",
    "    ---\n",
    "    \n",
    "    <img src=\"assets/trackMate_guide_2.png\"  alt=\"mitosis example\" width=900/>\n",
    "    \n",
    "    ---\n",
    "    \n",
    "     __Some rules to follow__:\n",
    "    - If a mitosis track is not broken (e.g. in the above picture, 141 and its daughter 122), this is a prediction error from function call `break_mitosis( )`. This can be overcome by adjusting threshold of mitosis greedy search. However, when generating ground truth, there is no need to consider these cases, i.e., do not put (141, 122, 1) in the table, but (141, 122, 0) is fine.\n",
    "    - When generating negative instances, try to 'challenge' our classifier with difficult questions. For example, track 122 is very near track 140 though not a daughte of it. Challenge the classifier by putting (140, 122, 0) in your table.\n",
    "    \n",
    "    \n",
    "  7. __Save your `.txt` file__, an example file is shown in `/examples/MCF10A/0001.txt`. This will be the _mitosis lookup_ `.txt`\n",
    "  \n",
    "  ---"
   ]
  },
  {
   "cell_type": "markdown",
   "id": "exceptional-olive",
   "metadata": {},
   "source": [
    "### 2. (Alternative to 1) Generate ground truth from deepcell `.trk` _tracking gorund truth_"
   ]
  },
  {
   "cell_type": "markdown",
   "id": "persistent-parks",
   "metadata": {},
   "source": [
    "Once you have segmentation ground truth (see [training detectron2](train_pcna_detectron2.ipynb)), you can generate deepcell `.trk` file to correct tracking outputs. Since deepcell does not corrects cell cycle phases, which is cruical to SVM mitosis classifier, we have to merge corrected tracks with cell cycle phase ground truth -- to generate an ultimate ground truth."
   ]
  },
  {
   "cell_type": "markdown",
   "id": "related-agenda",
   "metadata": {},
   "source": [
    "### &emsp;2.1 Convert `.json` _segmentation ground truth_ to `.trk` file and tracked object table\n",
    "We use __`pcnaDeep.data.utils.json2mask( )`__ to get the mask from segmentation ground truth, then call __`pcnaDeep.tracker.trackmask( )`__ to track the mask, finally call __`pcnaDeep.data.annotate.generate_calibanTrk( )`__ to produce `.trk` file; importantly, we must __keep the tracked table output from `generate_calibanTrk( )` which contains cell cycle information__."
   ]
  },
  {
   "cell_type": "code",
   "execution_count": 2,
   "id": "common-finding",
   "metadata": {},
   "outputs": [],
   "source": [
    "from pcnaDeep.data.utils import json2mask\n",
    "mask = json2mask(ip=os.path.join(example_root, 'MCF10A', '0001.json'), out='', height=1200, width=1200, \n",
    "          label_phase=True, mask_only=True)  # suppress file output by mask_only=True, record phase by label_phase=True"
   ]
  },
  {
   "cell_type": "code",
   "execution_count": 3,
   "id": "weighted-upgrade",
   "metadata": {},
   "outputs": [
    {
     "data": {
      "text/plain": [
       "<matplotlib.image.AxesImage at 0x7f8cdbc67cd0>"
      ]
     },
     "execution_count": 3,
     "metadata": {},
     "output_type": "execute_result"
    },
    {
     "data": {
      "image/png": "[encoded data removed]",
      "text/plain": [
       "<Figure size 432x288 with 1 Axes>"
      ]
     },
     "metadata": {
      "needs_background": "light"
     },
     "output_type": "display_data"
    }
   ],
   "source": [
    "io.imshow(mask[10,:,:])  # different cell cycle phase is colored"
   ]
  },
  {
   "cell_type": "markdown",
   "id": "specific-stake",
   "metadata": {},
   "source": [
    "Track the mask."
   ]
  },
  {
   "cell_type": "code",
   "execution_count": 3,
   "id": "banner-mumbai",
   "metadata": {},
   "outputs": [
    {
     "name": "stdout",
     "output_type": "stream",
     "text": [
      "Frame 65: 103 trajectories present.\n"
     ]
    }
   ],
   "source": [
    "from pcnaDeep.tracker import track_mask\n",
    "# instead of input mask labeled with cell-cycle specific value, the output mask is continuously labeled\n",
    "tracked, labeled_mask = track_mask(mask, render_phase=True, displace=100, gap_fill=3)"
   ]
  },
  {
   "cell_type": "markdown",
   "id": "physical-relative",
   "metadata": {},
   "source": [
    "Read in the raw images."
   ]
  },
  {
   "cell_type": "code",
   "execution_count": 4,
   "id": "three-currency",
   "metadata": {},
   "outputs": [],
   "source": [
    "imgs = []\n",
    "img_fp = os.listdir(os.path.join(example_root, 'MCF10A'))\n",
    "img_fp.sort()\n",
    "for i in img_fp:\n",
    "    if i[-3:] == 'png':\n",
    "        img = io.imread(os.path.join(example_root, 'MCF10A', i))\n",
    "        imgs.append(img)\n",
    "raw = np.stack(imgs, axis=0)"
   ]
  },
  {
   "cell_type": "markdown",
   "id": "documented-austria",
   "metadata": {},
   "source": [
    "Generate `.trk` files. Note that `generate_calibanTrk( )` can perform mask-tracking by itself (for demostrating purpose we did not). We can suppress the behavior by supplying it with a tracked table."
   ]
  },
  {
   "cell_type": "code",
   "execution_count": 5,
   "id": "earlier-drawing",
   "metadata": {},
   "outputs": [
    {
     "data": {
      "text/html": [
       "<div>\n",
       "<style scoped>\n",
       "    .dataframe tbody tr th:only-of-type {\n",
       "        vertical-align: middle;\n",
       "    }\n",
       "\n",
       "    .dataframe tbody tr th {\n",
       "        vertical-align: top;\n",
       "    }\n",
       "\n",
       "    .dataframe thead th {\n",
       "        text-align: right;\n",
       "    }\n",
       "</style>\n",
       "<table border=\"1\" class=\"dataframe\">\n",
       "  <thead>\n",
       "    <tr style=\"text-align: right;\">\n",
       "      <th></th>\n",
       "      <th>frame</th>\n",
       "      <th>trackId</th>\n",
       "      <th>lineageId</th>\n",
       "      <th>parentTrackId</th>\n",
       "      <th>Center_of_the_object_1</th>\n",
       "      <th>Center_of_the_object_0</th>\n",
       "      <th>predicted_class</th>\n",
       "      <th>Probability of G1/G2</th>\n",
       "      <th>Probability of S</th>\n",
       "      <th>Probability of M</th>\n",
       "      <th>continuous_label</th>\n",
       "      <th>major_axis</th>\n",
       "      <th>minor_axis</th>\n",
       "      <th>mean_intensity</th>\n",
       "      <th>mtParTrk</th>\n",
       "      <th>ori_trackId</th>\n",
       "    </tr>\n",
       "  </thead>\n",
       "  <tbody>\n",
       "    <tr>\n",
       "      <th>0</th>\n",
       "      <td>0</td>\n",
       "      <td>1</td>\n",
       "      <td>1</td>\n",
       "      <td>0</td>\n",
       "      <td>39.150359</td>\n",
       "      <td>1128.490051</td>\n",
       "      <td>G1/G2</td>\n",
       "      <td>1</td>\n",
       "      <td>0</td>\n",
       "      <td>0</td>\n",
       "      <td>1</td>\n",
       "      <td>98.795516</td>\n",
       "      <td>63.036706</td>\n",
       "      <td>10</td>\n",
       "      <td>0</td>\n",
       "      <td>1</td>\n",
       "    </tr>\n",
       "    <tr>\n",
       "      <th>67</th>\n",
       "      <td>1</td>\n",
       "      <td>1</td>\n",
       "      <td>1</td>\n",
       "      <td>0</td>\n",
       "      <td>32.056595</td>\n",
       "      <td>1137.564796</td>\n",
       "      <td>G1/G2</td>\n",
       "      <td>1</td>\n",
       "      <td>0</td>\n",
       "      <td>0</td>\n",
       "      <td>1</td>\n",
       "      <td>89.761044</td>\n",
       "      <td>62.292804</td>\n",
       "      <td>10</td>\n",
       "      <td>0</td>\n",
       "      <td>1</td>\n",
       "    </tr>\n",
       "    <tr>\n",
       "      <th>142</th>\n",
       "      <td>2</td>\n",
       "      <td>1</td>\n",
       "      <td>1</td>\n",
       "      <td>0</td>\n",
       "      <td>28.237768</td>\n",
       "      <td>1144.653656</td>\n",
       "      <td>G1/G2</td>\n",
       "      <td>1</td>\n",
       "      <td>0</td>\n",
       "      <td>0</td>\n",
       "      <td>1</td>\n",
       "      <td>86.117956</td>\n",
       "      <td>55.263801</td>\n",
       "      <td>10</td>\n",
       "      <td>0</td>\n",
       "      <td>1</td>\n",
       "    </tr>\n",
       "    <tr>\n",
       "      <th>213</th>\n",
       "      <td>3</td>\n",
       "      <td>1</td>\n",
       "      <td>1</td>\n",
       "      <td>0</td>\n",
       "      <td>24.006911</td>\n",
       "      <td>1157.384315</td>\n",
       "      <td>G1/G2</td>\n",
       "      <td>1</td>\n",
       "      <td>0</td>\n",
       "      <td>0</td>\n",
       "      <td>2</td>\n",
       "      <td>83.184777</td>\n",
       "      <td>53.563012</td>\n",
       "      <td>10</td>\n",
       "      <td>0</td>\n",
       "      <td>1</td>\n",
       "    </tr>\n",
       "    <tr>\n",
       "      <th>285</th>\n",
       "      <td>4</td>\n",
       "      <td>1</td>\n",
       "      <td>1</td>\n",
       "      <td>0</td>\n",
       "      <td>20.664910</td>\n",
       "      <td>1165.991717</td>\n",
       "      <td>G1/G2</td>\n",
       "      <td>1</td>\n",
       "      <td>0</td>\n",
       "      <td>0</td>\n",
       "      <td>3</td>\n",
       "      <td>74.759067</td>\n",
       "      <td>48.080955</td>\n",
       "      <td>10</td>\n",
       "      <td>0</td>\n",
       "      <td>1</td>\n",
       "    </tr>\n",
       "    <tr>\n",
       "      <th>...</th>\n",
       "      <td>...</td>\n",
       "      <td>...</td>\n",
       "      <td>...</td>\n",
       "      <td>...</td>\n",
       "      <td>...</td>\n",
       "      <td>...</td>\n",
       "      <td>...</td>\n",
       "      <td>...</td>\n",
       "      <td>...</td>\n",
       "      <td>...</td>\n",
       "      <td>...</td>\n",
       "      <td>...</td>\n",
       "      <td>...</td>\n",
       "      <td>...</td>\n",
       "      <td>...</td>\n",
       "      <td>...</td>\n",
       "    </tr>\n",
       "    <tr>\n",
       "      <th>5773</th>\n",
       "      <td>65</td>\n",
       "      <td>170</td>\n",
       "      <td>170</td>\n",
       "      <td>0</td>\n",
       "      <td>939.720416</td>\n",
       "      <td>879.167354</td>\n",
       "      <td>G1/G2</td>\n",
       "      <td>1</td>\n",
       "      <td>0</td>\n",
       "      <td>0</td>\n",
       "      <td>77</td>\n",
       "      <td>91.081957</td>\n",
       "      <td>85.092300</td>\n",
       "      <td>200</td>\n",
       "      <td>0</td>\n",
       "      <td>170</td>\n",
       "    </tr>\n",
       "    <tr>\n",
       "      <th>5387</th>\n",
       "      <td>62</td>\n",
       "      <td>171</td>\n",
       "      <td>171</td>\n",
       "      <td>0</td>\n",
       "      <td>7.975000</td>\n",
       "      <td>1187.371875</td>\n",
       "      <td>G1/G2</td>\n",
       "      <td>1</td>\n",
       "      <td>0</td>\n",
       "      <td>0</td>\n",
       "      <td>5</td>\n",
       "      <td>24.435036</td>\n",
       "      <td>17.520169</td>\n",
       "      <td>10</td>\n",
       "      <td>0</td>\n",
       "      <td>171</td>\n",
       "    </tr>\n",
       "    <tr>\n",
       "      <th>5597</th>\n",
       "      <td>64</td>\n",
       "      <td>206</td>\n",
       "      <td>171</td>\n",
       "      <td>171</td>\n",
       "      <td>7.853414</td>\n",
       "      <td>1180.202811</td>\n",
       "      <td>G1/G2</td>\n",
       "      <td>1</td>\n",
       "      <td>0</td>\n",
       "      <td>0</td>\n",
       "      <td>6</td>\n",
       "      <td>40.240005</td>\n",
       "      <td>17.285144</td>\n",
       "      <td>10</td>\n",
       "      <td>0</td>\n",
       "      <td>171</td>\n",
       "    </tr>\n",
       "    <tr>\n",
       "      <th>5655</th>\n",
       "      <td>64</td>\n",
       "      <td>172</td>\n",
       "      <td>172</td>\n",
       "      <td>0</td>\n",
       "      <td>758.254194</td>\n",
       "      <td>1188.285161</td>\n",
       "      <td>G1/G2</td>\n",
       "      <td>1</td>\n",
       "      <td>0</td>\n",
       "      <td>0</td>\n",
       "      <td>64</td>\n",
       "      <td>47.260946</td>\n",
       "      <td>22.222824</td>\n",
       "      <td>10</td>\n",
       "      <td>0</td>\n",
       "      <td>172</td>\n",
       "    </tr>\n",
       "    <tr>\n",
       "      <th>5757</th>\n",
       "      <td>65</td>\n",
       "      <td>172</td>\n",
       "      <td>172</td>\n",
       "      <td>0</td>\n",
       "      <td>759.199531</td>\n",
       "      <td>1187.793427</td>\n",
       "      <td>G1/G2</td>\n",
       "      <td>1</td>\n",
       "      <td>0</td>\n",
       "      <td>0</td>\n",
       "      <td>61</td>\n",
       "      <td>44.773863</td>\n",
       "      <td>25.239328</td>\n",
       "      <td>10</td>\n",
       "      <td>0</td>\n",
       "      <td>172</td>\n",
       "    </tr>\n",
       "  </tbody>\n",
       "</table>\n",
       "<p>5800 rows × 16 columns</p>\n",
       "</div>"
      ],
      "text/plain": [
       "      frame  trackId  lineageId  parentTrackId  Center_of_the_object_1  \\\n",
       "0         0        1          1              0               39.150359   \n",
       "67        1        1          1              0               32.056595   \n",
       "142       2        1          1              0               28.237768   \n",
       "213       3        1          1              0               24.006911   \n",
       "285       4        1          1              0               20.664910   \n",
       "...     ...      ...        ...            ...                     ...   \n",
       "5773     65      170        170              0              939.720416   \n",
       "5387     62      171        171              0                7.975000   \n",
       "5597     64      206        171            171                7.853414   \n",
       "5655     64      172        172              0              758.254194   \n",
       "5757     65      172        172              0              759.199531   \n",
       "\n",
       "      Center_of_the_object_0 predicted_class  Probability of G1/G2  \\\n",
       "0                1128.490051           G1/G2                     1   \n",
       "67               1137.564796           G1/G2                     1   \n",
       "142              1144.653656           G1/G2                     1   \n",
       "213              1157.384315           G1/G2                     1   \n",
       "285              1165.991717           G1/G2                     1   \n",
       "...                      ...             ...                   ...   \n",
       "5773              879.167354           G1/G2                     1   \n",
       "5387             1187.371875           G1/G2                     1   \n",
       "5597             1180.202811           G1/G2                     1   \n",
       "5655             1188.285161           G1/G2                     1   \n",
       "5757             1187.793427           G1/G2                     1   \n",
       "\n",
       "      Probability of S  Probability of M  continuous_label  major_axis  \\\n",
       "0                    0                 0                 1   98.795516   \n",
       "67                   0                 0                 1   89.761044   \n",
       "142                  0                 0                 1   86.117956   \n",
       "213                  0                 0                 2   83.184777   \n",
       "285                  0                 0                 3   74.759067   \n",
       "...                ...               ...               ...         ...   \n",
       "5773                 0                 0                77   91.081957   \n",
       "5387                 0                 0                 5   24.435036   \n",
       "5597                 0                 0                 6   40.240005   \n",
       "5655                 0                 0                64   47.260946   \n",
       "5757                 0                 0                61   44.773863   \n",
       "\n",
       "      minor_axis  mean_intensity  mtParTrk  ori_trackId  \n",
       "0      63.036706              10         0            1  \n",
       "67     62.292804              10         0            1  \n",
       "142    55.263801              10         0            1  \n",
       "213    53.563012              10         0            1  \n",
       "285    48.080955              10         0            1  \n",
       "...          ...             ...       ...          ...  \n",
       "5773   85.092300             200         0          170  \n",
       "5387   17.520169              10         0          171  \n",
       "5597   17.285144              10         0          171  \n",
       "5655   22.222824              10         0          172  \n",
       "5757   25.239328              10         0          172  \n",
       "\n",
       "[5800 rows x 16 columns]"
      ]
     },
     "execution_count": 5,
     "metadata": {},
     "output_type": "execute_result"
    }
   ],
   "source": [
    "from pcnaDeep.data.annotate import generate_calibanTrk\n",
    "tracked_new = generate_calibanTrk(raw=raw, mask=labeled_mask, out_dir=os.path.join(example_root, 'MCF10A'), \n",
    "                    dt_id=1, digit_num=4, track=tracked)\n",
    "tracked_new.to_csv(os.path.join(example_root, 'MCF10A', '0001_tracked.csv'), index=0)\n",
    "tracked_new"
   ]
  },
  {
   "cell_type": "markdown",
   "id": "average-wesley",
   "metadata": {},
   "source": [
    "### &emsp;2.2 Manually label `.trk` file through deepcell-label software\n",
    "To correct tracking error and label mitosis, use deepcell-label software. See [software homepage](https://github.com/vanvalenlab/deepcell-label) for detailed manual.\n",
    "\n",
    "It is suggested that deepcell-label has the best performance when being run in a __Docker__ container."
   ]
  },
  {
   "cell_type": "markdown",
   "id": "progressive-tours",
   "metadata": {},
   "source": [
    "### &emsp;2.3 Convert `.trk` _tracking ground truth_ to _mitosis lookup_ `.txt`\n",
    "\n",
    "`pcnaDeep.data.annotate.mergeTrkAndTrack( )` reads in the file path of a `.trk` file (__tracks we just curated manually__) and tracked object table `.csv` (__output of mask tracking, i.e., the variable `track_new` we just saved__) and merges the two. During merging, the method raises/handles the following exceptions:\n",
    "1. Gapped tracks still exist in `.trk` which should be separated already. A `ValueError` will be raised. Check your `.trk` manually.\n",
    "2. Mitosis parent assigned does not have an 'M' classification before division. A `UserWarning` will be raised. The relationship will not be solved.\n",
    "3. When correct mitosis relationship found, the function calculates mitosis entry and mitosis exit based on cell cycle classification. If no 'M' classification found for daughters, mitosis exit will be assigned to the first frame of daughters' appearance. Such daughter will be labeled with _imprecise_, and returned as a list.\n",
    "\n",
    "The function returns:\n",
    "1. __tracked object table__, `trackId, parentTrackId, lineageId, mtParTrk` corrected from `.trk`\n",
    "2. __mitosis dictionary__, a standard mitosis information dictionary in pcnaDeep.\n",
    "3. __imprecise daughters__, a list of daughter track IDs, the mitosis exit calculation is not precise.\n",
    "4. (optional, default suppress output with parameter `mask_out = False`) __mask__ deduced from `.trk`.\n",
    "\n",
    "In this case, we will need _tracked object table_ and _mitosis dictionary_."
   ]
  },
  {
   "cell_type": "code",
   "execution_count": 23,
   "id": "assigned-assist",
   "metadata": {},
   "outputs": [],
   "source": [
    "from pcnaDeep.data.annotate import mergeTrkAndTrack\n",
    "out = mergeTrkAndTrack(trk_path = os.path.join(example_root, 'MCF10A', '0001.trk'),\n",
    "                      table_path = os.path.join(example_root, 'MCF10A', '0001_tracked.csv'),\n",
    "                      return_mask = False)\n",
    "track = out[0]\n",
    "track.to_csv(os.path.join(example_root, 'MCF10A', '0001_tracked_GT.csv'), index=0)\n",
    "mt_dic = out[1]"
   ]
  },
  {
   "cell_type": "markdown",
   "id": "personal-raleigh",
   "metadata": {},
   "source": [
    "We then convert `mt_dic` to ___mitosis lookup matrix___ and save as a `.txt` file, using __`pcnaDeep.data.utils.mt_dic2_mt_lookup( )`__."
   ]
  },
  {
   "cell_type": "code",
   "execution_count": 24,
   "id": "african-paintball",
   "metadata": {},
   "outputs": [],
   "source": [
    "from pcnaDeep.data.utils import mt_dic2mt_lookup\n",
    "mt_lookup = mt_dic2mt_lookup(mt_dic)\n",
    "mt_lookup.to_csv(os.path.join(example_root, 'MCF10A', '0001_mitosis_lookup.txt'), index=0)"
   ]
  },
  {
   "cell_type": "markdown",
   "id": "professional-antigua",
   "metadata": {},
   "source": [
    "---"
   ]
  },
  {
   "cell_type": "markdown",
   "id": "familiar-visibility",
   "metadata": {},
   "source": [
    "### 3. Extract _mitosis ground truth_ `array` from _mitosis lookup_ `.txt` as SVM training data\n",
    "We can draw SVM training data from a `Refiner` object in `TRAIN` mode, by supplying an `numpy.array` mitosis lookup table to the method __`Refiner.get_SVM_train( )`__."
   ]
  },
  {
   "cell_type": "code",
   "execution_count": 2,
   "id": "least-stuff",
   "metadata": {},
   "outputs": [],
   "source": [
    "## Initialize Refiner object\n",
    "# You may use the Refiner already have, just make sure Refiner.track matches to your mitosis lookup.\n",
    "from pcnaDeep.refiner import Refiner\n",
    "r = Refiner(track = pd.read_csv(os.path.join(example_root, 'MCF10A', '0001_tracked_GT.csv')), mode='TRAIN',\n",
    "           sample_freq=20, mt_len=5) # remember to input metadata: sample frequency and mitosi length"
   ]
  },
  {
   "cell_type": "code",
   "execution_count": 3,
   "id": "valued-worcester",
   "metadata": {},
   "outputs": [],
   "source": [
    "## Read in lookup table\n",
    "# skip header if essential (header in file)\n",
    "mt_lookup_array = np.array(pd.read_csv(os.path.join(example_root, 'MCF10A', '0001_mitosis_lookup.txt'), header=0))"
   ]
  },
  {
   "cell_type": "markdown",
   "id": "grand-spread",
   "metadata": {},
   "source": [
    "`Refiner.get_SVM_train( )` takes the parameter `random_negative` in case your lookup table does not contain any negative instances. It will sample negative instances at most same size as the positive instance, randomly from the tracked object table."
   ]
  },
  {
   "cell_type": "code",
   "execution_count": 4,
   "id": "crude-writing",
   "metadata": {},
   "outputs": [],
   "source": [
    "X, y = r.get_SVM_train(mt_lookup_array, random_negative=True, rand_size=500)"
   ]
  },
  {
   "cell_type": "markdown",
   "id": "amber-antenna",
   "metadata": {},
   "source": [
    "It is highly recommended to __save raw training feature map__ for extensibility."
   ]
  },
  {
   "cell_type": "code",
   "execution_count": 5,
   "id": "bulgarian-activation",
   "metadata": {},
   "outputs": [],
   "source": [
    "X = np.array(X)\n",
    "train = pd.DataFrame(X)\n",
    "train['5'] = y\n",
    "train.to_csv(os.path.join(example_root, 'MCF10A', 'SVM_train.txt'), header=0, index=0)"
   ]
  },
  {
   "cell_type": "markdown",
   "id": "frequent-sherman",
   "metadata": {},
   "source": [
    "### 4. Initialize, Fit, Save the SVM model"
   ]
  },
  {
   "cell_type": "markdown",
   "id": "mighty-pleasure",
   "metadata": {},
   "source": [
    "__Feature map__ of the SVM model used in pcnaDeep:\n",
    "1. Distance difference between parent (when it disappears) and daughter (when it appears),   \n",
    "    normalized with average displace of the entire dataset.\n",
    "2. Frame difference between parent (when it disappears) and daughter (when it apppears),   \n",
    "    normalized with absolute time of mitosis (`sample_freq * mt_len`)\n",
    "3. Mitosis score of parent * daughter\n",
    "\n",
    "    mitosis score = sum_i(Indicator_{predicted_class = 'M'} * 0.9 ^ abs((t_i - t_mitosis_entry/exit)))\n",
    "    \n",
    "4. Difference of average major axis across track, normalized with parent value\n",
    "5. Difference of average minor axis across track, normalized with parent value"
   ]
  },
  {
   "cell_type": "markdown",
   "id": "exclusive-arcade",
   "metadata": {},
   "source": [
    "### Remove outliers and normalize\n",
    "Because we have randomly generated negatives samples, there spatial, temporal, or even shape difference can be dramatic. After normalization, they skew and 'squeeze' negative and positive samples together. Hence, we call __`pcna.data.utils.get_outlier( )`__ to know index of these outliers. After gitting rid of them, we normlize with `sklearn.preprocessing.RobustScaler` that cares abnormal data."
   ]
  },
  {
   "cell_type": "code",
   "execution_count": 6,
   "id": "joined-genealogy",
   "metadata": {},
   "outputs": [],
   "source": [
    "X = np.array(X)\n",
    "y = np.array(y)\n",
    "# remove spatial, temporal, shape outliers, but not mitosis score\n",
    "from pcnaDeep.data.utils import get_outlier\n",
    "outs = get_outlier(X, col_ids=[0,1,3,4])\n",
    "idx = [_ for _ in range(X.shape[0]) if _ not in outs]\n",
    "X = X[idx,]\n",
    "y = y[idx,]\n",
    "\n",
    "# normalize\n",
    "from sklearn.preprocessing import RobustScaler\n",
    "scaler = RobustScaler()\n",
    "scaler.fit(X)\n",
    "X = scaler.transform(X)"
   ]
  },
  {
   "cell_type": "markdown",
   "id": "musical-consultation",
   "metadata": {},
   "source": [
    "__Visualize the feature map__"
   ]
  },
  {
   "cell_type": "code",
   "execution_count": 8,
   "id": "arabic-harvey",
   "metadata": {},
   "outputs": [
    {
     "data": {
      "text/plain": [
       "<matplotlib.collections.PathCollection at 0x7ff22a57a310>"
      ]
     },
     "execution_count": 8,
     "metadata": {},
     "output_type": "execute_result"
    },
    {
     "data": {
      "image/png": "[encoded data removed]",
      "text/plain": [
       "<Figure size 432x288 with 1 Axes>"
      ]
     },
     "metadata": {
      "needs_background": "light"
     },
     "output_type": "display_data"
    }
   ],
   "source": [
    "import matplotlib.pyplot as plt\n",
    "sub = X[:,[0,1,2]]  # spatial and temporal distance and parent mitosis score, the first three features\n",
    "plt.scatter(sub[:,0], sub[:,1], c=y, s=(- min(sub[:,2]) + sub[:,2])*5, alpha=0.2, cmap='coolwarm')"
   ]
  },
  {
   "cell_type": "markdown",
   "id": "bridal-mention",
   "metadata": {},
   "source": [
    "From the plot, we see that _spatial and temporal correlations_ are strong predictors of the mitosis relationship. However, _mitosis score_, a secondary feature derived from cell cycle classification, does not help much to discern mitosis pairs. We believe this is a result from inaccurate mitosis prediction and should be fixed with increasing training set."
   ]
  },
  {
   "cell_type": "markdown",
   "id": "christian-characteristic",
   "metadata": {},
   "source": [
    "__Fit the model__"
   ]
  },
  {
   "cell_type": "code",
   "execution_count": 9,
   "id": "touched-monster",
   "metadata": {},
   "outputs": [
    {
     "data": {
      "text/plain": [
       "SVC(class_weight='balanced', probability=True)"
      ]
     },
     "execution_count": 9,
     "metadata": {},
     "output_type": "execute_result"
    }
   ],
   "source": [
    "from sklearn.svm import SVC\n",
    "clf = SVC(probability=True, class_weight='balanced')\n",
    "clf.fit(X, y)"
   ]
  },
  {
   "cell_type": "markdown",
   "id": "plastic-photograph",
   "metadata": {},
   "source": [
    "__Save the model__"
   ]
  },
  {
   "cell_type": "code",
   "execution_count": 10,
   "id": "electric-undergraduate",
   "metadata": {},
   "outputs": [
    {
     "data": {
      "text/plain": [
       "['/Users/jefft/Desktop/Chan lab/SRTP/ImageAnalysis/PCNAdeep/examples/MCF10A/mitosis_svm.m']"
      ]
     },
     "execution_count": 10,
     "metadata": {},
     "output_type": "execute_result"
    }
   ],
   "source": [
    "import joblib\n",
    "joblib.dump(clf, os.path.join(example_root, 'MCF10A', 'mitosis_svm.m'))"
   ]
  },
  {
   "cell_type": "markdown",
   "id": "compliant-league",
   "metadata": {},
   "source": [
    "__Load the model and predict__"
   ]
  },
  {
   "cell_type": "code",
   "execution_count": 14,
   "id": "visible-sarah",
   "metadata": {},
   "outputs": [
    {
     "data": {
      "text/plain": [
       "array([[0.99845155, 0.00154845]])"
      ]
     },
     "execution_count": 14,
     "metadata": {},
     "output_type": "execute_result"
    }
   ],
   "source": [
    "clf = joblib.load(os.path.join(example_root, 'MCF10A', 'mitosis_svm.m'))\n",
    "ipt = [0, 0.63, 2.71, 1.0, 1.0]\n",
    "scaler = StandardScaler()\n",
    "scaler.fit([ipt])\n",
    "clf.predict_proba(np.array([ipt]))  # even perfect distance match (=0), due to huge time difference (0.63), no relationship."
   ]
  },
  {
   "cell_type": "markdown",
   "id": "monthly-parent",
   "metadata": {},
   "source": [
    "---\n",
    "\n",
    "__For using SVM model in real tracking environment through `pcnaDeep.refiner.Refiner`__, see [Getting started](getting_started.ipynb)."
   ]
  }
 ],
 "metadata": {
  "kernelspec": {
   "display_name": "Python 3",
   "language": "python",
   "name": "python3"
  },
  "language_info": {
   "codemirror_mode": {
    "name": "ipython",
    "version": 3
   },
   "file_extension": ".py",
   "mimetype": "text/x-python",
   "name": "python",
   "nbconvert_exporter": "python",
   "pygments_lexer": "ipython3",
   "version": "3.7.9"
  },
  "varInspector": {
   "cols": {
    "lenName": 16,
    "lenType": 16,
    "lenVar": 40
   },
   "kernels_config": {
    "python": {
     "delete_cmd_postfix": "",
     "delete_cmd_prefix": "del ",
     "library": "var_list.py",
     "varRefreshCmd": "print(var_dic_list())"
    },
    "r": {
     "delete_cmd_postfix": ") ",
     "delete_cmd_prefix": "rm(",
     "library": "var_list.r",
     "varRefreshCmd": "cat(var_dic_list()) "
    }
   },
   "position": {
    "height": "144px",
    "left": "1011px",
    "right": "20px",
    "top": "121px",
    "width": "350px"
   },
   "types_to_exclude": [
    "module",
    "function",
    "builtin_function_or_method",
    "instance",
    "_Feature"
   ],
   "window_display": false
  }
 },
 "nbformat": 4,
 "nbformat_minor": 5
}
