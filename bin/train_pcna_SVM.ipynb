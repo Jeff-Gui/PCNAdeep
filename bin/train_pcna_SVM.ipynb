{
 "cells": [
  {
   "cell_type": "code",
   "execution_count": 1,
   "id": "gross-runner",
   "metadata": {},
   "outputs": [],
   "source": [
    "import skimage.io as io\n",
    "import pandas as pd\n",
    "import os\n",
    "import warnings\n",
    "import numpy as np\n",
    "warnings.filterwarnings(\"ignore\")  # skimage warns when saving uint16 with not covering full range of 0-65535\n",
    "example_root = os.path.join(os.path.dirname(os.path.dirname(os.path.abspath('__file__'))), 'examples')"
   ]
  },
  {
   "cell_type": "markdown",
   "id": "impaired-reviewer",
   "metadata": {},
   "source": [
    "## Train PCNA mitosis SVM classifier\n",
    "### Author: Yifan Gui @ KuanYoow Chan group"
   ]
  },
  {
   "cell_type": "markdown",
   "id": "equivalent-north",
   "metadata": {},
   "source": [
    "After nuclear envelope breakdown, PCNA protein flees out into the cytoplasm, leading to dim signal intensity during mitosis. Additionally, the rounding cell are usually hard to be captured by the microscopy within focus limit. To reconstruct mitosis event from tracking results, pcnaDeep offers two algorithms: __spatial/temporal threshold-based assocation__ and __SVM-based classifier__. The first requires no training and totally depends on thresholding setting (see [Getting_started](Getting_started.ipynb)), while the second __SVM classifier__ requires a small training set and may perform better with large heterogenity of the cell."
   ]
  },
  {
   "cell_type": "markdown",
   "id": "hybrid-minnesota",
   "metadata": {},
   "source": [
    "__SVM feature extractor__ in pcnaDeep is implemented as a class method of `pcnaDeep.refiner.Refiner.get_SVM_train( )` that takes an array (referred as __mitosis lookup__ below) of shape (sample, 3). The three columns are: parent ID, daughter ID, +/- relation. You can either generate it from manual labeling or from tracking & classification ground truth.\n",
    "\n",
    "---"
   ]
  },
  {
   "cell_type": "markdown",
   "id": "homeless-phenomenon",
   "metadata": {},
   "source": [
    "### 1. Generate _mitosis lookup_ `.txt` from model output\n",
    "All features fed into pcnaDeep SVM classifier is extracted from the __tracked object table__, i.e., one of the standard outputs of the model ends with __`_tracks.csv`__.  Therefore, it is convinent to start with this file. In this tutorial, we will play with the file `example/MCF10A/10A_cpd_tracks.csv`.\n",
    "\n",
    "_Note:_ __Do not__ start with refined table (ends with `_refined.csv`) where mitosis information has already been predicted."
   ]
  },
  {
   "cell_type": "code",
   "execution_count": 2,
   "id": "designing-morning",
   "metadata": {},
   "outputs": [
    {
     "data": {
      "text/html": [
       "<div>\n",
       "<style scoped>\n",
       "    .dataframe tbody tr th:only-of-type {\n",
       "        vertical-align: middle;\n",
       "    }\n",
       "\n",
       "    .dataframe tbody tr th {\n",
       "        vertical-align: top;\n",
       "    }\n",
       "\n",
       "    .dataframe thead th {\n",
       "        text-align: right;\n",
       "    }\n",
       "</style>\n",
       "<table border=\"1\" class=\"dataframe\">\n",
       "  <thead>\n",
       "    <tr style=\"text-align: right;\">\n",
       "      <th></th>\n",
       "      <th>frame</th>\n",
       "      <th>trackId</th>\n",
       "      <th>lineageId</th>\n",
       "      <th>parentTrackId</th>\n",
       "      <th>Center_of_the_object_1</th>\n",
       "      <th>Center_of_the_object_0</th>\n",
       "      <th>predicted_class</th>\n",
       "      <th>Probability of G1/G2</th>\n",
       "      <th>Probability of S</th>\n",
       "      <th>Probability of M</th>\n",
       "      <th>continuous_label</th>\n",
       "      <th>major_axis</th>\n",
       "      <th>minor_axis</th>\n",
       "      <th>mean_intensity</th>\n",
       "      <th>emerging</th>\n",
       "    </tr>\n",
       "  </thead>\n",
       "  <tbody>\n",
       "    <tr>\n",
       "      <th>0</th>\n",
       "      <td>0</td>\n",
       "      <td>1</td>\n",
       "      <td>1</td>\n",
       "      <td>0</td>\n",
       "      <td>97.955523</td>\n",
       "      <td>733.175173</td>\n",
       "      <td>G1/G2</td>\n",
       "      <td>0.999099</td>\n",
       "      <td>0.000450</td>\n",
       "      <td>0.000450</td>\n",
       "      <td>8</td>\n",
       "      <td>91.938068</td>\n",
       "      <td>76.324111</td>\n",
       "      <td>124.110281</td>\n",
       "      <td>0</td>\n",
       "    </tr>\n",
       "    <tr>\n",
       "      <th>1</th>\n",
       "      <td>1</td>\n",
       "      <td>1</td>\n",
       "      <td>1</td>\n",
       "      <td>0</td>\n",
       "      <td>82.955885</td>\n",
       "      <td>723.943978</td>\n",
       "      <td>G1/G2</td>\n",
       "      <td>0.997506</td>\n",
       "      <td>0.001247</td>\n",
       "      <td>0.001247</td>\n",
       "      <td>6</td>\n",
       "      <td>91.288752</td>\n",
       "      <td>71.845254</td>\n",
       "      <td>112.396252</td>\n",
       "      <td>0</td>\n",
       "    </tr>\n",
       "    <tr>\n",
       "      <th>2</th>\n",
       "      <td>0</td>\n",
       "      <td>2</td>\n",
       "      <td>2</td>\n",
       "      <td>0</td>\n",
       "      <td>553.174370</td>\n",
       "      <td>93.311652</td>\n",
       "      <td>G1/G2</td>\n",
       "      <td>0.902876</td>\n",
       "      <td>0.048562</td>\n",
       "      <td>0.048562</td>\n",
       "      <td>38</td>\n",
       "      <td>80.877579</td>\n",
       "      <td>58.240970</td>\n",
       "      <td>150.954885</td>\n",
       "      <td>0</td>\n",
       "    </tr>\n",
       "    <tr>\n",
       "      <th>3</th>\n",
       "      <td>0</td>\n",
       "      <td>3</td>\n",
       "      <td>3</td>\n",
       "      <td>0</td>\n",
       "      <td>466.050621</td>\n",
       "      <td>1145.423114</td>\n",
       "      <td>G1/G2</td>\n",
       "      <td>0.911593</td>\n",
       "      <td>0.044203</td>\n",
       "      <td>0.044203</td>\n",
       "      <td>31</td>\n",
       "      <td>65.103366</td>\n",
       "      <td>61.933086</td>\n",
       "      <td>147.972939</td>\n",
       "      <td>0</td>\n",
       "    </tr>\n",
       "    <tr>\n",
       "      <th>4</th>\n",
       "      <td>1</td>\n",
       "      <td>3</td>\n",
       "      <td>3</td>\n",
       "      <td>0</td>\n",
       "      <td>462.587240</td>\n",
       "      <td>1126.698242</td>\n",
       "      <td>G1/G2</td>\n",
       "      <td>0.998128</td>\n",
       "      <td>0.000936</td>\n",
       "      <td>0.000936</td>\n",
       "      <td>28</td>\n",
       "      <td>67.389764</td>\n",
       "      <td>58.536708</td>\n",
       "      <td>117.891602</td>\n",
       "      <td>0</td>\n",
       "    </tr>\n",
       "    <tr>\n",
       "      <th>...</th>\n",
       "      <td>...</td>\n",
       "      <td>...</td>\n",
       "      <td>...</td>\n",
       "      <td>...</td>\n",
       "      <td>...</td>\n",
       "      <td>...</td>\n",
       "      <td>...</td>\n",
       "      <td>...</td>\n",
       "      <td>...</td>\n",
       "      <td>...</td>\n",
       "      <td>...</td>\n",
       "      <td>...</td>\n",
       "      <td>...</td>\n",
       "      <td>...</td>\n",
       "      <td>...</td>\n",
       "    </tr>\n",
       "    <tr>\n",
       "      <th>5052</th>\n",
       "      <td>65</td>\n",
       "      <td>182</td>\n",
       "      <td>182</td>\n",
       "      <td>0</td>\n",
       "      <td>502.355540</td>\n",
       "      <td>17.567829</td>\n",
       "      <td>G1/G2</td>\n",
       "      <td>0.992211</td>\n",
       "      <td>0.003895</td>\n",
       "      <td>0.003895</td>\n",
       "      <td>30</td>\n",
       "      <td>88.814072</td>\n",
       "      <td>43.364774</td>\n",
       "      <td>192.234726</td>\n",
       "      <td>0</td>\n",
       "    </tr>\n",
       "    <tr>\n",
       "      <th>5053</th>\n",
       "      <td>62</td>\n",
       "      <td>183</td>\n",
       "      <td>183</td>\n",
       "      <td>0</td>\n",
       "      <td>225.598654</td>\n",
       "      <td>1151.423663</td>\n",
       "      <td>G1/G2</td>\n",
       "      <td>0.529047</td>\n",
       "      <td>0.235477</td>\n",
       "      <td>0.235477</td>\n",
       "      <td>15</td>\n",
       "      <td>60.633163</td>\n",
       "      <td>59.857249</td>\n",
       "      <td>32.342898</td>\n",
       "      <td>1</td>\n",
       "    </tr>\n",
       "    <tr>\n",
       "      <th>5054</th>\n",
       "      <td>63</td>\n",
       "      <td>184</td>\n",
       "      <td>184</td>\n",
       "      <td>0</td>\n",
       "      <td>513.003954</td>\n",
       "      <td>1035.039937</td>\n",
       "      <td>G1/G2</td>\n",
       "      <td>0.600248</td>\n",
       "      <td>0.199876</td>\n",
       "      <td>0.199876</td>\n",
       "      <td>34</td>\n",
       "      <td>60.778504</td>\n",
       "      <td>53.211121</td>\n",
       "      <td>64.942665</td>\n",
       "      <td>0</td>\n",
       "    </tr>\n",
       "    <tr>\n",
       "      <th>5055</th>\n",
       "      <td>64</td>\n",
       "      <td>184</td>\n",
       "      <td>184</td>\n",
       "      <td>0</td>\n",
       "      <td>518.344332</td>\n",
       "      <td>1049.286802</td>\n",
       "      <td>M</td>\n",
       "      <td>0.156044</td>\n",
       "      <td>0.156044</td>\n",
       "      <td>0.687912</td>\n",
       "      <td>32</td>\n",
       "      <td>86.415423</td>\n",
       "      <td>69.859110</td>\n",
       "      <td>72.793147</td>\n",
       "      <td>0</td>\n",
       "    </tr>\n",
       "    <tr>\n",
       "      <th>5056</th>\n",
       "      <td>65</td>\n",
       "      <td>184</td>\n",
       "      <td>184</td>\n",
       "      <td>0</td>\n",
       "      <td>519.105557</td>\n",
       "      <td>1061.956233</td>\n",
       "      <td>G1/G2</td>\n",
       "      <td>0.704176</td>\n",
       "      <td>0.147912</td>\n",
       "      <td>0.147912</td>\n",
       "      <td>31</td>\n",
       "      <td>80.962340</td>\n",
       "      <td>73.986719</td>\n",
       "      <td>80.344776</td>\n",
       "      <td>1</td>\n",
       "    </tr>\n",
       "  </tbody>\n",
       "</table>\n",
       "<p>5057 rows × 15 columns</p>\n",
       "</div>"
      ],
      "text/plain": [
       "      frame  trackId  lineageId  parentTrackId  Center_of_the_object_1  \\\n",
       "0         0        1          1              0               97.955523   \n",
       "1         1        1          1              0               82.955885   \n",
       "2         0        2          2              0              553.174370   \n",
       "3         0        3          3              0              466.050621   \n",
       "4         1        3          3              0              462.587240   \n",
       "...     ...      ...        ...            ...                     ...   \n",
       "5052     65      182        182              0              502.355540   \n",
       "5053     62      183        183              0              225.598654   \n",
       "5054     63      184        184              0              513.003954   \n",
       "5055     64      184        184              0              518.344332   \n",
       "5056     65      184        184              0              519.105557   \n",
       "\n",
       "      Center_of_the_object_0 predicted_class  Probability of G1/G2  \\\n",
       "0                 733.175173           G1/G2              0.999099   \n",
       "1                 723.943978           G1/G2              0.997506   \n",
       "2                  93.311652           G1/G2              0.902876   \n",
       "3                1145.423114           G1/G2              0.911593   \n",
       "4                1126.698242           G1/G2              0.998128   \n",
       "...                      ...             ...                   ...   \n",
       "5052               17.567829           G1/G2              0.992211   \n",
       "5053             1151.423663           G1/G2              0.529047   \n",
       "5054             1035.039937           G1/G2              0.600248   \n",
       "5055             1049.286802               M              0.156044   \n",
       "5056             1061.956233           G1/G2              0.704176   \n",
       "\n",
       "      Probability of S  Probability of M  continuous_label  major_axis  \\\n",
       "0             0.000450          0.000450                 8   91.938068   \n",
       "1             0.001247          0.001247                 6   91.288752   \n",
       "2             0.048562          0.048562                38   80.877579   \n",
       "3             0.044203          0.044203                31   65.103366   \n",
       "4             0.000936          0.000936                28   67.389764   \n",
       "...                ...               ...               ...         ...   \n",
       "5052          0.003895          0.003895                30   88.814072   \n",
       "5053          0.235477          0.235477                15   60.633163   \n",
       "5054          0.199876          0.199876                34   60.778504   \n",
       "5055          0.156044          0.687912                32   86.415423   \n",
       "5056          0.147912          0.147912                31   80.962340   \n",
       "\n",
       "      minor_axis  mean_intensity  emerging  \n",
       "0      76.324111      124.110281         0  \n",
       "1      71.845254      112.396252         0  \n",
       "2      58.240970      150.954885         0  \n",
       "3      61.933086      147.972939         0  \n",
       "4      58.536708      117.891602         0  \n",
       "...          ...             ...       ...  \n",
       "5052   43.364774      192.234726         0  \n",
       "5053   59.857249       32.342898         1  \n",
       "5054   53.211121       64.942665         0  \n",
       "5055   69.859110       72.793147         0  \n",
       "5056   73.986719       80.344776         1  \n",
       "\n",
       "[5057 rows x 15 columns]"
      ]
     },
     "execution_count": 2,
     "metadata": {},
     "output_type": "execute_result"
    }
   ],
   "source": [
    "dt = pd.read_csv(os.path.join(example_root, 'MCF10A', '10A_cpd_tracks.csv'))\n",
    "dt"
   ]
  },
  {
   "cell_type": "markdown",
   "id": "smaller-merchant",
   "metadata": {},
   "source": [
    "### &emsp;1.1 Generate mitosis-broken table\n",
    "pcnaDeep SVM takes in inputs extracted from __track A__ and __track B__ and outputs __the confidence that track A is the parent of track B__. This requires each track does not includes any entire mitosis events, which is accomplished in the first step of normal track refinement by a class method of `pcnaDeep.refiner.Refiner` named __`break_mitosis( )`__, which implements a greedy search throughout the track. Such operation should be recursively performed to break any possible mitosis events.\n",
    "\n",
    "The above process can be automatically completed through calling `pcnaDeep.refiner.Refiner.doTrackRefine( )` in a `Refiner` object initialized with `TRAIN` mode. The method returns the tracked object table with all mitosis broken, as well as the standard mitosis relationship dictionary `{parent ID: {'div': int, 'daug':{daughter ID: {'mitosis exit':int, 'dist':float}}}}`."
   ]
  },
  {
   "cell_type": "code",
   "execution_count": 3,
   "id": "exceptional-conference",
   "metadata": {},
   "outputs": [
    {
     "name": "stdout",
     "output_type": "stream",
     "text": [
      "Object classification corrected by smoothing: 91\n",
      "Level 1 mitosis:\n",
      "Found mitosis track: 14\n",
      "Level 2 mitosis:\n",
      "Found mitosis track: 0\n",
      "High quality tracks subjected to predict relationship: 119\n"
     ]
    }
   ],
   "source": [
    "from pcnaDeep.refiner import Refiner\n",
    "r = Refiner(dt.copy(), mode='TRAIN')\n",
    "mitosis_broken, mt_dic = r.doTrackRefine()"
   ]
  },
  {
   "cell_type": "code",
   "execution_count": 4,
   "id": "enabling-mouth",
   "metadata": {},
   "outputs": [
    {
     "data": {
      "text/plain": [
       "{8: {'div': 47, 'daug': {185: {'m_exit': 52, 'dist': 21.001975777078787}}},\n",
       " 11: {'div': 57, 'daug': {186: {'m_exit': 59, 'dist': 29.193296354408844}}},\n",
       " 12: {'div': 30, 'daug': {187: {'m_exit': 34, 'dist': 13.548806184162293}}},\n",
       " 20: {'div': 46, 'daug': {188: {'m_exit': 51, 'dist': 27.92707740202696}}},\n",
       " 26: {'div': 33, 'daug': {189: {'m_exit': 35, 'dist': 30.322690850796704}}},\n",
       " 28: {'div': 39, 'daug': {190: {'m_exit': 42, 'dist': 30.23545171703855}}},\n",
       " 30: {'div': 41, 'daug': {191: {'m_exit': 44, 'dist': 24.64495214874997}}},\n",
       " 35: {'div': 59, 'daug': {192: {'m_exit': 64, 'dist': 16.11608907790208}}},\n",
       " 43: {'div': 3, 'daug': {193: {'m_exit': 8, 'dist': 37.87493223760691}}},\n",
       " 52: {'div': 17, 'daug': {194: {'m_exit': 19, 'dist': 20.709206514282247}}},\n",
       " 55: {'div': 3, 'daug': {195: {'m_exit': 10, 'dist': 21.749564979413037}}},\n",
       " 59: {'div': 36, 'daug': {196: {'m_exit': 39, 'dist': 33.43996441084614}}},\n",
       " 60: {'div': 36, 'daug': {197: {'m_exit': 40, 'dist': 22.20179413801495}}},\n",
       " 80: {'div': 29, 'daug': {198: {'m_exit': 31, 'dist': 24.418482592437282}}}}"
      ]
     },
     "execution_count": 4,
     "metadata": {},
     "output_type": "execute_result"
    }
   ],
   "source": [
    "mt_dic  # here, 'dist' field refers to location distance, will be replaced with 1 - SVM confidence in processing"
   ]
  },
  {
   "cell_type": "markdown",
   "id": "hearing-green",
   "metadata": {},
   "source": [
    "We must __save the output object table__ for visualization in the next step."
   ]
  },
  {
   "cell_type": "code",
   "execution_count": 5,
   "id": "important-welding",
   "metadata": {},
   "outputs": [],
   "source": [
    "mitosis_broken.to_csv(os.path.join(example_root, 'MCF10A', '10A_cpd_tracks_mt_broken.csv'))"
   ]
  },
  {
   "cell_type": "markdown",
   "id": "vanilla-width",
   "metadata": {},
   "source": [
    "### &emsp;1.2 Visualize in Fiji (ImageJ) to inspect mitosis events and record _mitosis lookup_ `.txt`\n",
    "\n",
    "_Note:_ Make sure you have already installed [__TrackMate CSV Importer__](https://github.com/tinevez/TrackMate-CSVImporter) Fiji plugin."
   ]
  },
  {
   "cell_type": "markdown",
   "id": "covered-decade",
   "metadata": {},
   "source": [
    "\n",
    "\n",
    "1. Load `exmaple/MCF10A/10A_cpd.tif` to Fiji through dragging it to the tool bar or __File > Open__.\n",
    "\n",
    "\n",
    "2. Invert t and z axis of the image if necessary, through __Image > Properties__. In this example, set _frame (t)_ to 66 and _slice (z)_ to 1.\n",
    "\n",
    "\n",
    "3. Open TrackMate CSV Importer through __Plugin > Tracking > TrackMate CSV Importer__.\n",
    "\n",
    "\n",
    "4. Config parameters as the following (see screenshot 👉 ):\n",
    "    <img src=\"assets/trackMate_guide_1.png\"  alt=\"config trackmate csv importer\" width=450 align=\"right\"/>\n",
    "    \n",
    "    - Compute all features? = unchecked; Import tracks? = tracked\n",
    "    - Radius: choose one comfortable to the cell size, in this case is 50 pixels\n",
    "    - X/Y column: Center_of_the_object_0/1\n",
    "    - Z column: \"Don't use\"\n",
    "    - Frame column: frame\n",
    "    - Track column: trackId\n",
    "    - Name column: trackId\n",
    "    - Quality column & ID column: \"Don't use\"\n",
    "    \n",
    "    \n",
    "5. Click 'Import', and then adjust GUI\n",
    "    - check \"Display spot names\"\n",
    "    - under \"Track display mode\", choose \"Show local tracks\"\n",
    "    \n",
    "    \n",
    "6. Identify mitosis events, record __parent and daughter tracks__ in a `.txt` file.   \n",
    "  Do not record negative instances, it will be automatically generated later.\n",
    "   \n",
    "    Format (header not required, from example view below 👇):\n",
    "    | parent | daughter| 0/1 <br> (positive/negative)|\n",
    "    | :---: | :---: | :---: |\n",
    "    | 140 | 169 | 1 |\n",
    "    | 140 | 121 | 1 |\n",
    "    | 140 | 122 | 0 |\n",
    "    \n",
    "    ---\n",
    "    \n",
    "    <img src=\"assets/trackMate_guide_2.png\"  alt=\"mitosis example\" width=900/>\n",
    "    \n",
    "    ---\n",
    "    \n",
    "     __Some rules to follow__:\n",
    "    - If a mitosis track is not broken (e.g. in the above picture, 141 and its daughter 122), this is a prediction error from function call `break_mitosis( )`. This can be overcome by adjusting threshold of mitosis greedy search. However, when generating ground truth, there is no need to consider these cases, i.e., do not put (141, 122, 1) in the table, but (141, 122, 0) is fine.\n",
    "    \n",
    "    \n",
    "  7. __Save your `.txt` file__, an example file is shown in `/examples/MCF10A/0001.txt`. This will be the _mitosis lookup_ `.txt`\n",
    "  \n",
    "  ---"
   ]
  },
  {
   "cell_type": "markdown",
   "id": "preliminary-construction",
   "metadata": {},
   "source": [
    "### 2. (Alternative to 1) Generate ground truth from deepcell `.trk` _tracking gorund truth_"
   ]
  },
  {
   "cell_type": "markdown",
   "id": "atmospheric-pharmacy",
   "metadata": {},
   "source": [
    "__WARNING !!! Ground truth - generated SVM training data may not represent real situation SVM is facing. Performance not guaranteed.__\n",
    "\n",
    "Once you have segmentation ground truth (see [training detectron2](train_pcna_detectron2.ipynb)), you can generate deepcell `.trk` file to correct tracking outputs. Since deepcell does not corrects cell cycle phases, which is cruical to SVM mitosis classifier, we have to merge corrected tracks with cell cycle phase ground truth -- to generate an ultimate ground truth."
   ]
  },
  {
   "cell_type": "markdown",
   "id": "desperate-officer",
   "metadata": {},
   "source": [
    "### &emsp;2.1 Convert `.json` _segmentation ground truth_ to `.trk` file and tracked object table\n",
    "We use __`pcnaDeep.data.utils.json2mask( )`__ to get the mask from segmentation ground truth, then call __`pcnaDeep.tracker.trackmask( )`__ to track the mask, finally call __`pcnaDeep.data.annotate.generate_calibanTrk( )`__ to produce `.trk` file; importantly, we must __keep the tracked table output from `generate_calibanTrk( )` which contains cell cycle information__."
   ]
  },
  {
   "cell_type": "code",
   "execution_count": 2,
   "id": "civilian-belfast",
   "metadata": {},
   "outputs": [],
   "source": [
    "from pcnaDeep.data.utils import json2mask\n",
    "mask = json2mask(ip=os.path.join(example_root, 'MCF10A', '0001.json'), out='', height=1200, width=1200, \n",
    "          label_phase=True, mask_only=True)  # suppress file output by mask_only=True, record phase by label_phase=True"
   ]
  },
  {
   "cell_type": "code",
   "execution_count": 3,
   "id": "czech-appliance",
   "metadata": {},
   "outputs": [
    {
     "data": {
      "text/plain": [
       "<matplotlib.image.AxesImage at 0x7f8cdbc67cd0>"
      ]
     },
     "execution_count": 3,
     "metadata": {},
     "output_type": "execute_result"
    },
    {
     "data": {
      "image/png": "[encoded data removed]",
      "text/plain": [
       "<Figure size 432x288 with 1 Axes>"
      ]
     },
     "metadata": {
      "needs_background": "light"
     },
     "output_type": "display_data"
    }
   ],
   "source": [
    "io.imshow(mask[10,:,:])  # different cell cycle phase is colored"
   ]
  },
  {
   "cell_type": "markdown",
   "id": "important-darkness",
   "metadata": {},
   "source": [
    "Track the mask."
   ]
  },
  {
   "cell_type": "code",
   "execution_count": 3,
   "id": "intensive-terminology",
   "metadata": {},
   "outputs": [
    {
     "name": "stdout",
     "output_type": "stream",
     "text": [
      "Frame 65: 103 trajectories present.\n"
     ]
    }
   ],
   "source": [
    "from pcnaDeep.tracker import track_mask\n",
    "# instead of input mask labeled with cell-cycle specific value, the output mask is continuously labeled\n",
    "tracked, labeled_mask = track_mask(mask, render_phase=True, displace=100, gap_fill=3)"
   ]
  },
  {
   "cell_type": "markdown",
   "id": "korean-highland",
   "metadata": {},
   "source": [
    "Read in the raw images."
   ]
  },
  {
   "cell_type": "code",
   "execution_count": 4,
   "id": "sonic-roads",
   "metadata": {},
   "outputs": [],
   "source": [
    "imgs = []\n",
    "img_fp = os.listdir(os.path.join(example_root, 'MCF10A'))\n",
    "img_fp.sort()\n",
    "for i in img_fp:\n",
    "    if i[-3:] == 'png':\n",
    "        img = io.imread(os.path.join(example_root, 'MCF10A', i))\n",
    "        imgs.append(img)\n",
    "raw = np.stack(imgs, axis=0)"
   ]
  },
  {
   "cell_type": "markdown",
   "id": "shared-charm",
   "metadata": {},
   "source": [
    "Generate `.trk` files. Note that `generate_calibanTrk( )` can perform mask-tracking by itself (for demostrating purpose we did not). We can suppress the behavior by supplying it with a tracked table."
   ]
  },
  {
   "cell_type": "code",
   "execution_count": 5,
   "id": "delayed-flash",
   "metadata": {},
   "outputs": [
    {
     "data": {
      "text/html": [
       "<div>\n",
       "<style scoped>\n",
       "    .dataframe tbody tr th:only-of-type {\n",
       "        vertical-align: middle;\n",
       "    }\n",
       "\n",
       "    .dataframe tbody tr th {\n",
       "        vertical-align: top;\n",
       "    }\n",
       "\n",
       "    .dataframe thead th {\n",
       "        text-align: right;\n",
       "    }\n",
       "</style>\n",
       "<table border=\"1\" class=\"dataframe\">\n",
       "  <thead>\n",
       "    <tr style=\"text-align: right;\">\n",
       "      <th></th>\n",
       "      <th>frame</th>\n",
       "      <th>trackId</th>\n",
       "      <th>lineageId</th>\n",
       "      <th>parentTrackId</th>\n",
       "      <th>Center_of_the_object_1</th>\n",
       "      <th>Center_of_the_object_0</th>\n",
       "      <th>predicted_class</th>\n",
       "      <th>Probability of G1/G2</th>\n",
       "      <th>Probability of S</th>\n",
       "      <th>Probability of M</th>\n",
       "      <th>continuous_label</th>\n",
       "      <th>major_axis</th>\n",
       "      <th>minor_axis</th>\n",
       "      <th>mean_intensity</th>\n",
       "      <th>mtParTrk</th>\n",
       "      <th>ori_trackId</th>\n",
       "    </tr>\n",
       "  </thead>\n",
       "  <tbody>\n",
       "    <tr>\n",
       "      <th>0</th>\n",
       "      <td>0</td>\n",
       "      <td>1</td>\n",
       "      <td>1</td>\n",
       "      <td>0</td>\n",
       "      <td>39.150359</td>\n",
       "      <td>1128.490051</td>\n",
       "      <td>G1/G2</td>\n",
       "      <td>1</td>\n",
       "      <td>0</td>\n",
       "      <td>0</td>\n",
       "      <td>1</td>\n",
       "      <td>98.795516</td>\n",
       "      <td>63.036706</td>\n",
       "      <td>10</td>\n",
       "      <td>0</td>\n",
       "      <td>1</td>\n",
       "    </tr>\n",
       "    <tr>\n",
       "      <th>67</th>\n",
       "      <td>1</td>\n",
       "      <td>1</td>\n",
       "      <td>1</td>\n",
       "      <td>0</td>\n",
       "      <td>32.056595</td>\n",
       "      <td>1137.564796</td>\n",
       "      <td>G1/G2</td>\n",
       "      <td>1</td>\n",
       "      <td>0</td>\n",
       "      <td>0</td>\n",
       "      <td>1</td>\n",
       "      <td>89.761044</td>\n",
       "      <td>62.292804</td>\n",
       "      <td>10</td>\n",
       "      <td>0</td>\n",
       "      <td>1</td>\n",
       "    </tr>\n",
       "    <tr>\n",
       "      <th>142</th>\n",
       "      <td>2</td>\n",
       "      <td>1</td>\n",
       "      <td>1</td>\n",
       "      <td>0</td>\n",
       "      <td>28.237768</td>\n",
       "      <td>1144.653656</td>\n",
       "      <td>G1/G2</td>\n",
       "      <td>1</td>\n",
       "      <td>0</td>\n",
       "      <td>0</td>\n",
       "      <td>1</td>\n",
       "      <td>86.117956</td>\n",
       "      <td>55.263801</td>\n",
       "      <td>10</td>\n",
       "      <td>0</td>\n",
       "      <td>1</td>\n",
       "    </tr>\n",
       "    <tr>\n",
       "      <th>213</th>\n",
       "      <td>3</td>\n",
       "      <td>1</td>\n",
       "      <td>1</td>\n",
       "      <td>0</td>\n",
       "      <td>24.006911</td>\n",
       "      <td>1157.384315</td>\n",
       "      <td>G1/G2</td>\n",
       "      <td>1</td>\n",
       "      <td>0</td>\n",
       "      <td>0</td>\n",
       "      <td>2</td>\n",
       "      <td>83.184777</td>\n",
       "      <td>53.563012</td>\n",
       "      <td>10</td>\n",
       "      <td>0</td>\n",
       "      <td>1</td>\n",
       "    </tr>\n",
       "    <tr>\n",
       "      <th>285</th>\n",
       "      <td>4</td>\n",
       "      <td>1</td>\n",
       "      <td>1</td>\n",
       "      <td>0</td>\n",
       "      <td>20.664910</td>\n",
       "      <td>1165.991717</td>\n",
       "      <td>G1/G2</td>\n",
       "      <td>1</td>\n",
       "      <td>0</td>\n",
       "      <td>0</td>\n",
       "      <td>3</td>\n",
       "      <td>74.759067</td>\n",
       "      <td>48.080955</td>\n",
       "      <td>10</td>\n",
       "      <td>0</td>\n",
       "      <td>1</td>\n",
       "    </tr>\n",
       "    <tr>\n",
       "      <th>...</th>\n",
       "      <td>...</td>\n",
       "      <td>...</td>\n",
       "      <td>...</td>\n",
       "      <td>...</td>\n",
       "      <td>...</td>\n",
       "      <td>...</td>\n",
       "      <td>...</td>\n",
       "      <td>...</td>\n",
       "      <td>...</td>\n",
       "      <td>...</td>\n",
       "      <td>...</td>\n",
       "      <td>...</td>\n",
       "      <td>...</td>\n",
       "      <td>...</td>\n",
       "      <td>...</td>\n",
       "      <td>...</td>\n",
       "    </tr>\n",
       "    <tr>\n",
       "      <th>5773</th>\n",
       "      <td>65</td>\n",
       "      <td>170</td>\n",
       "      <td>170</td>\n",
       "      <td>0</td>\n",
       "      <td>939.720416</td>\n",
       "      <td>879.167354</td>\n",
       "      <td>G1/G2</td>\n",
       "      <td>1</td>\n",
       "      <td>0</td>\n",
       "      <td>0</td>\n",
       "      <td>77</td>\n",
       "      <td>91.081957</td>\n",
       "      <td>85.092300</td>\n",
       "      <td>200</td>\n",
       "      <td>0</td>\n",
       "      <td>170</td>\n",
       "    </tr>\n",
       "    <tr>\n",
       "      <th>5387</th>\n",
       "      <td>62</td>\n",
       "      <td>171</td>\n",
       "      <td>171</td>\n",
       "      <td>0</td>\n",
       "      <td>7.975000</td>\n",
       "      <td>1187.371875</td>\n",
       "      <td>G1/G2</td>\n",
       "      <td>1</td>\n",
       "      <td>0</td>\n",
       "      <td>0</td>\n",
       "      <td>5</td>\n",
       "      <td>24.435036</td>\n",
       "      <td>17.520169</td>\n",
       "      <td>10</td>\n",
       "      <td>0</td>\n",
       "      <td>171</td>\n",
       "    </tr>\n",
       "    <tr>\n",
       "      <th>5597</th>\n",
       "      <td>64</td>\n",
       "      <td>206</td>\n",
       "      <td>171</td>\n",
       "      <td>171</td>\n",
       "      <td>7.853414</td>\n",
       "      <td>1180.202811</td>\n",
       "      <td>G1/G2</td>\n",
       "      <td>1</td>\n",
       "      <td>0</td>\n",
       "      <td>0</td>\n",
       "      <td>6</td>\n",
       "      <td>40.240005</td>\n",
       "      <td>17.285144</td>\n",
       "      <td>10</td>\n",
       "      <td>0</td>\n",
       "      <td>171</td>\n",
       "    </tr>\n",
       "    <tr>\n",
       "      <th>5655</th>\n",
       "      <td>64</td>\n",
       "      <td>172</td>\n",
       "      <td>172</td>\n",
       "      <td>0</td>\n",
       "      <td>758.254194</td>\n",
       "      <td>1188.285161</td>\n",
       "      <td>G1/G2</td>\n",
       "      <td>1</td>\n",
       "      <td>0</td>\n",
       "      <td>0</td>\n",
       "      <td>64</td>\n",
       "      <td>47.260946</td>\n",
       "      <td>22.222824</td>\n",
       "      <td>10</td>\n",
       "      <td>0</td>\n",
       "      <td>172</td>\n",
       "    </tr>\n",
       "    <tr>\n",
       "      <th>5757</th>\n",
       "      <td>65</td>\n",
       "      <td>172</td>\n",
       "      <td>172</td>\n",
       "      <td>0</td>\n",
       "      <td>759.199531</td>\n",
       "      <td>1187.793427</td>\n",
       "      <td>G1/G2</td>\n",
       "      <td>1</td>\n",
       "      <td>0</td>\n",
       "      <td>0</td>\n",
       "      <td>61</td>\n",
       "      <td>44.773863</td>\n",
       "      <td>25.239328</td>\n",
       "      <td>10</td>\n",
       "      <td>0</td>\n",
       "      <td>172</td>\n",
       "    </tr>\n",
       "  </tbody>\n",
       "</table>\n",
       "<p>5800 rows × 16 columns</p>\n",
       "</div>"
      ],
      "text/plain": [
       "      frame  trackId  lineageId  parentTrackId  Center_of_the_object_1  \\\n",
       "0         0        1          1              0               39.150359   \n",
       "67        1        1          1              0               32.056595   \n",
       "142       2        1          1              0               28.237768   \n",
       "213       3        1          1              0               24.006911   \n",
       "285       4        1          1              0               20.664910   \n",
       "...     ...      ...        ...            ...                     ...   \n",
       "5773     65      170        170              0              939.720416   \n",
       "5387     62      171        171              0                7.975000   \n",
       "5597     64      206        171            171                7.853414   \n",
       "5655     64      172        172              0              758.254194   \n",
       "5757     65      172        172              0              759.199531   \n",
       "\n",
       "      Center_of_the_object_0 predicted_class  Probability of G1/G2  \\\n",
       "0                1128.490051           G1/G2                     1   \n",
       "67               1137.564796           G1/G2                     1   \n",
       "142              1144.653656           G1/G2                     1   \n",
       "213              1157.384315           G1/G2                     1   \n",
       "285              1165.991717           G1/G2                     1   \n",
       "...                      ...             ...                   ...   \n",
       "5773              879.167354           G1/G2                     1   \n",
       "5387             1187.371875           G1/G2                     1   \n",
       "5597             1180.202811           G1/G2                     1   \n",
       "5655             1188.285161           G1/G2                     1   \n",
       "5757             1187.793427           G1/G2                     1   \n",
       "\n",
       "      Probability of S  Probability of M  continuous_label  major_axis  \\\n",
       "0                    0                 0                 1   98.795516   \n",
       "67                   0                 0                 1   89.761044   \n",
       "142                  0                 0                 1   86.117956   \n",
       "213                  0                 0                 2   83.184777   \n",
       "285                  0                 0                 3   74.759067   \n",
       "...                ...               ...               ...         ...   \n",
       "5773                 0                 0                77   91.081957   \n",
       "5387                 0                 0                 5   24.435036   \n",
       "5597                 0                 0                 6   40.240005   \n",
       "5655                 0                 0                64   47.260946   \n",
       "5757                 0                 0                61   44.773863   \n",
       "\n",
       "      minor_axis  mean_intensity  mtParTrk  ori_trackId  \n",
       "0      63.036706              10         0            1  \n",
       "67     62.292804              10         0            1  \n",
       "142    55.263801              10         0            1  \n",
       "213    53.563012              10         0            1  \n",
       "285    48.080955              10         0            1  \n",
       "...          ...             ...       ...          ...  \n",
       "5773   85.092300             200         0          170  \n",
       "5387   17.520169              10         0          171  \n",
       "5597   17.285144              10         0          171  \n",
       "5655   22.222824              10         0          172  \n",
       "5757   25.239328              10         0          172  \n",
       "\n",
       "[5800 rows x 16 columns]"
      ]
     },
     "execution_count": 5,
     "metadata": {},
     "output_type": "execute_result"
    }
   ],
   "source": [
    "from pcnaDeep.data.annotate import generate_calibanTrk\n",
    "tracked_new = generate_calibanTrk(raw=raw, mask=labeled_mask, out_dir=os.path.join(example_root, 'MCF10A'), \n",
    "                    dt_id=1, digit_num=4, track=tracked)\n",
    "tracked_new.to_csv(os.path.join(example_root, 'MCF10A', '0001_tracked.csv'), index=0)\n",
    "tracked_new"
   ]
  },
  {
   "cell_type": "markdown",
   "id": "violent-multimedia",
   "metadata": {},
   "source": [
    "### &emsp;2.2 Manually label `.trk` file through deepcell-label software\n",
    "To correct tracking error and label mitosis, use deepcell-label software. See [software homepage](https://github.com/vanvalenlab/deepcell-label) for detailed manual.\n",
    "\n",
    "It is suggested that deepcell-label has the best performance when being run in a __Docker__ container."
   ]
  },
  {
   "cell_type": "markdown",
   "id": "related-inflation",
   "metadata": {},
   "source": [
    "### &emsp;2.3 Convert `.trk` _tracking ground truth_ to _mitosis lookup_ `.txt`\n",
    "\n",
    "`pcnaDeep.data.annotate.mergeTrkAndTrack( )` reads in the file path of a `.trk` file (__tracks we just curated manually__) and tracked object table `.csv` (__output of mask tracking, i.e., the variable `track_new` we just saved__) and merges the two. During merging, the method raises/handles the following exceptions:\n",
    "1. Gapped tracks still exist in `.trk` which should be separated already. A `ValueError` will be raised. Check your `.trk` manually.\n",
    "2. Mitosis parent assigned does not have an 'M' classification before division. A `UserWarning` will be raised. The relationship will not be solved.\n",
    "3. When correct mitosis relationship found, the function calculates mitosis entry and mitosis exit based on cell cycle classification. If no 'M' classification found for daughters, mitosis exit will be assigned to the first frame of daughters' appearance. Such daughter will be labeled with _imprecise_, and returned as a list.\n",
    "\n",
    "The function returns:\n",
    "1. __tracked object table__, `trackId, parentTrackId, lineageId, mtParTrk` corrected from `.trk`\n",
    "2. __mitosis dictionary__, a standard mitosis information dictionary in pcnaDeep.\n",
    "3. __imprecise daughters__, a list of daughter track IDs, the mitosis exit calculation is not precise.\n",
    "4. (optional, default suppress output with parameter `mask_out = False`) __mask__ deduced from `.trk`.\n",
    "\n",
    "In this case, we will need _tracked object table_ and _mitosis dictionary_."
   ]
  },
  {
   "cell_type": "code",
   "execution_count": 3,
   "id": "skilled-vehicle",
   "metadata": {},
   "outputs": [],
   "source": [
    "from pcnaDeep.data.annotate import mergeTrkAndTrack\n",
    "out = mergeTrkAndTrack(trk_path = os.path.join(example_root, 'MCF10A', '0001.trk'),\n",
    "                      table_path = os.path.join(example_root, 'MCF10A', '0001_tracked.csv'),\n",
    "                      return_mask = False)\n",
    "track = out[0]\n",
    "track.to_csv(os.path.join(example_root, 'MCF10A', '0001_tracked_GT.csv'), index=0)\n",
    "mt_dic = out[1]"
   ]
  },
  {
   "cell_type": "markdown",
   "id": "specialized-prospect",
   "metadata": {},
   "source": [
    "We then convert `mt_dic` to ___mitosis lookup matrix___ and save as a `.txt` file, using __`pcnaDeep.data.utils.mt_dic2_mt_lookup( )`__."
   ]
  },
  {
   "cell_type": "code",
   "execution_count": 24,
   "id": "competent-restriction",
   "metadata": {},
   "outputs": [],
   "source": [
    "from pcnaDeep.data.utils import mt_dic2mt_lookup\n",
    "mt_lookup = mt_dic2mt_lookup(mt_dic)\n",
    "mt_lookup.to_csv(os.path.join(example_root, 'MCF10A', '0001_mitosis_lookup.txt'), index=0)"
   ]
  },
  {
   "cell_type": "markdown",
   "id": "magnetic-species",
   "metadata": {},
   "source": [
    "---"
   ]
  },
  {
   "cell_type": "markdown",
   "id": "dried-fifteen",
   "metadata": {},
   "source": [
    "### 3. Extract _mitosis ground truth_ `array` from _mitosis lookup_ `.txt` as SVM training data\n",
    "We can draw SVM training data from a `Refiner` object in `TRAIN` mode, by supplying an `numpy.array` mitosis lookup table to the method __`Refiner.get_SVM_train( )`__.\n",
    "\n",
    "Note: If you choose the __option 1__ above, i.e., use manual labeled `.txt` file for mitosis ground truth, you should __NOT__ initialize the Refiner object again.\n",
    "\n",
    "On the contrary, if you choose __option 2__, i.e., generate a ground truth tracked object table, you must run `Refiner.doTrackRefine()` at first to check all mitosis tracks are broken.  If no, you should again, manually break these tracks.\n",
    "\n",
    "In brief, __MAKE SURE that the `Refiner` object has been called with `doTrackRefine(mode='TRAIN')` yet and your mitosis ground truth matches table after breaking the mitotic tracks.__"
   ]
  },
  {
   "cell_type": "code",
   "execution_count": 2,
   "id": "further-teacher",
   "metadata": {},
   "outputs": [],
   "source": [
    "## Initialize Refiner object, SKIP THIS if you arrive from option 1 above.\n",
    "\n",
    "# You may use the Refiner already have, just make sure Refiner.track matches to your mitosis lookup.\n",
    "r = Refiner(track = pd.read_csv(os.path.join(example_root, 'MCF10A', '10A_cpd_tracks_mt_broken.csv')), mode='TRAIN',\n",
    "           sample_freq=20, mt_len=5) # remember to input metadata: sample frequency and mitosis length"
   ]
  },
  {
   "cell_type": "code",
   "execution_count": 4,
   "id": "robust-luxury",
   "metadata": {},
   "outputs": [],
   "source": [
    "## Read in lookup table\n",
    "# skip header if essential (header in file)\n",
    "mt_lookup_array = np.array(pd.read_csv(os.path.join(example_root, 'MCF10A', '10A_cpd_mitosis_lookup.txt'), header=0))"
   ]
  },
  {
   "cell_type": "markdown",
   "id": "cheap-naples",
   "metadata": {},
   "source": [
    "`Refiner.get_SVM_train( )` takes the parameter `remove_outlier=[int]` and `normalize=False` for manipulating the feature. For outlier removal, the list should include indecies of columns you wish to inspect. If you are going to generate multiple training sets, it will be better to save raw feature and normalize then together manually (see section 4). "
   ]
  },
  {
   "cell_type": "code",
   "execution_count": 5,
   "id": "afraid-portugal",
   "metadata": {},
   "outputs": [
    {
     "name": "stdout",
     "output_type": "stream",
     "text": [
      "Extracting features...\n",
      "Finished feature extraction: 273 samples.\n"
     ]
    }
   ],
   "source": [
    "X, y, samples = r.get_SVM_train(mt_lookup_array)\n",
    "# returns:\n",
    "# X: input vector\n",
    "# y: labels\n",
    "# samples: track ID of each parent-daughter input."
   ]
  },
  {
   "cell_type": "markdown",
   "id": "colonial-converter",
   "metadata": {},
   "source": [
    "__Feature map__ of the SVM model used in pcnaDeep:\n",
    "1. Distance difference between parent (when it disappears) and daughter (when it appears),   \n",
    "    normalized with average displace of the entire dataset.\n",
    "2. Frame difference between parent (when it disappears) and daughter (when it apppears),   \n",
    "    normalized with absolute time of mitosis (`sample_freq * mt_len`)\n",
    "3. Minimum average intensity of parent and daughter. Note mitosis cells should have very low intensity.\n",
    "4. Mitosis score of parent + daughter\n",
    "\n",
    "    mitosis score = sum_i(Indicator_{predicted_class = 'M'} * 0.9 ^ abs((t_i - t_mitosis_entry/exit)))\n",
    "    \n",
    "5. Parent track frame length\n",
    "6. Daughter track frame length"
   ]
  },
  {
   "cell_type": "markdown",
   "id": "waiting-roulette",
   "metadata": {},
   "source": [
    "It is highly recommended to __save raw training feature map__ for extensibility."
   ]
  },
  {
   "cell_type": "code",
   "execution_count": 6,
   "id": "undefined-marketplace",
   "metadata": {},
   "outputs": [],
   "source": [
    "# Oversampling\n",
    "#from imblearn.over_sampling import SMOTE\n",
    "from imblearn.over_sampling import BorderlineSMOTE\n",
    "s = BorderlineSMOTE(random_state=1, kind='borderline-1')\n",
    "X_resampled_smote, y_resampled_smote = s.fit_resample(X, y)"
   ]
  },
  {
   "cell_type": "code",
   "execution_count": 7,
   "id": "smoking-eclipse",
   "metadata": {},
   "outputs": [],
   "source": [
    "train = pd.DataFrame(X_resampled_smote)\n",
    "train['y'] = y_resampled_smote\n",
    "train.to_csv(os.path.join(example_root, 'MCF10A', 'SVM_train.txt'), header=0, index=0)"
   ]
  },
  {
   "cell_type": "markdown",
   "id": "european-creator",
   "metadata": {},
   "source": [
    "### 4. Initialize, Fit, Save the SVM model"
   ]
  },
  {
   "cell_type": "code",
   "execution_count": 8,
   "id": "environmental-acceptance",
   "metadata": {},
   "outputs": [],
   "source": [
    "'''\n",
    "from pcnaDeep.data.utils import get_outlier\n",
    "# remove outlier\n",
    "outs = get_outlier(X, col_ids=[0])\n",
    "idx = [_ for _ in range(X.shape[0]) if _ not in outs]\n",
    "X = X[idx,]\n",
    "y = y[idx,]\n",
    "'''\n",
    "\n",
    "# normalize\n",
    "#from sklearn.preprocessing import StandardScaler\n",
    "#scaler = StandardScaler()\n",
    "from sklearn.preprocessing import RobustScaler\n",
    "scaler = RobustScaler()\n",
    "X_resampled_smote = scaler.fit_transform(X_resampled_smote)"
   ]
  },
  {
   "cell_type": "markdown",
   "id": "increased-dialogue",
   "metadata": {},
   "source": [
    "__Visualize the feature map__"
   ]
  },
  {
   "cell_type": "code",
   "execution_count": 9,
   "id": "trained-ballot",
   "metadata": {},
   "outputs": [
    {
     "data": {
      "text/plain": [
       "<matplotlib.collections.PathCollection at 0x7fc5508ff7d0>"
      ]
     },
     "execution_count": 9,
     "metadata": {},
     "output_type": "execute_result"
    },
    {
     "data": {
      "image/png": "[encoded data removed]",
      "text/plain": [
       "<Figure size 432x288 with 1 Axes>"
      ]
     },
     "metadata": {
      "needs_background": "light"
     },
     "output_type": "display_data"
    }
   ],
   "source": [
    "import matplotlib.pyplot as plt\n",
    "sub = X_resampled_smote[:,[0,1,2]]  # spatial and temporal distance and parent mitosis score, the first three features\n",
    "plt.scatter(sub[:,0], sub[:,1], c=y_resampled_smote, s=(- min(sub[:,2]) + sub[:,2])*1, alpha=0.2, cmap='coolwarm')"
   ]
  },
  {
   "cell_type": "markdown",
   "id": "lucky-leather",
   "metadata": {},
   "source": [
    "From the plot, we see that _spatial and temporal correlations_ are strong predictors of the mitosis relationship. However, _mitosis score_, a secondary feature derived from cell cycle classification, does not help much to discern mitosis pairs. We believe this is a result from inaccurate mitosis prediction and should be fixed with increasing training set."
   ]
  },
  {
   "cell_type": "markdown",
   "id": "fifteen-hepatitis",
   "metadata": {},
   "source": [
    "__Fit the model__"
   ]
  },
  {
   "cell_type": "code",
   "execution_count": 13,
   "id": "interracial-preference",
   "metadata": {},
   "outputs": [],
   "source": [
    "C_range = list(map(lambda x:10**x, np.linspace(-1,5,10)))\n",
    "gamma_range = list(map(lambda x:10**x, np.linspace(-5,1,10)))"
   ]
  },
  {
   "cell_type": "markdown",
   "id": "simple-montreal",
   "metadata": {},
   "source": [
    "#### WARNING: following grid search require high computing power !!!"
   ]
  },
  {
   "cell_type": "code",
   "execution_count": 22,
   "id": "stunning-aruba",
   "metadata": {},
   "outputs": [
    {
     "name": "stdout",
     "output_type": "stream",
     "text": [
      "Fitting 5 folds for each of 100 candidates, totalling 500 fits\n"
     ]
    },
    {
     "ename": "KeyboardInterrupt",
     "evalue": "",
     "output_type": "error",
     "traceback": [
      "\u001b[0;31m---------------------------------------------------------------------------\u001b[0m",
      "\u001b[0;31mKeyboardInterrupt\u001b[0m                         Traceback (most recent call last)",
      "\u001b[0;32m<ipython-input-22-cbd5f2f4c740>\u001b[0m in \u001b[0;36m<module>\u001b[0;34m\u001b[0m\n\u001b[1;32m     16\u001b[0m     \u001b[0;32mreturn\u001b[0m \u001b[0mmodel\u001b[0m\u001b[0;34m,\u001b[0m \u001b[0mgrid_search\u001b[0m\u001b[0;34m.\u001b[0m\u001b[0mcv_results_\u001b[0m\u001b[0;34m\u001b[0m\u001b[0;34m\u001b[0m\u001b[0m\n\u001b[1;32m     17\u001b[0m \u001b[0;34m\u001b[0m\u001b[0m\n\u001b[0;32m---> 18\u001b[0;31m \u001b[0mmodel\u001b[0m\u001b[0;34m,\u001b[0m \u001b[0mresults\u001b[0m \u001b[0;34m=\u001b[0m \u001b[0msvm_cross_validation\u001b[0m\u001b[0;34m(\u001b[0m\u001b[0mX_resampled_smote\u001b[0m\u001b[0;34m,\u001b[0m \u001b[0my_resampled_smote\u001b[0m\u001b[0;34m)\u001b[0m\u001b[0;34m\u001b[0m\u001b[0;34m\u001b[0m\u001b[0m\n\u001b[0m\u001b[1;32m     19\u001b[0m \u001b[0mscores\u001b[0m \u001b[0;34m=\u001b[0m \u001b[0mcross_val_score\u001b[0m\u001b[0;34m(\u001b[0m\u001b[0mmodel\u001b[0m\u001b[0;34m,\u001b[0m \u001b[0mX_resampled_smote\u001b[0m\u001b[0;34m,\u001b[0m \u001b[0my_resampled_smote\u001b[0m\u001b[0;34m,\u001b[0m \u001b[0mcv\u001b[0m\u001b[0;34m=\u001b[0m\u001b[0;36m5\u001b[0m\u001b[0;34m)\u001b[0m\u001b[0;34m\u001b[0m\u001b[0;34m\u001b[0m\u001b[0m\n\u001b[1;32m     20\u001b[0m \u001b[0mprint\u001b[0m\u001b[0;34m(\u001b[0m\u001b[0mscores\u001b[0m\u001b[0;34m)\u001b[0m\u001b[0;34m\u001b[0m\u001b[0;34m\u001b[0m\u001b[0m\n",
      "\u001b[0;32m<ipython-input-22-cbd5f2f4c740>\u001b[0m in \u001b[0;36msvm_cross_validation\u001b[0;34m(train_x, train_y)\u001b[0m\n\u001b[1;32m      8\u001b[0m     \u001b[0mparam_grid\u001b[0m \u001b[0;34m=\u001b[0m \u001b[0;34m{\u001b[0m\u001b[0;34m'C'\u001b[0m\u001b[0;34m:\u001b[0m \u001b[0mC_range\u001b[0m\u001b[0;34m,\u001b[0m \u001b[0;34m'gamma'\u001b[0m\u001b[0;34m:\u001b[0m \u001b[0mgamma_range\u001b[0m\u001b[0;34m}\u001b[0m\u001b[0;34m\u001b[0m\u001b[0;34m\u001b[0m\u001b[0m\n\u001b[1;32m      9\u001b[0m     \u001b[0mgrid_search\u001b[0m \u001b[0;34m=\u001b[0m \u001b[0mGridSearchCV\u001b[0m\u001b[0;34m(\u001b[0m\u001b[0mmodel\u001b[0m\u001b[0;34m,\u001b[0m \u001b[0mparam_grid\u001b[0m\u001b[0;34m,\u001b[0m \u001b[0mn_jobs\u001b[0m \u001b[0;34m=\u001b[0m \u001b[0;36m2\u001b[0m\u001b[0;34m,\u001b[0m \u001b[0mverbose\u001b[0m\u001b[0;34m=\u001b[0m\u001b[0;36m1\u001b[0m\u001b[0;34m,\u001b[0m \u001b[0mscoring\u001b[0m\u001b[0;34m=\u001b[0m\u001b[0;34m'f1'\u001b[0m\u001b[0;34m)\u001b[0m\u001b[0;34m\u001b[0m\u001b[0;34m\u001b[0m\u001b[0m\n\u001b[0;32m---> 10\u001b[0;31m     \u001b[0mgrid_search\u001b[0m\u001b[0;34m.\u001b[0m\u001b[0mfit\u001b[0m\u001b[0;34m(\u001b[0m\u001b[0mtrain_x\u001b[0m\u001b[0;34m,\u001b[0m \u001b[0mtrain_y\u001b[0m\u001b[0;34m)\u001b[0m\u001b[0;34m\u001b[0m\u001b[0;34m\u001b[0m\u001b[0m\n\u001b[0m\u001b[1;32m     11\u001b[0m     \u001b[0mbest_parameters\u001b[0m \u001b[0;34m=\u001b[0m \u001b[0mgrid_search\u001b[0m\u001b[0;34m.\u001b[0m\u001b[0mbest_estimator_\u001b[0m\u001b[0;34m.\u001b[0m\u001b[0mget_params\u001b[0m\u001b[0;34m(\u001b[0m\u001b[0;34m)\u001b[0m\u001b[0;34m\u001b[0m\u001b[0;34m\u001b[0m\u001b[0m\n\u001b[1;32m     12\u001b[0m     \u001b[0;32mfor\u001b[0m \u001b[0mpara\u001b[0m\u001b[0;34m,\u001b[0m \u001b[0mval\u001b[0m \u001b[0;32min\u001b[0m \u001b[0mlist\u001b[0m\u001b[0;34m(\u001b[0m\u001b[0mbest_parameters\u001b[0m\u001b[0;34m.\u001b[0m\u001b[0mitems\u001b[0m\u001b[0;34m(\u001b[0m\u001b[0;34m)\u001b[0m\u001b[0;34m)\u001b[0m\u001b[0;34m:\u001b[0m\u001b[0;34m\u001b[0m\u001b[0;34m\u001b[0m\u001b[0m\n",
      "\u001b[0;32m/opt/anaconda3/envs/pcnaDeep/lib/python3.7/site-packages/sklearn/utils/validation.py\u001b[0m in \u001b[0;36minner_f\u001b[0;34m(*args, **kwargs)\u001b[0m\n\u001b[1;32m     61\u001b[0m             \u001b[0mextra_args\u001b[0m \u001b[0;34m=\u001b[0m \u001b[0mlen\u001b[0m\u001b[0;34m(\u001b[0m\u001b[0margs\u001b[0m\u001b[0;34m)\u001b[0m \u001b[0;34m-\u001b[0m \u001b[0mlen\u001b[0m\u001b[0;34m(\u001b[0m\u001b[0mall_args\u001b[0m\u001b[0;34m)\u001b[0m\u001b[0;34m\u001b[0m\u001b[0;34m\u001b[0m\u001b[0m\n\u001b[1;32m     62\u001b[0m             \u001b[0;32mif\u001b[0m \u001b[0mextra_args\u001b[0m \u001b[0;34m<=\u001b[0m \u001b[0;36m0\u001b[0m\u001b[0;34m:\u001b[0m\u001b[0;34m\u001b[0m\u001b[0;34m\u001b[0m\u001b[0m\n\u001b[0;32m---> 63\u001b[0;31m                 \u001b[0;32mreturn\u001b[0m \u001b[0mf\u001b[0m\u001b[0;34m(\u001b[0m\u001b[0;34m*\u001b[0m\u001b[0margs\u001b[0m\u001b[0;34m,\u001b[0m \u001b[0;34m**\u001b[0m\u001b[0mkwargs\u001b[0m\u001b[0;34m)\u001b[0m\u001b[0;34m\u001b[0m\u001b[0;34m\u001b[0m\u001b[0m\n\u001b[0m\u001b[1;32m     64\u001b[0m \u001b[0;34m\u001b[0m\u001b[0m\n\u001b[1;32m     65\u001b[0m             \u001b[0;31m# extra_args > 0\u001b[0m\u001b[0;34m\u001b[0m\u001b[0;34m\u001b[0m\u001b[0;34m\u001b[0m\u001b[0m\n",
      "\u001b[0;32m/opt/anaconda3/envs/pcnaDeep/lib/python3.7/site-packages/sklearn/model_selection/_search.py\u001b[0m in \u001b[0;36mfit\u001b[0;34m(self, X, y, groups, **fit_params)\u001b[0m\n\u001b[1;32m    839\u001b[0m                 \u001b[0;32mreturn\u001b[0m \u001b[0mresults\u001b[0m\u001b[0;34m\u001b[0m\u001b[0;34m\u001b[0m\u001b[0m\n\u001b[1;32m    840\u001b[0m \u001b[0;34m\u001b[0m\u001b[0m\n\u001b[0;32m--> 841\u001b[0;31m             \u001b[0mself\u001b[0m\u001b[0;34m.\u001b[0m\u001b[0m_run_search\u001b[0m\u001b[0;34m(\u001b[0m\u001b[0mevaluate_candidates\u001b[0m\u001b[0;34m)\u001b[0m\u001b[0;34m\u001b[0m\u001b[0;34m\u001b[0m\u001b[0m\n\u001b[0m\u001b[1;32m    842\u001b[0m \u001b[0;34m\u001b[0m\u001b[0m\n\u001b[1;32m    843\u001b[0m             \u001b[0;31m# multimetric is determined here because in the case of a callable\u001b[0m\u001b[0;34m\u001b[0m\u001b[0;34m\u001b[0m\u001b[0;34m\u001b[0m\u001b[0m\n",
      "\u001b[0;32m/opt/anaconda3/envs/pcnaDeep/lib/python3.7/site-packages/sklearn/model_selection/_search.py\u001b[0m in \u001b[0;36m_run_search\u001b[0;34m(self, evaluate_candidates)\u001b[0m\n\u001b[1;32m   1286\u001b[0m     \u001b[0;32mdef\u001b[0m \u001b[0m_run_search\u001b[0m\u001b[0;34m(\u001b[0m\u001b[0mself\u001b[0m\u001b[0;34m,\u001b[0m \u001b[0mevaluate_candidates\u001b[0m\u001b[0;34m)\u001b[0m\u001b[0;34m:\u001b[0m\u001b[0;34m\u001b[0m\u001b[0;34m\u001b[0m\u001b[0m\n\u001b[1;32m   1287\u001b[0m         \u001b[0;34m\"\"\"Search all candidates in param_grid\"\"\"\u001b[0m\u001b[0;34m\u001b[0m\u001b[0;34m\u001b[0m\u001b[0m\n\u001b[0;32m-> 1288\u001b[0;31m         \u001b[0mevaluate_candidates\u001b[0m\u001b[0;34m(\u001b[0m\u001b[0mParameterGrid\u001b[0m\u001b[0;34m(\u001b[0m\u001b[0mself\u001b[0m\u001b[0;34m.\u001b[0m\u001b[0mparam_grid\u001b[0m\u001b[0;34m)\u001b[0m\u001b[0;34m)\u001b[0m\u001b[0;34m\u001b[0m\u001b[0;34m\u001b[0m\u001b[0m\n\u001b[0m\u001b[1;32m   1289\u001b[0m \u001b[0;34m\u001b[0m\u001b[0m\n\u001b[1;32m   1290\u001b[0m \u001b[0;34m\u001b[0m\u001b[0m\n",
      "\u001b[0;32m/opt/anaconda3/envs/pcnaDeep/lib/python3.7/site-packages/sklearn/model_selection/_search.py\u001b[0m in \u001b[0;36mevaluate_candidates\u001b[0;34m(candidate_params, cv, more_results)\u001b[0m\n\u001b[1;32m    807\u001b[0m                                    (split_idx, (train, test)) in product(\n\u001b[1;32m    808\u001b[0m                                    \u001b[0menumerate\u001b[0m\u001b[0;34m(\u001b[0m\u001b[0mcandidate_params\u001b[0m\u001b[0;34m)\u001b[0m\u001b[0;34m,\u001b[0m\u001b[0;34m\u001b[0m\u001b[0;34m\u001b[0m\u001b[0m\n\u001b[0;32m--> 809\u001b[0;31m                                    enumerate(cv.split(X, y, groups))))\n\u001b[0m\u001b[1;32m    810\u001b[0m \u001b[0;34m\u001b[0m\u001b[0m\n\u001b[1;32m    811\u001b[0m                 \u001b[0;32mif\u001b[0m \u001b[0mlen\u001b[0m\u001b[0;34m(\u001b[0m\u001b[0mout\u001b[0m\u001b[0;34m)\u001b[0m \u001b[0;34m<\u001b[0m \u001b[0;36m1\u001b[0m\u001b[0;34m:\u001b[0m\u001b[0;34m\u001b[0m\u001b[0;34m\u001b[0m\u001b[0m\n",
      "\u001b[0;32m/opt/anaconda3/envs/pcnaDeep/lib/python3.7/site-packages/joblib/parallel.py\u001b[0m in \u001b[0;36m__call__\u001b[0;34m(self, iterable)\u001b[0m\n\u001b[1;32m   1052\u001b[0m \u001b[0;34m\u001b[0m\u001b[0m\n\u001b[1;32m   1053\u001b[0m             \u001b[0;32mwith\u001b[0m \u001b[0mself\u001b[0m\u001b[0;34m.\u001b[0m\u001b[0m_backend\u001b[0m\u001b[0;34m.\u001b[0m\u001b[0mretrieval_context\u001b[0m\u001b[0;34m(\u001b[0m\u001b[0;34m)\u001b[0m\u001b[0;34m:\u001b[0m\u001b[0;34m\u001b[0m\u001b[0;34m\u001b[0m\u001b[0m\n\u001b[0;32m-> 1054\u001b[0;31m                 \u001b[0mself\u001b[0m\u001b[0;34m.\u001b[0m\u001b[0mretrieve\u001b[0m\u001b[0;34m(\u001b[0m\u001b[0;34m)\u001b[0m\u001b[0;34m\u001b[0m\u001b[0;34m\u001b[0m\u001b[0m\n\u001b[0m\u001b[1;32m   1055\u001b[0m             \u001b[0;31m# Make sure that we get a last message telling us we are done\u001b[0m\u001b[0;34m\u001b[0m\u001b[0;34m\u001b[0m\u001b[0;34m\u001b[0m\u001b[0m\n\u001b[1;32m   1056\u001b[0m             \u001b[0melapsed_time\u001b[0m \u001b[0;34m=\u001b[0m \u001b[0mtime\u001b[0m\u001b[0;34m.\u001b[0m\u001b[0mtime\u001b[0m\u001b[0;34m(\u001b[0m\u001b[0;34m)\u001b[0m \u001b[0;34m-\u001b[0m \u001b[0mself\u001b[0m\u001b[0;34m.\u001b[0m\u001b[0m_start_time\u001b[0m\u001b[0;34m\u001b[0m\u001b[0;34m\u001b[0m\u001b[0m\n",
      "\u001b[0;32m/opt/anaconda3/envs/pcnaDeep/lib/python3.7/site-packages/joblib/parallel.py\u001b[0m in \u001b[0;36mretrieve\u001b[0;34m(self)\u001b[0m\n\u001b[1;32m    931\u001b[0m             \u001b[0;32mtry\u001b[0m\u001b[0;34m:\u001b[0m\u001b[0;34m\u001b[0m\u001b[0;34m\u001b[0m\u001b[0m\n\u001b[1;32m    932\u001b[0m                 \u001b[0;32mif\u001b[0m \u001b[0mgetattr\u001b[0m\u001b[0;34m(\u001b[0m\u001b[0mself\u001b[0m\u001b[0;34m.\u001b[0m\u001b[0m_backend\u001b[0m\u001b[0;34m,\u001b[0m \u001b[0;34m'supports_timeout'\u001b[0m\u001b[0;34m,\u001b[0m \u001b[0;32mFalse\u001b[0m\u001b[0;34m)\u001b[0m\u001b[0;34m:\u001b[0m\u001b[0;34m\u001b[0m\u001b[0;34m\u001b[0m\u001b[0m\n\u001b[0;32m--> 933\u001b[0;31m                     \u001b[0mself\u001b[0m\u001b[0;34m.\u001b[0m\u001b[0m_output\u001b[0m\u001b[0;34m.\u001b[0m\u001b[0mextend\u001b[0m\u001b[0;34m(\u001b[0m\u001b[0mjob\u001b[0m\u001b[0;34m.\u001b[0m\u001b[0mget\u001b[0m\u001b[0;34m(\u001b[0m\u001b[0mtimeout\u001b[0m\u001b[0;34m=\u001b[0m\u001b[0mself\u001b[0m\u001b[0;34m.\u001b[0m\u001b[0mtimeout\u001b[0m\u001b[0;34m)\u001b[0m\u001b[0;34m)\u001b[0m\u001b[0;34m\u001b[0m\u001b[0;34m\u001b[0m\u001b[0m\n\u001b[0m\u001b[1;32m    934\u001b[0m                 \u001b[0;32melse\u001b[0m\u001b[0;34m:\u001b[0m\u001b[0;34m\u001b[0m\u001b[0;34m\u001b[0m\u001b[0m\n\u001b[1;32m    935\u001b[0m                     \u001b[0mself\u001b[0m\u001b[0;34m.\u001b[0m\u001b[0m_output\u001b[0m\u001b[0;34m.\u001b[0m\u001b[0mextend\u001b[0m\u001b[0;34m(\u001b[0m\u001b[0mjob\u001b[0m\u001b[0;34m.\u001b[0m\u001b[0mget\u001b[0m\u001b[0;34m(\u001b[0m\u001b[0;34m)\u001b[0m\u001b[0;34m)\u001b[0m\u001b[0;34m\u001b[0m\u001b[0;34m\u001b[0m\u001b[0m\n",
      "\u001b[0;32m/opt/anaconda3/envs/pcnaDeep/lib/python3.7/site-packages/joblib/_parallel_backends.py\u001b[0m in \u001b[0;36mwrap_future_result\u001b[0;34m(future, timeout)\u001b[0m\n\u001b[1;32m    540\u001b[0m         AsyncResults.get from multiprocessing.\"\"\"\n\u001b[1;32m    541\u001b[0m         \u001b[0;32mtry\u001b[0m\u001b[0;34m:\u001b[0m\u001b[0;34m\u001b[0m\u001b[0;34m\u001b[0m\u001b[0m\n\u001b[0;32m--> 542\u001b[0;31m             \u001b[0;32mreturn\u001b[0m \u001b[0mfuture\u001b[0m\u001b[0;34m.\u001b[0m\u001b[0mresult\u001b[0m\u001b[0;34m(\u001b[0m\u001b[0mtimeout\u001b[0m\u001b[0;34m=\u001b[0m\u001b[0mtimeout\u001b[0m\u001b[0;34m)\u001b[0m\u001b[0;34m\u001b[0m\u001b[0;34m\u001b[0m\u001b[0m\n\u001b[0m\u001b[1;32m    543\u001b[0m         \u001b[0;32mexcept\u001b[0m \u001b[0mCfTimeoutError\u001b[0m \u001b[0;32mas\u001b[0m \u001b[0me\u001b[0m\u001b[0;34m:\u001b[0m\u001b[0;34m\u001b[0m\u001b[0;34m\u001b[0m\u001b[0m\n\u001b[1;32m    544\u001b[0m             \u001b[0;32mraise\u001b[0m \u001b[0mTimeoutError\u001b[0m \u001b[0;32mfrom\u001b[0m \u001b[0me\u001b[0m\u001b[0;34m\u001b[0m\u001b[0;34m\u001b[0m\u001b[0m\n",
      "\u001b[0;32m/opt/anaconda3/envs/pcnaDeep/lib/python3.7/concurrent/futures/_base.py\u001b[0m in \u001b[0;36mresult\u001b[0;34m(self, timeout)\u001b[0m\n\u001b[1;32m    428\u001b[0m                 \u001b[0;32mreturn\u001b[0m \u001b[0mself\u001b[0m\u001b[0;34m.\u001b[0m\u001b[0m__get_result\u001b[0m\u001b[0;34m(\u001b[0m\u001b[0;34m)\u001b[0m\u001b[0;34m\u001b[0m\u001b[0;34m\u001b[0m\u001b[0m\n\u001b[1;32m    429\u001b[0m \u001b[0;34m\u001b[0m\u001b[0m\n\u001b[0;32m--> 430\u001b[0;31m             \u001b[0mself\u001b[0m\u001b[0;34m.\u001b[0m\u001b[0m_condition\u001b[0m\u001b[0;34m.\u001b[0m\u001b[0mwait\u001b[0m\u001b[0;34m(\u001b[0m\u001b[0mtimeout\u001b[0m\u001b[0;34m)\u001b[0m\u001b[0;34m\u001b[0m\u001b[0;34m\u001b[0m\u001b[0m\n\u001b[0m\u001b[1;32m    431\u001b[0m \u001b[0;34m\u001b[0m\u001b[0m\n\u001b[1;32m    432\u001b[0m             \u001b[0;32mif\u001b[0m \u001b[0mself\u001b[0m\u001b[0;34m.\u001b[0m\u001b[0m_state\u001b[0m \u001b[0;32min\u001b[0m \u001b[0;34m[\u001b[0m\u001b[0mCANCELLED\u001b[0m\u001b[0;34m,\u001b[0m \u001b[0mCANCELLED_AND_NOTIFIED\u001b[0m\u001b[0;34m]\u001b[0m\u001b[0;34m:\u001b[0m\u001b[0;34m\u001b[0m\u001b[0;34m\u001b[0m\u001b[0m\n",
      "\u001b[0;32m/opt/anaconda3/envs/pcnaDeep/lib/python3.7/threading.py\u001b[0m in \u001b[0;36mwait\u001b[0;34m(self, timeout)\u001b[0m\n\u001b[1;32m    294\u001b[0m         \u001b[0;32mtry\u001b[0m\u001b[0;34m:\u001b[0m    \u001b[0;31m# restore state no matter what (e.g., KeyboardInterrupt)\u001b[0m\u001b[0;34m\u001b[0m\u001b[0;34m\u001b[0m\u001b[0m\n\u001b[1;32m    295\u001b[0m             \u001b[0;32mif\u001b[0m \u001b[0mtimeout\u001b[0m \u001b[0;32mis\u001b[0m \u001b[0;32mNone\u001b[0m\u001b[0;34m:\u001b[0m\u001b[0;34m\u001b[0m\u001b[0;34m\u001b[0m\u001b[0m\n\u001b[0;32m--> 296\u001b[0;31m                 \u001b[0mwaiter\u001b[0m\u001b[0;34m.\u001b[0m\u001b[0macquire\u001b[0m\u001b[0;34m(\u001b[0m\u001b[0;34m)\u001b[0m\u001b[0;34m\u001b[0m\u001b[0;34m\u001b[0m\u001b[0m\n\u001b[0m\u001b[1;32m    297\u001b[0m                 \u001b[0mgotit\u001b[0m \u001b[0;34m=\u001b[0m \u001b[0;32mTrue\u001b[0m\u001b[0;34m\u001b[0m\u001b[0;34m\u001b[0m\u001b[0m\n\u001b[1;32m    298\u001b[0m             \u001b[0;32melse\u001b[0m\u001b[0;34m:\u001b[0m\u001b[0;34m\u001b[0m\u001b[0;34m\u001b[0m\u001b[0m\n",
      "\u001b[0;31mKeyboardInterrupt\u001b[0m: "
     ]
    }
   ],
   "source": [
    "# Grid search on best params\n",
    "from sklearn.model_selection import GridSearchCV \n",
    "from sklearn.model_selection import cross_val_score   \n",
    "from sklearn.svm import SVC \n",
    "\n",
    "def svm_cross_validation(train_x, train_y):       \n",
    "    model = SVC(kernel='rbf', probability=True, class_weight='balanced')    \n",
    "    param_grid = {'C': C_range, 'gamma': gamma_range}    \n",
    "    grid_search = GridSearchCV(model, param_grid, n_jobs = 2, verbose=1, scoring='f1')    \n",
    "    grid_search.fit(train_x, train_y)    \n",
    "    best_parameters = grid_search.best_estimator_.get_params()    \n",
    "    for para, val in list(best_parameters.items()):    \n",
    "        print(para, val)    \n",
    "    model = SVC(kernel='rbf', C=best_parameters['C'], gamma=best_parameters['gamma'], probability=True, class_weight='balanced')    \n",
    "    model.fit(train_x, train_y)    \n",
    "    return model, grid_search.cv_results_\n",
    "\n",
    "model, results = svm_cross_validation(X_resampled_smote, y_resampled_smote)\n",
    "scores = cross_val_score(model, X_resampled_smote, y_resampled_smote, cv=5)\n",
    "print(scores)"
   ]
  },
  {
   "cell_type": "code",
   "execution_count": 19,
   "id": "pharmaceutical-constant",
   "metadata": {},
   "outputs": [],
   "source": [
    "score = results['mean_test_score']\n",
    "gamma = results['param_gamma']\n",
    "c = list(results['param_C'])"
   ]
  },
  {
   "cell_type": "code",
   "execution_count": 20,
   "id": "ethical-rebound",
   "metadata": {},
   "outputs": [
    {
     "data": {
      "text/plain": [
       "<matplotlib.collections.PathCollection at 0x7fa7504a5450>"
      ]
     },
     "execution_count": 20,
     "metadata": {},
     "output_type": "execute_result"
    },
    {
     "data": {
      "image/png": "[encoded data removed]",
      "text/plain": [
       "<Figure size 432x288 with 1 Axes>"
      ]
     },
     "metadata": {
      "needs_background": "light"
     },
     "output_type": "display_data"
    }
   ],
   "source": [
    "import matplotlib.pyplot as plt\n",
    "plt.yscale(\"log\")\n",
    "plt.xscale(\"log\")\n",
    "plt.scatter(x=c, y=gamma, c=score, cmap='hot')"
   ]
  },
  {
   "cell_type": "code",
   "execution_count": 20,
   "id": "actual-tablet",
   "metadata": {},
   "outputs": [
    {
     "data": {
      "text/plain": [
       "SVC(C=100, class_weight='balanced', gamma=1, probability=True)"
      ]
     },
     "execution_count": 20,
     "metadata": {},
     "output_type": "execute_result"
    }
   ],
   "source": [
    "from sklearn.svm import SVC \n",
    "model = SVC(kernel='rbf', C=100, gamma=1, probability=True, class_weight='balanced')    \n",
    "model.fit(X_resampled_smote, y_resampled_smote)"
   ]
  },
  {
   "cell_type": "markdown",
   "id": "vertical-segment",
   "metadata": {},
   "source": [
    "__Save the model__"
   ]
  },
  {
   "cell_type": "code",
   "execution_count": 21,
   "id": "modified-execution",
   "metadata": {},
   "outputs": [
    {
     "data": {
      "text/plain": [
       "['/Users/jefft/Desktop/Chan lab/SRTP/ImageAnalysis/PCNAdeep/examples/MCF10A/mitosis_svm.m']"
      ]
     },
     "execution_count": 21,
     "metadata": {},
     "output_type": "execute_result"
    }
   ],
   "source": [
    "import joblib\n",
    "joblib.dump(model, os.path.join(example_root, 'MCF10A', 'mitosis_svm.m'))"
   ]
  },
  {
   "cell_type": "markdown",
   "id": "determined-richardson",
   "metadata": {},
   "source": [
    "__Load the model and predict__"
   ]
  },
  {
   "cell_type": "code",
   "execution_count": 22,
   "id": "plain-cooking",
   "metadata": {},
   "outputs": [
    {
     "name": "stdout",
     "output_type": "stream",
     "text": [
      "[[0.84140449 0.55515782]]\n"
     ]
    },
    {
     "data": {
      "text/plain": [
       "(array([229.,  16.,   1.,   0.,   1.,   0.,   1.,   0.,   0.,   1.]),\n",
       " array([6.18465131e-05, 8.41961108e-02, 1.68330375e-01, 2.52464639e-01,\n",
       "        3.36598904e-01, 4.20733168e-01, 5.04867432e-01, 5.89001697e-01,\n",
       "        6.73135961e-01, 7.57270225e-01, 8.41404489e-01]),\n",
       " <BarContainer object of 10 artists>)"
      ]
     },
     "execution_count": 22,
     "metadata": {},
     "output_type": "execute_result"
    },
    {
     "data": {
      "image/png": "[encoded data removed]",
      "text/plain": [
       "<Figure size 432x288 with 1 Axes>"
      ]
     },
     "metadata": {
      "needs_background": "light"
     },
     "output_type": "display_data"
    }
   ],
   "source": [
    "import joblib\n",
    "clf = joblib.load(os.path.join(example_root, 'MCF10A', 'mitosis_svm.m'))\n",
    "ipt = X_resampled_smote[np.where(y_resampled_smote==0)]\n",
    "out = clf.predict_proba(ipt)\n",
    "print(out[np.where(out[:,1]>0.5),1])\n",
    "import matplotlib.pyplot as plt\n",
    "plt.hist(out[:,1])"
   ]
  },
  {
   "cell_type": "code",
   "execution_count": 23,
   "id": "adverse-labor",
   "metadata": {},
   "outputs": [
    {
     "data": {
      "text/plain": [
       "0.996"
      ]
     },
     "execution_count": 23,
     "metadata": {},
     "output_type": "execute_result"
    }
   ],
   "source": [
    "from sklearn.metrics import f1_score\n",
    "out = np.round(clf.predict_proba(X_resampled_smote))[:,1]\n",
    "f1_score(y_resampled_smote, out)"
   ]
  },
  {
   "cell_type": "markdown",
   "id": "marine-italy",
   "metadata": {},
   "source": [
    "---\n",
    "\n",
    "__For using SVM model in real tracking environment through `pcnaDeep.refiner.Refiner`__, see [Getting started](getting_started.ipynb)."
   ]
  }
 ],
 "metadata": {
  "kernelspec": {
   "display_name": "Python 3",
   "language": "python",
   "name": "python3"
  },
  "language_info": {
   "codemirror_mode": {
    "name": "ipython",
    "version": 3
   },
   "file_extension": ".py",
   "mimetype": "text/x-python",
   "name": "python",
   "nbconvert_exporter": "python",
   "pygments_lexer": "ipython3",
   "version": "3.7.9"
  },
  "varInspector": {
   "cols": {
    "lenName": 16,
    "lenType": 16,
    "lenVar": 40
   },
   "kernels_config": {
    "python": {
     "delete_cmd_postfix": "",
     "delete_cmd_prefix": "del ",
     "library": "var_list.py",
     "varRefreshCmd": "print(var_dic_list())"
    },
    "r": {
     "delete_cmd_postfix": ") ",
     "delete_cmd_prefix": "rm(",
     "library": "var_list.r",
     "varRefreshCmd": "cat(var_dic_list()) "
    }
   },
   "position": {
    "height": "144px",
    "left": "1011px",
    "right": "20px",
    "top": "121px",
    "width": "350px"
   },
   "types_to_exclude": [
    "module",
    "function",
    "builtin_function_or_method",
    "instance",
    "_Feature"
   ],
   "window_display": false
  }
 },
 "nbformat": 4,
 "nbformat_minor": 5
}
